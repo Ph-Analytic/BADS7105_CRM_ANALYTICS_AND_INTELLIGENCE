{
  "nbformat": 4,
  "nbformat_minor": 0,
  "metadata": {
    "colab": {
      "name": "Voice Customer.ipynb",
      "provenance": [],
      "mount_file_id": "1MYvO37lUADCvqCFcoOqQQA_4v0pHeGhS",
      "authorship_tag": "ABX9TyMlE1VXCyRYbrwIOrc4CURv",
      "include_colab_link": true
    },
    "kernelspec": {
      "name": "python3",
      "display_name": "Python 3"
    },
    "language_info": {
      "name": "python"
    }
  },
  "cells": [
    {
      "cell_type": "markdown",
      "metadata": {
        "id": "view-in-github",
        "colab_type": "text"
      },
      "source": [
        "<a href=\"https://colab.research.google.com/github/Ph-Analytic/BADS7105_CRM_ANALYTICS_AND_INTELLIGENCE/blob/Ph-Analytic-patch-1/Voice_Customer.ipynb\" target=\"_parent\"><img src=\"https://colab.research.google.com/assets/colab-badge.svg\" alt=\"Open In Colab\"/></a>"
      ]
    },
    {
      "cell_type": "markdown",
      "metadata": {
        "id": "JySAMhJ1fBbp"
      },
      "source": [
        "Voice Customer : Shabu shabu Restaurant"
      ]
    },
    {
      "cell_type": "code",
      "metadata": {
        "colab": {
          "base_uri": "https://localhost:8080/"
        },
        "id": "vrxsBp958bp9",
        "outputId": "bdf0e420-f241-46eb-e98a-808719dc86e7"
      },
      "source": [
        "!pip install --upgrade pythainlp\n",
        "!pip install pyLDAvis"
      ],
      "execution_count": null,
      "outputs": [
        {
          "output_type": "stream",
          "text": [
            "Requirement already up-to-date: pythainlp in /usr/local/lib/python3.7/dist-packages (2.3.1)\n",
            "Requirement already satisfied, skipping upgrade: tinydb>=3.0 in /usr/local/lib/python3.7/dist-packages (from pythainlp) (4.4.0)\n",
            "Requirement already satisfied, skipping upgrade: python-crfsuite>=0.9.6 in /usr/local/lib/python3.7/dist-packages (from pythainlp) (0.9.7)\n",
            "Requirement already satisfied, skipping upgrade: requests>=2.22.0 in /usr/local/lib/python3.7/dist-packages (from pythainlp) (2.23.0)\n",
            "Requirement already satisfied, skipping upgrade: chardet<4,>=3.0.2 in /usr/local/lib/python3.7/dist-packages (from requests>=2.22.0->pythainlp) (3.0.4)\n",
            "Requirement already satisfied, skipping upgrade: urllib3!=1.25.0,!=1.25.1,<1.26,>=1.21.1 in /usr/local/lib/python3.7/dist-packages (from requests>=2.22.0->pythainlp) (1.24.3)\n",
            "Requirement already satisfied, skipping upgrade: certifi>=2017.4.17 in /usr/local/lib/python3.7/dist-packages (from requests>=2.22.0->pythainlp) (2020.12.5)\n",
            "Requirement already satisfied, skipping upgrade: idna<3,>=2.5 in /usr/local/lib/python3.7/dist-packages (from requests>=2.22.0->pythainlp) (2.10)\n",
            "Requirement already satisfied: pyLDAvis in /usr/local/lib/python3.7/dist-packages (3.3.1)\n",
            "Requirement already satisfied: numexpr in /usr/local/lib/python3.7/dist-packages (from pyLDAvis) (2.7.3)\n",
            "Requirement already satisfied: jinja2 in /usr/local/lib/python3.7/dist-packages (from pyLDAvis) (2.11.3)\n",
            "Requirement already satisfied: scikit-learn in /usr/local/lib/python3.7/dist-packages (from pyLDAvis) (0.22.2.post1)\n",
            "Requirement already satisfied: joblib in /usr/local/lib/python3.7/dist-packages (from pyLDAvis) (1.0.1)\n",
            "Requirement already satisfied: sklearn in /usr/local/lib/python3.7/dist-packages (from pyLDAvis) (0.0)\n",
            "Requirement already satisfied: future in /usr/local/lib/python3.7/dist-packages (from pyLDAvis) (0.16.0)\n",
            "Requirement already satisfied: scipy in /usr/local/lib/python3.7/dist-packages (from pyLDAvis) (1.4.1)\n",
            "Requirement already satisfied: gensim in /usr/local/lib/python3.7/dist-packages (from pyLDAvis) (3.6.0)\n",
            "Requirement already satisfied: pandas>=1.2.0 in /usr/local/lib/python3.7/dist-packages (from pyLDAvis) (1.2.4)\n",
            "Requirement already satisfied: funcy in /usr/local/lib/python3.7/dist-packages (from pyLDAvis) (1.15)\n",
            "Requirement already satisfied: setuptools in /usr/local/lib/python3.7/dist-packages (from pyLDAvis) (56.1.0)\n",
            "Requirement already satisfied: numpy>=1.20.0 in /usr/local/lib/python3.7/dist-packages (from pyLDAvis) (1.20.2)\n",
            "Requirement already satisfied: MarkupSafe>=0.23 in /usr/local/lib/python3.7/dist-packages (from jinja2->pyLDAvis) (1.1.1)\n",
            "Requirement already satisfied: six>=1.5.0 in /usr/local/lib/python3.7/dist-packages (from gensim->pyLDAvis) (1.15.0)\n",
            "Requirement already satisfied: smart-open>=1.2.1 in /usr/local/lib/python3.7/dist-packages (from gensim->pyLDAvis) (5.0.0)\n",
            "Requirement already satisfied: python-dateutil>=2.7.3 in /usr/local/lib/python3.7/dist-packages (from pandas>=1.2.0->pyLDAvis) (2.8.1)\n",
            "Requirement already satisfied: pytz>=2017.3 in /usr/local/lib/python3.7/dist-packages (from pandas>=1.2.0->pyLDAvis) (2018.9)\n"
          ],
          "name": "stdout"
        }
      ]
    },
    {
      "cell_type": "code",
      "metadata": {
        "id": "T7YQnbKh_ONf"
      },
      "source": [
        "import pandas as pd\n",
        "import pythainlp\n",
        "import gensim\n",
        "import pyLDAvis.gensim_models\n",
        "pyLDAvis.enable_notebook()\n",
        "import warnings\n",
        "warnings.filterwarnings(\"ignore\",category=DeprecationWarning)"
      ],
      "execution_count": null,
      "outputs": []
    },
    {
      "cell_type": "code",
      "metadata": {
        "id": "6lnMFzHxDcmD"
      },
      "source": [
        "#from google.colab import files \n",
        "#uploaded = files.upload()"
      ],
      "execution_count": null,
      "outputs": []
    },
    {
      "cell_type": "code",
      "metadata": {
        "id": "7DMwmfMJCuZy"
      },
      "source": [
        "import io\n",
        "df = pd.read_csv(io.StringIO(uploaded['CustomerReviews.csv'].decode('utf-8')))"
      ],
      "execution_count": null,
      "outputs": []
    },
    {
      "cell_type": "markdown",
      "metadata": {
        "id": "EVrheQ_SAK_N"
      },
      "source": [
        ""
      ]
    },
    {
      "cell_type": "code",
      "metadata": {
        "colab": {
          "base_uri": "https://localhost:8080/"
        },
        "id": "x_H3bWkmAPzz",
        "outputId": "6361e595-af7d-49cb-8eb3-0a0353bdebcc"
      },
      "source": [
        "df.head"
      ],
      "execution_count": null,
      "outputs": [
        {
          "output_type": "execute_result",
          "data": {
            "text/plain": [
              "<bound method NDFrame.head of     Review ID  ... Rating\n",
              "0           1  ...    5.0\n",
              "1           2  ...    5.0\n",
              "2           3  ...    4.0\n",
              "3           4  ...    4.0\n",
              "4           5  ...    5.0\n",
              "5           6  ...    4.0\n",
              "6           7  ...    4.0\n",
              "7           8  ...    4.0\n",
              "8           9  ...    4.0\n",
              "9          10  ...    3.0\n",
              "10         11  ...    3.0\n",
              "11         12  ...    3.0\n",
              "12         13  ...    4.0\n",
              "13         14  ...    3.0\n",
              "14         15  ...    4.0\n",
              "15         16  ...    4.0\n",
              "16         17  ...    4.0\n",
              "17         18  ...    4.0\n",
              "18         19  ...    3.0\n",
              "19         20  ...    5.0\n",
              "20         21  ...    NaN\n",
              "\n",
              "[21 rows x 7 columns]>"
            ]
          },
          "metadata": {
            "tags": []
          },
          "execution_count": 75
        }
      ]
    },
    {
      "cell_type": "code",
      "metadata": {
        "colab": {
          "base_uri": "https://localhost:8080/"
        },
        "id": "0MKvG6PCELMl",
        "outputId": "6c10f987-e1b3-4803-9316-b277d8372f24"
      },
      "source": [
        "df.info()"
      ],
      "execution_count": null,
      "outputs": [
        {
          "output_type": "stream",
          "text": [
            "<class 'pandas.core.frame.DataFrame'>\n",
            "RangeIndex: 21 entries, 0 to 20\n",
            "Data columns (total 7 columns):\n",
            " #   Column         Non-Null Count  Dtype  \n",
            "---  ------         --------------  -----  \n",
            " 0   Review ID      21 non-null     int64  \n",
            " 1   Restaurant_ID  21 non-null     object \n",
            " 2   Restaurant     21 non-null     object \n",
            " 3   User           21 non-null     object \n",
            " 4   Headline       21 non-null     object \n",
            " 5   Review         21 non-null     object \n",
            " 6   Rating         20 non-null     float64\n",
            "dtypes: float64(1), int64(1), object(5)\n",
            "memory usage: 1.3+ KB\n"
          ],
          "name": "stdout"
        }
      ]
    },
    {
      "cell_type": "code",
      "metadata": {
        "id": "tl-pfj9DDtrW"
      },
      "source": [
        "stopwords=list(pythainlp.corpus.thai_stopwords())\n",
        "removed_words = [' ', '   ' , '\\n','   ', 'ร้าน', ' (' ,  ')','😆','-']\n",
        "screening_words = stopwords + removed_words\n",
        "def tokenize_with_space(sentence):\n",
        "  merged = ' '\n",
        "  words = pythainlp.word_tokenize(str(sentence), engine='newmm')\n",
        "  for word in words:\n",
        "     if word not in screening_words:\n",
        "       merged = merged +  ',' + word\n",
        "  return merged[1:]"
      ],
      "execution_count": null,
      "outputs": []
    },
    {
      "cell_type": "code",
      "metadata": {
        "id": "T-fjw48CZeRd"
      },
      "source": [
        "df['Review_tokenized'] = df['Review'].apply(lambda x: tokenize_with_space(x))"
      ],
      "execution_count": null,
      "outputs": []
    },
    {
      "cell_type": "code",
      "metadata": {
        "colab": {
          "base_uri": "https://localhost:8080/",
          "height": 414
        },
        "id": "nN4HwN_eZjp9",
        "outputId": "2abb2e12-282e-4542-d281-2c155c5bfbe2"
      },
      "source": [
        "df.tail()"
      ],
      "execution_count": null,
      "outputs": [
        {
          "output_type": "execute_result",
          "data": {
            "text/html": [
              "<div>\n",
              "<style scoped>\n",
              "    .dataframe tbody tr th:only-of-type {\n",
              "        vertical-align: middle;\n",
              "    }\n",
              "\n",
              "    .dataframe tbody tr th {\n",
              "        vertical-align: top;\n",
              "    }\n",
              "\n",
              "    .dataframe thead th {\n",
              "        text-align: right;\n",
              "    }\n",
              "</style>\n",
              "<table border=\"1\" class=\"dataframe\">\n",
              "  <thead>\n",
              "    <tr style=\"text-align: right;\">\n",
              "      <th></th>\n",
              "      <th>Review ID</th>\n",
              "      <th>Restaurant_ID</th>\n",
              "      <th>Restaurant</th>\n",
              "      <th>User</th>\n",
              "      <th>Headline</th>\n",
              "      <th>Review</th>\n",
              "      <th>Rating</th>\n",
              "      <th>Review_tokenized</th>\n",
              "    </tr>\n",
              "  </thead>\n",
              "  <tbody>\n",
              "    <tr>\n",
              "      <th>16</th>\n",
              "      <td>17</td>\n",
              "      <td>436045MJ-ข้าน้อยขอชาบู</td>\n",
              "      <td>ข้าน้อยขอชาบู</td>\n",
              "      <td>ployynp</td>\n",
              "      <td>บุฟเฟ่ต์ชาบูและพิซซ่าไม่อั้นในราคา 199 บาท เน้...</td>\n",
              "      <td>หลังจากที่เคยลองสาขายูเนี่ยนมอลล์ไป รอบนี้มาที...</td>\n",
              "      <td>4.0</td>\n",
              "      <td>,หลังจากที่,ลอง,สาขา,ยู,นม,อลล์,รอบ,สาขา,เดอะ,...</td>\n",
              "    </tr>\n",
              "    <tr>\n",
              "      <th>17</th>\n",
              "      <td>18</td>\n",
              "      <td>436045MJ-ข้าน้อยขอชาบู</td>\n",
              "      <td>ข้าน้อยขอชาบู</td>\n",
              "      <td>27a91236fe5e4559a4f097c97a480781</td>\n",
              "      <td>ร้านบุฟเฟ่ต์ ราคามิตรภาพ อยู่ชั้น4 ติดโรงหนัง ...</td>\n",
              "      <td>ร้านบุฟเฟ่ต์ที่มีโปรโมชั่นหัวละ199บาท ไม่รวมน้...</td>\n",
              "      <td>4.0</td>\n",
              "      <td>,บุฟเฟ่ต์,โปรโมชั่น,หัว,199,บาท,น้ำ,VAT,ทาน,ธร...</td>\n",
              "    </tr>\n",
              "    <tr>\n",
              "      <th>18</th>\n",
              "      <td>19</td>\n",
              "      <td>436045MJ-ข้าน้อยขอชาบู</td>\n",
              "      <td>ข้าน้อยขอชาบู</td>\n",
              "      <td>0b81d251e4db486f9bcdba73b374ed99</td>\n",
              "      <td>ของหลากหลาย ปนๆ งงๆ นิดหน่อย</td>\n",
              "      <td>เคยรู้จักร้านนี้จากที่ union mall ไม่เคยได้ลอง...</td>\n",
              "      <td>3.0</td>\n",
              "      <td>,รู้จัก,union,mall,ลอง,กิน,จำได้,ขึ้นใจ,ชื่อ,ช...</td>\n",
              "    </tr>\n",
              "    <tr>\n",
              "      <th>19</th>\n",
              "      <td>20</td>\n",
              "      <td>436045MJ-ข้าน้อยขอชาบู</td>\n",
              "      <td>ข้าน้อยขอชาบู</td>\n",
              "      <td>40e0e087f3914fd49a8933b5a29936ca</td>\n",
              "      <td>อร่อยมากค่ะ คุ้มค่าสมราคา บุฟเฟ่หมูผักต่างๆ รว...</td>\n",
              "      <td>อร่อยมากค่ะ คุ้มค่าสมราคา บุฟเฟ่หมูผักต่างๆ รว...</td>\n",
              "      <td>5.0</td>\n",
              "      <td>,อร่อย,คุ้มค่า,สมราคา,บุ,ฟเฟ่,หมู,ผัก,น้ำ,จบ,2...</td>\n",
              "    </tr>\n",
              "    <tr>\n",
              "      <th>20</th>\n",
              "      <td>21</td>\n",
              "      <td>436045MJ-ข้าน้อยขอชาบู</td>\n",
              "      <td>ข้าน้อยขอชาบู</td>\n",
              "      <td>41841cb99ea243a3a8d4b006e946c586</td>\n",
              "      <td>แม้จะแปลกบ้าง แต่ก็ถือว่าอยู่ในเกณฑ์ที่ดี มีอา...</td>\n",
              "      <td>ก็ตามที่เขียนเลยครับ ว่า ถ้าจะจ่ายในราคา 199 บ...</td>\n",
              "      <td>NaN</td>\n",
              "      <td>,จ่าย,ราคา,199,บาท,จ่าย,เงินสด,ราคา,น้ำ,VAT,7,...</td>\n",
              "    </tr>\n",
              "  </tbody>\n",
              "</table>\n",
              "</div>"
            ],
            "text/plain": [
              "    Review ID  ...                                   Review_tokenized\n",
              "16         17  ...  ,หลังจากที่,ลอง,สาขา,ยู,นม,อลล์,รอบ,สาขา,เดอะ,...\n",
              "17         18  ...  ,บุฟเฟ่ต์,โปรโมชั่น,หัว,199,บาท,น้ำ,VAT,ทาน,ธร...\n",
              "18         19  ...  ,รู้จัก,union,mall,ลอง,กิน,จำได้,ขึ้นใจ,ชื่อ,ช...\n",
              "19         20  ...  ,อร่อย,คุ้มค่า,สมราคา,บุ,ฟเฟ่,หมู,ผัก,น้ำ,จบ,2...\n",
              "20         21  ...  ,จ่าย,ราคา,199,บาท,จ่าย,เงินสด,ราคา,น้ำ,VAT,7,...\n",
              "\n",
              "[5 rows x 8 columns]"
            ]
          },
          "metadata": {
            "tags": []
          },
          "execution_count": 80
        }
      ]
    },
    {
      "cell_type": "code",
      "metadata": {
        "id": "6YU96p-eiND2"
      },
      "source": [
        "df.to_csv(r'Path where you want to store the exported CSV file\\File Name.csv', index = False)"
      ],
      "execution_count": null,
      "outputs": []
    },
    {
      "cell_type": "code",
      "metadata": {
        "id": "PmtghwUdaG_d"
      },
      "source": [
        "documents = df['Review_tokenized'].to_list()\n",
        "texts = [[text for text in doc.split(',')] for doc in documents]\n",
        "dictionary = gensim.corpora.Dictionary(texts)"
      ],
      "execution_count": null,
      "outputs": []
    },
    {
      "cell_type": "code",
      "metadata": {
        "colab": {
          "base_uri": "https://localhost:8080/"
        },
        "id": "ZhTH-bf8b6fV",
        "outputId": "037f9859-ef8a-49e7-dc47-52b8aef1c75e"
      },
      "source": [
        "print(dictionary.token2id.keys())"
      ],
      "execution_count": null,
      "outputs": [
        {
          "output_type": "stream",
          "text": [
            "dict_keys(['', '1', '4', '560', 'กิน', 'ข้างนอก', 'ความต้องการ', 'คอ', 'คุณภาพ', 'คุ้ม', 'จำกัด', 'ซุป', 'ดำ', 'ดี', 'ดีมาก', 'ถาด', 'ถาม', 'น่ารัก', 'น้ำ', 'น้ำจิ้ม', 'บริการ', 'บาท', 'ประทับใจ', 'พนักงาน', 'พอกับ', 'ภาพ', 'รสชาติ', 'ราคา', 'สรุป', 'สะอาดสะอ้าน', 'สัน', 'หลากหลาย', 'อร่อย', 'อันนี้', 'อาหาร', 'เคลม', 'เซ็ท', 'เต้าเจี้ยว', 'เนื้อ', 'เป็ด', 'เผ็ด', 'แบบนี้', 'แปลก', 'แฟน', 'โดยรวม', 'โมจิ', 'ใส่ใจ', 'ไม่ต้อง', 'ไอติม', '\\u200b', '           ', '21', '30', '9', 'CTW', 'Terminal', 'กา', 'การงด', 'คิดถึง', 'ชาบู', 'ญี่ปุ่น', 'ฐาน', 'ทะยอย', 'ทำงาน', 'ที่ทาง', 'นาที', 'นึกถึง', 'พนักงานบริการ', 'พระราม', 'พรีเมียม', 'พาราไดซ์', 'มาตรา', 'มีโอ', 'รายละเอียด', 'ลูกค้า', 'สมาทาน', 'สาขา', 'สู้', 'ออร์เดอร์', 'เครื่องดื่ม', 'เค้า', 'เจอ', 'เป็นกันเอง', 'เหวี่ยง', 'แจ้ง', 'โม', 'โม่', 'โอเค', '++', '2', '555', '600', ':', '::', 'กก', 'กรุบ', 'กั้น', 'ของหวาน', 'คนละ', 'คาว', 'คุ', 'คุ้มค่า', 'จาน', 'จิ้ม', 'จืด', 'ฉาก', 'ชอบ', 'ชาเขียว', 'ชิ้น', 'ซอย', 'ซอส', 'ตก', 'ตะ', 'ตัก', 'ตามน้ำ', 'ต่างกัน', 'ถั่ว', 'ถ่ายรูป', 'ทาน', 'นั่ง', 'นุ่ม', 'บด', 'บาร์', 'บู', 'ผัก', 'ภาษา', 'มีชื่อ', 'ยังมี', 'รส', 'รี่', 'รู้สึก', 'ลอง', 'ลิ้น', 'ลืม', 'ววว', 'สด', 'สตอ', 'สั่ง', 'สามรส', 'ส่วนตัว', 'หนึบ', 'หม้อ', 'หวาน', 'อยากได้', 'เข้มข้น', 'เข้ากัน', 'เค็ม', 'เนื้อวัว', 'เนื้อสัตว์', 'เนื้อหมู', 'เบอ', 'เป็นผู้ใหญ่', 'เลือก', 'เสิร์ฟ', 'เหนียว', 'เห็ด', 'แดง', 'แตก', 'แตา', 'แนว', 'แย้', 'โควิด', 'โต๊ะ', 'โร', 'ใส', 'ไก่', 'ไข่', 'ไดฟูกุ', 'ไผ่', 'ไม้', 'ไหว', '(', '3', 'ข้าว', 'จ่าย', 'ถ้วย', 'ธรรมดา', 'ส', 'ออ', 'เกินไป', 'เลี่ยน', 'โปร', 'โหด', 'ไว', 'ไอศกรีม', '  ', 'ขนม', 'คุณภาพดี', 'ตัดสินใจ', 'ต่าง ๆ', 'ที่จะ', 'ที่นั่ง', 'บัตรเครดิต', 'มมาก', 'ลูกชิ้น', 'สบายดี', 'หน้า', 'หอ', 'เดิน', 'เด็ก', 'เส้น', 'เหมือนกับ', 'แคบ', 'ได้กลิ่น', 'คามี', 'ซึ', 'นะคะ', 'บุ', 'บ๋วย', 'พอน', 'ฟเฟ่', 'รา', 'สาย', 'หยิบ', 'โซน', 'โปรโมชั่น', '+', '/', '20', '4.0', '5', 'Menu', 'Number', 'กรรมวิธี', 'กะปิ', 'ก์', 'คน', 'คะแนน', 'ชุด', 'ดังเดิม', 'บุฟเฟ่ต์', 'ประ', 'พารา', 'มอ', 'ยุค', 'ร้านอาหาร', 'ล', 'สุกี้', 'สไตล์', 'ส์', 'หมู', 'หลาก', 'หลายชนิด', 'เดอะ', 'เมนู', 'แบบฉบับ', 'แบ่ง', 'ได', 'ไทย', '–', '!!!!', '500', 'กาแฟ', 'งวด', 'ตอนที่', 'ตำ', 'ติด', 'ทั่วไป', 'น', 'บ๊วย', 'ยุ', 'ร้อน', 'ลุย', 'สุกี้ยากี้', 'อยู่แล้ว', 'ออสเตรเลีย', 'เป็นปกติ', 'เฟรนไชส์', 'เรื่อง', 'เหมาะสม', 'แนะนำ', 'โช', 'ไข่ไก่', 'ไอศครีม', '..', '399', 'กุ้ง', 'ของกิน', 'ขา', 'ชิ', 'ซูชิ', 'ซ่า', 'ตอน', 'ตอนนี้', 'นิดนึง', 'ปุระ', 'ปูอัด', 'ม', 'ละลานตา', 'สายพาน', 'หิว', 'ฮ่า', 'าน', 'เกี๊ยว', 'เท', 'เทียบ', 'เล่น', 'แพง', 'แล้วก็', 'ไม่งั้น', 'กลาย', 'กี่', 'ชั่วคราว', 'ชื่นใจ', 'ซะงั้น', 'ญี่', 'ดึก', 'ตบท้าย', 'ตัว', 'ทอด', 'ทานอาหาร', 'นพ', 'นึก', 'น้ะ', 'ปลา', 'ปุ', 'ผิดหวัง', 'วก', 'สมใจ', 'อย่า', 'อาหารเสริม', 'เติม', 'เป็นมา', 'เป็นหลัก', 'เย็น', '1.15', 'net', 'กลับมา', 'ของคาว', 'ชม.', 'ตรงนั้น', 'ยืน', 'ลายตา', 'สไลด์', 'อัพเดท', 'อิ่ม', 'เบ', 'เพลิน', 'ไลน์', '\"', '-', '/คน', '15', '359', 'G', 'Net', 'Shabushi', 'กด', 'กรอ', 'ขาดสารอาหาร', 'ขึ้นราคา', 'ข่าว', 'คนเดียว', 'ครึ่ง', 'คิว', 'งาน', 'จุ', 'ชั่วโมง', 'ชั้น', 'ชื่น', 'ดู', 'ตลับ', 'ตับ', 'ตั้งอยู่', 'ติง', 'ถนนใหญ่', 'ถูกใจ', 'ทำ', 'ทิ้ง', 'น้ำมัน', 'บดี', 'ปลาดิบ', 'ปอกเปลือก', 'ฝรั่ง', 'ฝั่ง', 'มอลล์', 'มื้อ', 'รอ', 'ระดับ', 'รายการ', 'ลด', 'ลา', 'ลูก', 'วันหยุด', 'วาง', 'วานิลา', 'สะอาด', 'สาเหตุ', 'สำหรับ', 'สไปรท์', 'หนา', 'หอม', 'หอย', 'หาไม่', 'ห่างหาย', 'ห้าง', 'อม', 'ออกมา', 'อาทิตย์', 'อีกครั้ง', 'เช็คบิล', 'เด่น', 'เด้ง', 'เบคอน', 'เปรี้ยวหวาน', 'เพื่อน', 'เลิก', 'เวลา', 'เสาร์', 'เหมือน', 'เหมือนกัน', 'แก้ว', 'แถม', 'แน่น', 'แป้ง', 'แย่', 'แออัด', 'โดน', 'โดยประมาณ', 'โฟลต', 'โอ', 'ใจดี', 'ใจมา', 'ใช้ได้', 'ใส่', 'ได้ยิน', 'ชอค', 'ต', 'นัด', 'นิ', 'มะนาว', 'มุ', 'ลงเอย', 'ว', 'วันก่อน', 'ห', 'หา', 'อยุ่', 'อาหารสด', 'เบอร์', 'แกงค์', 'แล', 'โก', 'กินที่', 'ขยัน', 'จอง', 'ชู', 'ณ์', 'บุฟเฟต์', 'ป', 'ประตู', 'พลาด', 'พอได้', 'พี่', 'รอบ', 'ร้อย', 'สาม', 'สุดท้าย', 'หลายครั้ง', 'หล่ะ', 'อาราม', 'เข้าหน้า', 'เต็ม', 'โชคดี', 'ขวัญใจ', 'ข้อดี', 'ต้องการ', 'ทั่วถึง', 'นํ้า', 'บ', 'ฟเฟ', 'มี่', 'ระบบ', 'รีวิว', 'สวัสดี', 'เก้', 'ใช้แล้ว', '^^', 'xx', 'กลยุทธ์', 'ขนาด', 'ข้น', 'ข้าวปั้น', 'ค่า', 'ชอป', 'ซุ้ม', 'ดีขึ้น', 'ตรงข้าม', 'ตรงนี้', 'ต้ม', 'ต้มยำ', 'ท่าน', 'นัล', 'บริเวณ', 'บัตรสมาชิก', 'ปรับปรุง', 'มันดี', 'มากขึ้น', 'ยอด', 'ลาน', 'สลัด', 'หมู่คณะ', 'ออกร้าน', 'อิอิ', 'เครือ', 'เคลื่อนตัว', 'เคาน์เตอร์', 'เบา', 'เป็นแนว', 'แมค', 'โชคชะตา', 'โด', 'โน้น', 'โออิชิ', '199', '39', '40', '49', 'HALL', 'MCC', 'ค่ายมวย', 'ด้านใน', 'ตอนแรก', 'ตัวเลือก', 'ติดกับ', 'ที่ไหนได้', 'นม', 'นา', 'น้ำดื่ม', 'พิซ', 'พิซซ่า', 'ฟี', 'ยู', 'รี', 'หลังจากที่', 'อลล์', 'อเรีย', 'เซ', 'แกงเขียวหวาน', 'แน่นอน', 'แวะ', '10', '300', '6', 'VAT', 'กำ', 'ค่าน้ำ', 'ช่อง', 'ซี', 'ซึป', 'ถูกหวย', 'ทอน', 'นึง', 'ฟรี', 'ฟู้ด', 'รับประกัน', 'ลอตเตอรี่', 'สัปดาห์', 'หวย', 'หัว', 'ฮัน', 'เงิน', 'แลก', 'โทส', 'ได้เวลา', 'Narai', 'mall', 'pizza', 'pizzeria', 'union', 'ของสด', 'ขึ้นใจ', 'ข้าวมันไก่', 'จำได้', 'ชื่อ', 'ตตี้', 'ตัดกำลัง', 'ตู้', 'นิว', 'บางส่วน', 'ปรุง', 'รู้จัก', 'ลี', 'สปา', 'สุก', 'เก', '😆', '🤣', '128', '255', '29', 'ครีม', 'จบ', 'จุก', 'ชาต', 'บรา', 'บุพ', 'ปิดท้าย', 'ย', 'วิป', 'สมราคา', 'สวย', 'เ', 'เซต', 'เด็ด', 'เป้ง', 'เฟ่', 'เรย', 'เริส', 'เเบบ', 'โชค', '%', '7', 'ทดแทน', 'ปรกติ', 'สดๆ ร้อนๆ', 'เงินสด', 'โดยเฉพาะ'])\n"
          ],
          "name": "stdout"
        }
      ]
    },
    {
      "cell_type": "code",
      "metadata": {
        "id": "4GqT-riNanL1"
      },
      "source": [
        "gensim_corpus = [dictionary.doc2bow(text, allow_update=True) for text in texts]\n",
        "word_frequencies = [[(dictionary[id], frequence) for id, frequence in couple] for couple in gensim_corpus]"
      ],
      "execution_count": null,
      "outputs": []
    },
    {
      "cell_type": "code",
      "metadata": {
        "id": "kaDtxDpuQZon",
        "colab": {
          "base_uri": "https://localhost:8080/"
        },
        "outputId": "ce8c137f-c89b-4f60-afe6-1d9bf4ed2525"
      },
      "source": [
        "num_topics = 7\n",
        "chunksize = 4000 # size of the doc looked at every pass\n",
        "passes = 20 # number of passes through documents\n",
        "iterations = 50\n",
        "eval_every = 1  # Don't evaluate model perplexity, takes too much time.\n",
        "\n",
        "# Make a index to word dictionary.\n",
        "temp = dictionary[0]  # This is only to \"load\" the dictionary.\n",
        "id2word = dictionary.id2token\n",
        "\n",
        "%time model = gensim.models.LdaModel(corpus=gensim_corpus, id2word=id2word, chunksize=chunksize, \\\n",
        "                       alpha='auto', eta='auto', \\\n",
        "                       iterations=iterations, num_topics=num_topics, \\\n",
        "                       passes=passes, eval_every=eval_every)"
      ],
      "execution_count": null,
      "outputs": [
        {
          "output_type": "stream",
          "text": [
            "CPU times: user 367 ms, sys: 3.4 ms, total: 370 ms\n",
            "Wall time: 376 ms\n"
          ],
          "name": "stdout"
        }
      ]
    },
    {
      "cell_type": "code",
      "metadata": {
        "id": "bdrm8raPROPN",
        "colab": {
          "base_uri": "https://localhost:8080/",
          "height": 880
        },
        "outputId": "55335513-1702-4510-f4c3-b4222857c301"
      },
      "source": [
        "pyLDAvis.gensim_models.prepare(model, gensim_corpus, dictionary)"
      ],
      "execution_count": null,
      "outputs": [
        {
          "output_type": "execute_result",
          "data": {
            "text/html": [
              "\n",
              "<link rel=\"stylesheet\" type=\"text/css\" href=\"https://cdn.jsdelivr.net/gh/bmabey/pyLDAvis@3.3.1/pyLDAvis/js/ldavis.v1.0.0.css\">\n",
              "\n",
              "\n",
              "<div id=\"ldavis_el3051402917383451681378955082\"></div>\n",
              "<script type=\"text/javascript\">\n",
              "\n",
              "var ldavis_el3051402917383451681378955082_data = {\"mdsDat\": {\"x\": [0.09408831983789173, -0.037316571417373205, -0.05625437842864422, -0.002458758286874658, -0.0004036661088396727, -0.0012150447898195936, 0.0035600991936595326], \"y\": [0.007284173247994642, -0.06590285737604014, 0.05607315748278032, -0.003674176290724871, 0.0037907276709673162, 0.0013433734117495961, 0.0010856018532731343], \"topics\": [1, 2, 3, 4, 5, 6, 7], \"cluster\": [1, 1, 1, 1, 1, 1, 1], \"Freq\": [30.486085110759888, 27.30940710951444, 22.037950107234966, 11.880545742309035, 6.049951739913235, 2.2125570249568205, 0.023503165311616503]}, \"tinfo\": {\"Term\": [\"\", \"\\u0e17\\u0e32\\u0e19\", \"\\u0e19\\u0e49\\u0e33\", \"\\u0e2d\\u0e23\\u0e48\\u0e2d\\u0e22\", \"\\u0e0a\\u0e32\\u0e1a\\u0e39\", \"\\u0e14\\u0e35\", \"\\u0e40\\u0e25\\u0e37\\u0e2d\\u0e01\", \"\\u0e40\\u0e19\\u0e37\\u0e49\\u0e2d\", \"\\u0e23\\u0e32\\u0e04\\u0e32\", \"\\u0e2d\\u0e32\\u0e2b\\u0e32\\u0e23\", \"\\u0e0b\\u0e38\\u0e1b\", \"\\u0e01\\u0e34\\u0e19\", \"\\u0e23\\u0e2a\\u0e0a\\u0e32\\u0e15\\u0e34\", \"\\u0e1a\\u0e32\\u0e17\", \":\", \"\\u0e04\\u0e38\\u0e49\\u0e21\", \"\\u0e2a\\u0e31\\u0e48\\u0e07\", \"\\u0e2a\\u0e32\\u0e02\\u0e32\", \"\\u0e02\\u0e2d\\u0e07\\u0e2b\\u0e27\\u0e32\\u0e19\", \"-\", \"\\u0e0a\\u0e2d\\u0e1a\", \"\\u0e44\\u0e2d\\u0e15\\u0e34\\u0e21\", \"\\u0e04\\u0e19\", \"\\u0e01\\u0e38\\u0e49\\u0e07\", \"\\u0e25\\u0e2d\\u0e07\", \"\\u0e1e\\u0e19\\u0e31\\u0e01\\u0e07\\u0e32\\u0e19\", \"\\u0e1c\\u0e31\\u0e01\", \"\\u0e0b\\u0e39\\u0e0a\\u0e34\", \"\\u0e1a\\u0e38\\u0e1f\\u0e40\\u0e1f\\u0e48\\u0e15\\u0e4c\", \"\\u0e1a\\u0e23\\u0e34\\u0e01\\u0e32\\u0e23\", \"\\u0e23\\u0e2d\", \"\\u0e2b\\u0e49\\u0e32\\u0e07\", \"\\u0e04\\u0e34\\u0e27\", \"\\u0e0a\\u0e31\\u0e48\\u0e27\\u0e42\\u0e21\\u0e07\", \"\\u0e15\\u0e31\\u0e49\\u0e07\\u0e2d\\u0e22\\u0e39\\u0e48\", \"\\u0e43\\u0e0a\\u0e49\\u0e44\\u0e14\\u0e49\", \"\\u0e15\\u0e48\\u0e32\\u0e07 \\u0e46\", \"\\u0e1a\\u0e38\\u0e1f\\u0e40\\u0e1f\\u0e15\\u0e4c\", \"\\u0e1b\\u0e23\\u0e30\\u0e15\\u0e39\", \"\\u0e04\\u0e23\\u0e36\\u0e48\\u0e07\", \"\\u0e0a\\u0e39\", \"\\u0e04\\u0e48\\u0e32\", \"\\u0e41\\u0e16\\u0e21\", \"Shabushi\", \"\\u0e17\\u0e35\\u0e48\\u0e19\\u0e31\\u0e48\\u0e07\", \"\\u0e25\\u0e39\\u0e01\\u0e0a\\u0e34\\u0e49\\u0e19\", \"\\u0e40\\u0e0a\\u0e47\\u0e04\\u0e1a\\u0e34\\u0e25\", \"\\u0e40\\u0e14\\u0e49\\u0e07\", \"\\u0e41\\u0e19\\u0e48\\u0e19\", \"\\u0e27\\u0e32\\u0e07\", \"\\u0e40\\u0e25\\u0e34\\u0e01\", \"\\u0e40\\u0e14\\u0e34\\u0e19\", \"\\u0e25\\u0e14\", \"\\u0e42\\u0e14\\u0e19\", \"\\u0e0a\\u0e37\\u0e48\\u0e19\", \"\\u0e2d\\u0e35\\u0e01\\u0e04\\u0e23\\u0e31\\u0e49\\u0e07\", \"\\u0e2b\\u0e2d\\u0e21\", \"\\u0e27\\u0e32\\u0e19\\u0e34\\u0e25\\u0e32\", \"\\u0e43\\u0e08\\u0e14\\u0e35\", \"\\u0e1b\\u0e2d\\u0e01\\u0e40\\u0e1b\\u0e25\\u0e37\\u0e2d\\u0e01\", \"\\u0e40\\u0e27\\u0e25\\u0e32\", \"-\", \"\\u0e2a\\u0e14\", \"\\u0e04\\u0e19\", \"\\u0e2b\\u0e19\\u0e49\\u0e32\", \"\\u0e2a\\u0e33\\u0e2b\\u0e23\\u0e31\\u0e1a\", \"\\u0e01\\u0e34\\u0e19\", \"\\u0e2a\\u0e32\\u0e02\\u0e32\", \"\\u0e2a\\u0e32\\u0e22\\u0e1e\\u0e32\\u0e19\", \"\\u0e01\\u0e38\\u0e49\\u0e07\", \"\\u0e14\\u0e39\", \"\\u0e21\\u0e2d\\u0e25\\u0e25\\u0e4c\", \"(\", \"  \", \"\\u0e14\\u0e35\", \"\\u0e40\\u0e19\\u0e37\\u0e49\\u0e2d\", \"\\u0e15\\u0e31\\u0e27\", \"\\u0e01\\u0e25\\u0e31\\u0e1a\\u0e21\\u0e32\", \"\\u0e40\\u0e25\\u0e37\\u0e2d\\u0e01\", \"\\u0e0a\\u0e34\", \"\\u0e2d\\u0e32\\u0e2b\\u0e32\\u0e23\", \"\\u0e01\\u0e30\\u0e1b\\u0e34\", \"\\u0e2b\\u0e21\\u0e49\\u0e2d\", \"\\u0e40\\u0e14\\u0e2d\\u0e30\", \"\\u0e0a\\u0e32\\u0e1a\\u0e39\", \"\", \"\\u0e17\\u0e32\\u0e19\", \"\\u0e23\\u0e32\\u0e04\\u0e32\", \"\\u0e19\\u0e49\\u0e33\", \"1\", \"\\u0e1c\\u0e31\\u0e01\", \"\\u0e19\\u0e38\\u0e48\\u0e21\", \"\\u0e2d\\u0e23\\u0e48\\u0e2d\\u0e22\", \"\\u0e23\\u0e2a\\u0e0a\\u0e32\\u0e15\\u0e34\", \"\\u0e1a\\u0e32\\u0e17\", \"\\u200b\", \"+\", \"/\", \"\\u0e2a\\u0e38\\u0e01\\u0e35\\u0e49\", \"\\u0e40\\u0e1b\\u0e47\\u0e19\\u0e2b\\u0e25\\u0e31\\u0e01\", \"\\u0e0a\\u0e37\\u0e48\\u0e2d\", \"\\u0e1a\\u0e32\\u0e07\\u0e2a\\u0e48\\u0e27\\u0e19\", \"\\u0e15\\u0e1a\\u0e17\\u0e49\\u0e32\\u0e22\", \"\\u0e40\\u0e0b\\u0e47\\u0e17\", \"\\u0e1b\\u0e23\\u0e30\\u0e17\\u0e31\\u0e1a\\u0e43\\u0e08\", \"\\u0e44\\u0e25\\u0e19\\u0e4c\", \"\\u0e41\\u0e1b\\u0e25\\u0e01\", \"\\u0e1f\\u0e40\\u0e1f\\u0e48\", \"\\u0e41\\u0e1a\\u0e1a\\u0e09\\u0e1a\\u0e31\\u0e1a\", \"Menu\", \"\\u0e21\\u0e2d\", \"\\u0e22\\u0e38\\u0e04\", \"\\u0e40\\u0e1b\\u0e47\\u0e19\\u0e21\\u0e32\", \"\\u0e19\\u0e1e\", \"\\u0e0a\\u0e31\\u0e48\\u0e27\\u0e04\\u0e23\\u0e32\\u0e27\", \"\\u0e44\\u0e17\\u0e22\", \"\\u0e27\\u0e01\", \"\\u0e2a\\u0e4c\", \"\\u0e44\\u0e14\", \"\\u0e01\\u0e25\\u0e32\\u0e22\", \"\\u0e40\\u0e22\\u0e47\\u0e19\", \"\\u0e14\\u0e36\\u0e01\", \"\\u0e1b\\u0e38\", \"\\u0e19\\u0e49\\u0e30\", \"\\u0e0d\\u0e35\\u0e48\", \"\\u0e1b\\u0e38\\u0e23\\u0e30\", \"\\u0e21\", \"\\u0e40\\u0e17\", \"\\u0e42\\u0e21\", \"\\u0e1a\\u0e38\", \"\\u0e2d\\u0e23\\u0e48\\u0e2d\\u0e22\", \"\", \"\\u0e1a\\u0e23\\u0e34\\u0e01\\u0e32\\u0e23\", \"\\u0e0b\\u0e39\\u0e0a\\u0e34\", \"\\u0e23\\u0e32\\u0e04\\u0e32\", \"\\u0e2d\\u0e32\\u0e2b\\u0e32\\u0e23\", \"\\u0e02\\u0e2d\\u0e07\\u0e2b\\u0e27\\u0e32\\u0e19\", \"\\u0e17\\u0e32\\u0e19\", \":\", \"\\u0e0a\\u0e32\\u0e1a\\u0e39\", \"\\u0e14\\u0e35\", \"  \", \"\\u0e01\\u0e38\\u0e49\\u0e07\", \"\\u0e01\\u0e34\\u0e19\", \"\\u0e19\\u0e49\\u0e33\", \"\\u0e1a\\u0e32\\u0e17\", \"\\u0e23\\u0e2a\\u0e0a\\u0e32\\u0e15\\u0e34\", \"\\u0e40\\u0e19\\u0e37\\u0e49\\u0e2d\", \"\\u0e04\\u0e38\\u0e49\\u0e21\", \"\\u0e19\\u0e49\\u0e33\\u0e08\\u0e34\\u0e49\\u0e21\", \"\\u0e44\\u0e2d\\u0e15\\u0e34\\u0e21\", \"\\u0e2a\\u0e31\\u0e48\\u0e07\", \"\\u0e40\\u0e25\\u0e37\\u0e2d\\u0e01\", \"\\u0e14\\u0e33\", \"\\u0e0b\\u0e38\\u0e1b\", \"\\u0e41\\u0e19\\u0e30\\u0e19\\u0e33\", \"\\u0e0a\\u0e32\\u0e40\\u0e02\\u0e35\\u0e22\\u0e27\", \"\\u0e40\\u0e2a\\u0e34\\u0e23\\u0e4c\\u0e1f\", \"\\u0e40\\u0e01\\u0e34\\u0e19\\u0e44\\u0e1b\", \"\\u0e40\\u0e2b\\u0e47\\u0e14\", \"\\u0e40\\u0e04\\u0e47\\u0e21\", \"\\u0e44\\u0e1c\\u0e48\", \"::\", \"\\u0e44\\u0e14\\u0e1f\\u0e39\\u0e01\\u0e38\", \"\\u0e44\\u0e21\\u0e49\", \"\\u0e42\\u0e2b\\u0e14\", \"\\u0e2a\", \"\\u0e16\\u0e49\\u0e27\\u0e22\", \"\\u0e44\\u0e27\", \"\\u0e40\\u0e25\\u0e35\\u0e48\\u0e22\\u0e19\", \"\\u0e40\\u0e1b\\u0e47\\u0e19\\u0e1b\\u0e01\\u0e15\\u0e34\", \"\\u0e15\\u0e2d\\u0e19\\u0e17\\u0e35\\u0e48\", \"\\u0e40\\u0e1f\\u0e23\\u0e19\\u0e44\\u0e0a\\u0e2a\\u0e4c\", \"\\u0e44\\u0e2d\\u0e28\\u0e04\\u0e23\\u0e35\\u0e21\", \"\\u0e1a\\u0e4a\\u0e27\\u0e22\", \"\\u0e42\\u0e0a\", \"\\u0e2d\\u0e2d\\u0e2a\\u0e40\\u0e15\\u0e23\\u0e40\\u0e25\\u0e35\\u0e22\", \"\\u0e07\\u0e27\\u0e14\", \"\\u0e15\\u0e33\", \"!!!!\", \"\\u0e44\\u0e02\\u0e48\\u0e44\\u0e01\\u0e48\", \"\\u0e23\\u0e49\\u0e2d\\u0e19\", \"500\", \"\\u0e01\\u0e32\\u0e41\\u0e1f\", \"\\u0e2a\\u0e38\\u0e01\\u0e35\\u0e49\\u0e22\\u0e32\\u0e01\\u0e35\\u0e49\", \"\\u0e0a\\u0e2d\\u0e1a\", \"2\", \"\\u0e40\\u0e19\\u0e37\\u0e49\\u0e2d\\u0e2b\\u0e21\\u0e39\", \"\\u0e19\\u0e49\\u0e33\", \"\\u0e0b\\u0e38\\u0e1b\", \"\\u0e04\\u0e19\\u0e25\\u0e30\", \"\\u0e40\\u0e19\\u0e37\\u0e49\\u0e2d\\u0e27\\u0e31\\u0e27\", \"\\u0e19\\u0e36\\u0e01\\u0e16\\u0e36\\u0e07\", \":\", \"\\u0e44\\u0e01\\u0e48\", \"\\u0e2b\\u0e27\\u0e32\\u0e19\", \"\", \"\\u0e1a\\u0e38\\u0e1f\\u0e40\\u0e1f\\u0e48\\u0e15\\u0e4c\", \"\\u0e40\\u0e25\\u0e37\\u0e2d\\u0e01\", \"\\u0e17\\u0e32\\u0e19\", \"\\u0e2d\\u0e23\\u0e48\\u0e2d\\u0e22\", \"\\u0e23\\u0e2a\", \"\\u0e2a\\u0e31\\u0e48\\u0e07\", \"\\u0e0a\\u0e32\\u0e1a\\u0e39\", \"\\u0e0a\\u0e38\\u0e14\", \"\\u0e23\\u0e2a\\u0e0a\\u0e32\\u0e15\\u0e34\", \"\\u0e40\\u0e19\\u0e37\\u0e49\\u0e2d\", \"\\u0e14\\u0e35\\u0e21\\u0e32\\u0e01\", \"\\u0e19\\u0e49\\u0e33\\u0e08\\u0e34\\u0e49\\u0e21\", \"\\u0e14\\u0e33\", \"\\u0e1a\\u0e32\\u0e17\", \"\\u0e23\\u0e32\\u0e04\\u0e32\", \"\\u0e14\\u0e35\", \"\\u0e01\\u0e34\\u0e19\", \"\\u0e2d\\u0e32\\u0e2b\\u0e32\\u0e23\", \"\\u0e25\\u0e2d\\u0e07\", \"\\u0e44\\u0e2d\\u0e15\\u0e34\\u0e21\", \"\\u0e2b\\u0e34\\u0e27\", \"\\u0e0b\\u0e48\\u0e32\", \"\\u0e21\\u0e35\\u0e42\\u0e2d\", \"\\u0e04\\u0e34\\u0e14\\u0e16\\u0e36\\u0e07\", \"\\u0e40\\u0e2b\\u0e27\\u0e35\\u0e48\\u0e22\\u0e07\", \"\\u0e41\\u0e08\\u0e49\\u0e07\", \"\\u0e32\\u0e19\", \"9\", \"\\u0e44\\u0e21\\u0e48\\u0e07\\u0e31\\u0e49\\u0e19\", \"\\u0e2d\\u0e2d\\u0e23\\u0e4c\\u0e40\\u0e14\\u0e2d\\u0e23\\u0e4c\", \"\\u0e2a\\u0e39\\u0e49\", \"\\u0e25\\u0e30\\u0e25\\u0e32\\u0e19\\u0e15\\u0e32\", \"\\u0e40\\u0e01\\u0e35\\u0e4a\\u0e22\\u0e27\", \"\\u0e1e\\u0e23\\u0e30\\u0e23\\u0e32\\u0e21\", \"           \", \"\\u0e1b\\u0e39\\u0e2d\\u0e31\\u0e14\", \"\\u0e02\\u0e2d\\u0e07\\u0e01\\u0e34\\u0e19\", \"\\u0e02\\u0e32\", \"\\u0e17\\u0e30\\u0e22\\u0e2d\\u0e22\", \"\\u0e1e\\u0e32\\u0e23\\u0e32\\u0e44\\u0e14\\u0e0b\\u0e4c\", \"\\u0e40\\u0e08\\u0e2d\", \"\\u0e40\\u0e1b\\u0e47\\u0e19\\u0e01\\u0e31\\u0e19\\u0e40\\u0e2d\\u0e07\", \"\\u0e1e\\u0e23\\u0e35\\u0e40\\u0e21\\u0e35\\u0e22\\u0e21\", \"\\u0e17\\u0e35\\u0e48\\u0e17\\u0e32\\u0e07\", \"\\u0e2a\\u0e21\\u0e32\\u0e17\\u0e32\\u0e19\", \"\\u0e40\\u0e04\\u0e49\\u0e32\", \"21\", \"..\", \"30\", \"\\u0e21\\u0e32\\u0e15\\u0e23\\u0e32\", \"\\u0e2a\\u0e32\\u0e02\\u0e32\", \"\\u0e1a\\u0e32\\u0e17\", \"\\u0e04\\u0e38\\u0e49\\u0e21\", \"\\u0e0b\\u0e38\\u0e1b\", \"\\u0e23\\u0e32\\u0e04\\u0e32\", \"\\u0e2d\\u0e32\\u0e2b\\u0e32\\u0e23\", \"-\", \"199\", \"\\u0e17\\u0e32\\u0e19\", \"\\u0e14\\u0e35\", \"\", \"\\u0e1e\\u0e34\\u0e0b\\u0e0b\\u0e48\\u0e32\", \"\\u0e04\\u0e19\\u0e25\\u0e30\", \"\\u0e08\\u0e48\\u0e32\\u0e22\", \"\\u0e19\\u0e49\\u0e33\", \"\\u0e40\\u0e21\\u0e19\\u0e39\", \"\\u0e0a\\u0e32\\u0e1a\\u0e39\", \"\\u0e23\\u0e2a\\u0e0a\\u0e32\\u0e15\\u0e34\", \"\\u0e0b\\u0e39\\u0e0a\\u0e34\", \"\\u0e1a\\u0e23\\u0e34\\u0e01\\u0e32\\u0e23\", \"\\u0e40\\u0e19\\u0e37\\u0e49\\u0e2d\", \"\\u0e25\\u0e2d\\u0e07\", \"\\u0e2a\\u0e31\\u0e48\\u0e07\", \"\\u0e02\\u0e2d\\u0e07\\u0e2b\\u0e27\\u0e32\\u0e19\", \"\\u0e1e\\u0e19\\u0e31\\u0e01\\u0e07\\u0e32\\u0e19\", \"\\u0e2d\\u0e23\\u0e48\\u0e2d\\u0e22\", \"\\u0e0d\\u0e35\\u0e48\\u0e1b\\u0e38\\u0e48\\u0e19\", \"\\u0e40\\u0e25\\u0e37\\u0e2d\\u0e01\", \"\\u0e0a\\u0e34\", \"\\u0e40\\u0e14\\u0e2d\\u0e30\", \"\\u0e01\\u0e38\\u0e49\\u0e07\", \"\\u0e01\\u0e34\\u0e19\", \"\\u0e19\\u0e4d\\u0e49\\u0e32\", \"\\u0e2b\", \"\\u0e2d\\u0e22\\u0e38\\u0e48\", \"\\u0e21\\u0e38\", \"\\u0e0a\\u0e2d\\u0e04\", \"\\u0e2d\\u0e32\\u0e2b\\u0e32\\u0e23\\u0e2a\\u0e14\", \"\\u0e42\\u0e01\", \"\\u0e41\\u0e01\\u0e07\\u0e04\\u0e4c\", \"\\u0e15\", \"\\u0e21\\u0e30\\u0e19\\u0e32\\u0e27\", \"\\u0e25\\u0e07\\u0e40\\u0e2d\\u0e22\", \"\\u0e2b\\u0e32\", \"\\u0e41\\u0e25\", \"\\u0e19\\u0e34\", \"\\u0e19\\u0e31\\u0e14\", \"\\u0e40\\u0e1a\\u0e2d\\u0e23\\u0e4c\", \"\\u0e27\\u0e31\\u0e19\\u0e01\\u0e48\\u0e2d\\u0e19\", \"\\u0e23\\u0e35\\u0e27\\u0e34\\u0e27\", \"\\u0e1f\\u0e40\\u0e1f\", \"\\u0e43\\u0e0a\\u0e49\\u0e41\\u0e25\\u0e49\\u0e27\", \"\\u0e15\\u0e49\\u0e2d\\u0e07\\u0e01\\u0e32\\u0e23\", \"\\u0e02\\u0e27\\u0e31\\u0e0d\\u0e43\\u0e08\", \"\\u0e02\\u0e49\\u0e2d\\u0e14\\u0e35\", \"\\u0e40\\u0e01\\u0e49\", \"\\u0e21\\u0e35\\u0e48\", \"\\u0e1a\", \"\\u0e23\\u0e30\\u0e1a\\u0e1a\", \"\\u0e17\\u0e31\\u0e48\\u0e27\\u0e16\\u0e36\\u0e07\", \"\\u0e2a\\u0e27\\u0e31\\u0e2a\\u0e14\\u0e35\", \"\\u0e25\\u0e39\\u0e01\\u0e04\\u0e49\\u0e32\", \":\", \"\\u0e17\\u0e32\\u0e19\", \"\\u0e2d\\u0e23\\u0e48\\u0e2d\\u0e22\", \"\", \"\\u0e23\\u0e2a\\u0e0a\\u0e32\\u0e15\\u0e34\", \"\\u0e40\\u0e25\\u0e37\\u0e2d\\u0e01\", \"\\u0e0a\\u0e32\\u0e1a\\u0e39\", \"\\u0e14\\u0e35\", \"\\u0e04\\u0e19\", \"\\u0e23\\u0e32\\u0e04\\u0e32\", \"\\u0e1a\\u0e32\\u0e17\", \"\\u0e2d\\u0e32\\u0e2b\\u0e32\\u0e23\", \"\\u0e0b\\u0e38\\u0e1b\", \"\\u0e04\\u0e38\\u0e49\\u0e21\", \"\\u0e25\\u0e2d\\u0e07\", \"\\u0e19\\u0e49\\u0e33\", \"\\u0e40\\u0e21\\u0e19\\u0e39\", \"\\u0e0b\\u0e39\\u0e0a\\u0e34\", \"\\u0e19\\u0e38\\u0e48\\u0e21\", \"\\u0e1a\\u0e38\\u0e1f\\u0e40\\u0e1f\\u0e48\\u0e15\\u0e4c\", \"\\u0e1a\\u0e23\\u0e34\\u0e01\\u0e32\\u0e23\", \"\\u0e2b\\u0e22\\u0e34\\u0e1a\", \"\\u0e0a\\u0e34\", \"\\u0e40\\u0e14\\u0e2d\\u0e30\", \"\\u0e40\\u0e19\\u0e37\\u0e49\\u0e2d\", \"1\", \"\\u0e23\\u0e2a\", \"\\u0e1a\\u0e38\", \"\\u0e08\\u0e32\\u0e19\", \"\\u0e01\\u0e34\\u0e19\", \"\\u0e2a\\u0e32\\u0e22\\u0e1e\\u0e32\\u0e19\", \"\\u0e04\\u0e32\\u0e21\\u0e35\", \"\\u0e23\\u0e32\", \"\\u0e2a\\u0e32\\u0e22\", \"\\u0e1a\\u0e4b\\u0e27\\u0e22\", \"\\u0e41\\u0e19\\u0e27\", \"\\u0e1e\\u0e2d\\u0e19\", \"\\u0e0b\\u0e36\", \"\\u0e40\\u0e19\\u0e37\\u0e49\\u0e2d\\u0e2b\\u0e21\\u0e39\", \"\\u0e42\\u0e0b\\u0e19\", \"\\u0e19\\u0e30\\u0e04\\u0e30\", \"\\u0e42\\u0e1b\\u0e23\\u0e42\\u0e21\\u0e0a\\u0e31\\u0e48\\u0e19\", \"\\u0e0d\\u0e35\\u0e48\\u0e1b\\u0e38\\u0e48\\u0e19\", \"\\u0e1f\\u0e40\\u0e1f\\u0e48\", \"\\u0e0a\\u0e2d\\u0e1a\", \"\\u0e1a\\u0e38\", \"\\u0e2b\\u0e22\\u0e34\\u0e1a\", \"\\u0e40\\u0e19\\u0e37\\u0e49\\u0e2d\\u0e27\\u0e31\\u0e27\", \"\\u0e25\\u0e2d\\u0e07\", \"\\u0e1e\\u0e19\\u0e31\\u0e01\\u0e07\\u0e32\\u0e19\", \"\\u0e19\\u0e49\\u0e33\\u0e08\\u0e34\\u0e49\\u0e21\", \"\\u0e1c\\u0e31\\u0e01\", \"\\u0e04\\u0e38\\u0e49\\u0e21\", \"\\u0e44\\u0e2d\\u0e15\\u0e34\\u0e21\", \"\\u0e02\\u0e2d\\u0e07\\u0e2b\\u0e27\\u0e32\\u0e19\", \"\\u0e2a\\u0e31\\u0e48\\u0e07\", \"\\u0e2a\\u0e27\\u0e31\\u0e2a\\u0e14\\u0e35\", \"\\u0e17\\u0e31\\u0e48\\u0e27\\u0e16\\u0e36\\u0e07\", \"\\u0e23\\u0e30\\u0e1a\\u0e1a\", \"\\u0e1a\", \"\\u0e21\\u0e35\\u0e48\", \"\\u0e0a\\u0e32\\u0e1a\\u0e39\", \"\\u0e40\\u0e25\\u0e37\\u0e2d\\u0e01\", \"\\u0e14\\u0e35\", \"\\u0e2d\\u0e23\\u0e48\\u0e2d\\u0e22\", \"\\u0e40\\u0e19\\u0e37\\u0e49\\u0e2d\", \"\", \"\\u0e17\\u0e32\\u0e19\", \"\\u0e19\\u0e49\\u0e33\", \"\\u0e23\\u0e32\\u0e04\\u0e32\", \"\\u0e23\\u0e2a\\u0e0a\\u0e32\\u0e15\\u0e34\", \"\\u0e2d\\u0e32\\u0e2b\\u0e32\\u0e23\", \"\\u0e1a\\u0e32\\u0e17\", \"\\u0e0b\\u0e38\\u0e1b\", \"\\u0e01\\u0e34\\u0e19\", \":\", \"\\u0e1a\\u0e4b\\u0e27\\u0e22\", \"\\u0e2a\\u0e32\\u0e22\", \"\\u0e23\\u0e32\", \"\\u0e04\\u0e32\\u0e21\\u0e35\", \"\\u0e2a\\u0e27\\u0e31\\u0e2a\\u0e14\\u0e35\", \"\\u0e17\\u0e31\\u0e48\\u0e27\\u0e16\\u0e36\\u0e07\", \"\\u0e23\\u0e30\\u0e1a\\u0e1a\", \"\\u0e1a\", \"\\u0e21\\u0e35\\u0e48\", \"\\u0e40\\u0e01\\u0e49\", \"\\u0e02\\u0e49\\u0e2d\\u0e14\\u0e35\", \"\\u0e02\\u0e27\\u0e31\\u0e0d\\u0e43\\u0e08\", \"\\u0e15\\u0e49\\u0e2d\\u0e07\\u0e01\\u0e32\\u0e23\", \"\\u0e43\\u0e0a\\u0e49\\u0e41\\u0e25\\u0e49\\u0e27\", \"\\u0e1f\\u0e40\\u0e1f\", \"\\u0e23\\u0e35\\u0e27\\u0e34\\u0e27\", \"\\u0e27\\u0e31\\u0e19\\u0e01\\u0e48\\u0e2d\\u0e19\", \"\\u0e40\\u0e1a\\u0e2d\\u0e23\\u0e4c\", \"\\u0e19\\u0e31\\u0e14\", \"\\u0e19\\u0e34\", \"\\u0e41\\u0e25\", \"\\u0e2b\\u0e32\", \"\\u0e25\\u0e07\\u0e40\\u0e2d\\u0e22\", \"\\u0e21\\u0e30\\u0e19\\u0e32\\u0e27\", \"\\u0e15\", \"\\u0e41\\u0e01\\u0e07\\u0e04\\u0e4c\", \"\\u0e42\\u0e01\", \"\\u0e2d\\u0e32\\u0e2b\\u0e32\\u0e23\\u0e2a\\u0e14\", \"\\u0e0a\\u0e2d\\u0e04\", \"\\u0e21\\u0e38\", \"\\u0e41\\u0e19\\u0e27\", \"\\u0e0d\\u0e35\\u0e48\\u0e1b\\u0e38\\u0e48\\u0e19\", \"\\u0e25\\u0e2d\\u0e07\", \"\\u0e04\\u0e38\\u0e49\\u0e21\", \"\\u0e42\\u0e0b\\u0e19\", \"\\u0e42\\u0e1b\\u0e23\\u0e42\\u0e21\\u0e0a\\u0e31\\u0e48\\u0e19\", \"\\u0e2b\\u0e22\\u0e34\\u0e1a\", \"\\u0e17\\u0e32\\u0e19\", \"\\u0e25\\u0e39\\u0e01\\u0e04\\u0e49\\u0e32\", \"\\u0e1e\\u0e19\\u0e31\\u0e01\\u0e07\\u0e32\\u0e19\", \"\\u0e0b\\u0e36\", \"\\u0e1e\\u0e2d\\u0e19\", \"\", \"\\u0e0a\\u0e32\\u0e1a\\u0e39\", \"\\u0e23\\u0e2a\\u0e0a\\u0e32\\u0e15\\u0e34\", \"\\u0e1a\\u0e32\\u0e17\", \"\\u0e14\\u0e35\", \"\\u0e23\\u0e32\\u0e04\\u0e32\", \"\\u0e2a\\u0e31\\u0e48\\u0e07\", \"\\u0e40\\u0e25\\u0e37\\u0e2d\\u0e01\", \"\\u0e2d\\u0e23\\u0e48\\u0e2d\\u0e22\", \"\\u0e02\\u0e2d\\u0e07\\u0e2b\\u0e27\\u0e32\\u0e19\", \"555\", \"\\u0e0b\\u0e38\\u0e1b\", \"\\u0e2d\\u0e32\\u0e2b\\u0e32\\u0e23\", \"\\u0e40\\u0e21\\u0e19\\u0e39\", \"\\u0e40\\u0e19\\u0e37\\u0e49\\u0e2d\", \"\\u0e44\\u0e2d\\u0e15\\u0e34\\u0e21\", \"\\u0e19\\u0e49\\u0e33\", \"\\u0e19\\u0e38\\u0e48\\u0e21\", \"\\u0e1c\\u0e31\\u0e01\", \"\\u0e0b\\u0e39\\u0e0a\\u0e34\", \"\\u0e40\\u0e14\\u0e2d\\u0e30\", \"1\", \":\", \"\\u0e1a\\u0e38\\u0e1f\\u0e40\\u0e1f\\u0e48\\u0e15\\u0e4c\", \"\\u0e1a\\u0e23\\u0e34\\u0e01\\u0e32\\u0e23\", \"\\u0e01\\u0e34\\u0e19\", \"\\u0e0a\\u0e34\", \"\\u0e2a\\u0e32\\u0e02\\u0e32\", \"\\u0e01\\u0e38\\u0e49\\u0e07\"], \"Freq\": [29.0, 23.0, 23.0, 19.0, 19.0, 19.0, 17.0, 18.0, 17.0, 16.0, 15.0, 20.0, 14.0, 14.0, 12.0, 9.0, 9.0, 10.0, 9.0, 11.0, 7.0, 8.0, 9.0, 11.0, 6.0, 7.0, 7.0, 7.0, 7.0, 7.0, 4.037563572000817, 3.3897533135370055, 3.3936958430086417, 2.094562311983298, 2.0983301828933567, 2.101309713266306, 1.423404131070479, 1.4311940062651052, 1.434013966922625, 1.4345141725072617, 1.4351579288268281, 1.4378029208779866, 1.4391663944891668, 1.4397030820100383, 1.4400097163012815, 1.4416683525467018, 1.4418922048806528, 1.4421030353336814, 1.4424313727597953, 1.4426381726306337, 1.442669797198588, 1.4428244061974758, 1.4430946619007452, 1.4446491230987868, 1.4446767170845507, 1.4450804987414052, 1.445814271396554, 1.4464808676818652, 1.4468903334930907, 1.4475638541119082, 3.5616791403896975, 7.682461626131388, 5.744522570648305, 5.793468720587617, 3.552310827200411, 2.908717177797173, 9.717030892526237, 5.348360574402144, 3.0830791298649594, 5.270865500764477, 3.0806202680323818, 2.24917937203538, 3.0664884267837826, 3.716151719572498, 6.513842480356928, 6.240122956761968, 2.2230260610336945, 2.2333848639591705, 5.703845108398169, 3.342583513512721, 4.895868815037169, 2.420895815310701, 2.3488428544159676, 2.611198203199636, 4.693007339739925, 5.623121021684802, 4.470458847453298, 3.7672508204909736, 4.097907381588078, 2.603870191384709, 2.7127670141253404, 2.7265838498735318, 3.361454906024014, 2.9444459119037676, 2.916551389395892, 7.540393312642905, 1.9938995321401853, 1.9975514143311022, 1.3592349767487475, 1.37059658345452, 1.3711627983173613, 1.3729734638319877, 1.373528198864386, 1.373509220112443, 1.3758561973831913, 1.3792167325869658, 1.380357957344037, 2.1522817534879435, 0.732415543065904, 0.73267559825716, 0.7331547885988977, 0.7340407722871569, 0.7341714016480905, 0.7341795949141732, 0.7342334297641964, 0.7342660639596104, 0.7343380906377154, 0.7344892725983139, 0.734498484236452, 0.7345035298070904, 0.734505335103007, 0.7345693999632239, 0.7346723944097431, 0.7348844472454753, 0.7349196273710279, 3.5491791839641533, 3.5516484584608357, 3.5543747330326076, 2.918202153785574, 2.3252403969620383, 7.449001271530991, 9.61562077776718, 3.208788139264612, 3.243115054193298, 6.025855579062864, 5.900526937257342, 3.437754468411247, 6.699741623219412, 4.157923856061925, 5.7047447244346, 5.639280065537851, 2.9574626184266246, 3.8441489834041582, 5.689952037115392, 6.342806291265253, 4.002762097470675, 4.029715628400644, 4.168147941181736, 3.0360998272816055, 2.465318954460438, 2.700943029788627, 2.9292894480913136, 3.654847320025319, 2.4734203818995386, 2.7715315813928365, 2.42080187230495, 1.8466185114611608, 1.8506391984696595, 1.2420132870532166, 1.862135563222006, 1.2742973462466003, 1.2816615582166053, 1.2823181005896158, 1.2831892071063777, 1.2833719452315921, 0.6687239683780456, 0.6687288244606863, 0.6689795477428692, 0.6696735940156581, 0.6701527025998771, 0.6769940265329338, 0.6772053781912459, 0.6777112325844702, 0.6777192264435863, 0.6779972184975204, 0.6780336764718068, 0.6782459993466471, 0.6783003874722219, 0.6784000492298, 0.678453391429883, 0.6785735981524791, 0.6787351189320022, 0.6787751629365463, 0.6788320164579233, 0.6788914847930299, 3.967389633793826, 3.3145853984909777, 1.4049409110717805, 9.659974794523698, 6.395323373191669, 2.0391089953792374, 2.151660290464774, 1.3709105298518693, 4.351737368453644, 2.053145913151224, 2.0554297661715855, 8.235307728676117, 2.956392375515565, 5.546958862652241, 6.674304573805142, 5.7034801183244195, 2.195655502681147, 3.228964742386851, 5.2137216219117475, 1.38457838534317, 4.235160903821785, 4.913685343476149, 2.181987497771919, 2.2532310114833614, 2.2603860383550014, 3.106079255188311, 3.2997879434685076, 2.9457352912614434, 2.9918214579538995, 2.0808751909546057, 1.9362809225015503, 1.9161487992169957, 0.9070307900602236, 0.4830516294275939, 0.48347065280311396, 0.48353726801487007, 0.483550881038796, 0.4835571639729157, 0.48356795773153155, 0.48361648937008417, 0.4836985702658272, 0.4837962376712132, 0.4838077161085472, 0.48398859211580025, 0.4839937876190146, 0.484014851558403, 0.4841894849067551, 0.48420889756217617, 0.4842845344229246, 0.48433878514253487, 0.4845605002215658, 0.4847548684270887, 0.4847624401682073, 0.4848294178569318, 0.48492829351887934, 0.4849707033241871, 0.4849827456145832, 0.48503711715984965, 0.48511831200078087, 0.485143242361166, 0.4851711128125174, 0.48524147361961406, 2.589080674786863, 3.0439282129512213, 2.0068477750521527, 2.63007408120289, 2.784967256055317, 2.7019946669699717, 2.0719032081377993, 1.117724474939136, 2.8310752930465126, 2.529683909930798, 3.1626102608579445, 1.1599241241557043, 1.0755039631592729, 1.156761875083008, 2.5959414777446765, 1.3214088218536106, 2.1742096743163932, 1.8650467849972614, 1.3450662436760097, 1.3224953667041277, 1.557732367116314, 1.0013028334076228, 1.138019721503133, 1.074839099848711, 0.9897543977434672, 1.3312060104575623, 0.7682398087512828, 1.2180382038461055, 0.9196084992138824, 0.855406578563263, 0.9436333921318453, 0.9665242154412063, 0.5712567323445754, 0.30383663127244837, 0.30398325313232794, 0.3040476116994425, 0.3040993979906994, 0.3041138571334068, 0.3041476156424796, 0.30416326433167923, 0.30432822161507705, 0.30436339527428724, 0.3044210882791608, 0.30444572009531906, 0.304475458757625, 0.30458317424343945, 0.30468621358097403, 0.3047722711168608, 0.3050299309889641, 0.30839720895773476, 0.3084643362968571, 0.30856456584353936, 0.3087711367447432, 0.30880881255347153, 0.30885210794390455, 0.30893070005008144, 0.3090315038605875, 0.30903607746175593, 0.309061283541738, 0.30906462657756967, 0.3091389527239123, 0.3564978544838458, 1.4880480074932365, 2.046492339664134, 1.6015210624054712, 1.7504342349421222, 1.181443137457971, 1.277291707465822, 1.1242259511813002, 1.096617807661782, 0.807490985255821, 1.0057988863361824, 0.9174319895006876, 0.953266954522838, 0.9074972253482683, 0.7654709527378543, 0.6342718502621056, 0.8857729889678071, 0.5842868195263329, 0.5994223629805079, 0.5883987946180894, 0.5960266179336127, 0.584831549782089, 0.51602309433429, 0.5825774001981416, 0.5420259653719547, 0.7337932476118544, 0.5391272046457478, 0.5000777158319679, 0.4677463343990608, 0.4584787417534091, 0.6120448048850287, 0.4785327318022337, 0.1359960737900328, 0.13637984947544973, 0.13650168921734693, 0.13693216363663802, 0.16048539687418803, 0.15828398585674494, 0.15831208310330658, 0.17028674555716247, 0.18304121536179924, 0.16812417264508403, 0.18522349984994918, 0.211913273874783, 0.1722243004775568, 0.3511475965843408, 0.20377347304360324, 0.22485179339541791, 0.20924955589282526, 0.27638635892647, 0.27302044979966295, 0.22932969643352935, 0.253917232370455, 0.3334566520757399, 0.2722861410868006, 0.2966041954768853, 0.3140352292038917, 0.024547094578370194, 0.024513668155705524, 0.024512169910910892, 0.02450087400772835, 0.024498811342804582, 0.4897637498671441, 0.44638928179012166, 0.4777857421458118, 0.4774394244554106, 0.42987449132285394, 0.6524778899441651, 0.4511079090757367, 0.3860589879821307, 0.3281833404394241, 0.29450963800309327, 0.30516153969343407, 0.2898108723055442, 0.28545095370107243, 0.26675906916066294, 0.20766016381036395, 0.00031973440792673423, 0.0003144981368357996, 0.00031300498747660046, 0.00030837720248676925, 0.00029280445601233637, 0.0002924057370688446, 0.0002923878497924667, 0.00029225311756816844, 0.00029222849766437884, 0.0002916896484432498, 0.0002912703531562186, 0.00029103965111277946, 0.00029083844913205254, 0.000289739935318063, 0.0002892079183194257, 0.0002888516667180693, 0.0002711515294956316, 0.0002698046056329691, 0.00026935471473734507, 0.00026881636349161626, 0.0002682538504794662, 0.0002680983427214684, 0.0002679696260400055, 0.00026766841067988744, 0.0002674845780811221, 0.0002666234790189674, 0.0002665416716202103, 0.0002663655078426092, 0.0002662897558247194, 0.00026601959421056247, 0.0006011001299665727, 0.0012145967400334831, 0.001983786753327344, 0.0026640973204195674, 0.0008691503284263426, 0.0008952013736782719, 0.0013679328472296299, 0.005379559568398459, 0.000538943199046595, 0.0019434362448614516, 0.0005747265958454255, 0.0005743831123333322, 0.006474450830460224, 0.004529103316174486, 0.003512501117233769, 0.0034533314411449583, 0.004384639138709631, 0.0039136532083693465, 0.002434160963955849, 0.004010570853968119, 0.004383421688451039, 0.0022249073982530364, 0.0009249897043902455, 0.003403688153977495, 0.0036394053275918565, 0.0017225646342040103, 0.0038136084366089786, 0.0019352729540437674, 0.0046053883669327006, 0.0017449043683927736, 0.0017152726808227104, 0.0018014617850458405, 0.0015027785302431033, 0.00148761155404383, 0.0024788530211514947, 0.0017826781529474854, 0.0017254877896416537, 0.003180793727406106, 0.00171359597773097, 0.0019544629340687465, 0.001792523564829265], \"Total\": [29.0, 23.0, 23.0, 19.0, 19.0, 19.0, 17.0, 18.0, 17.0, 16.0, 15.0, 20.0, 14.0, 14.0, 12.0, 9.0, 9.0, 10.0, 9.0, 11.0, 7.0, 8.0, 9.0, 11.0, 6.0, 7.0, 7.0, 7.0, 7.0, 7.0, 4.819801747287424, 4.117795478107535, 4.134096830144618, 2.7166324192404465, 2.731984269240026, 2.744135005137606, 1.919878829969549, 1.9517428241287045, 1.963121836541393, 1.9650558972069156, 1.9678215848753415, 1.9785216144607518, 1.9840983017039522, 1.9863386523587556, 1.9873752961317739, 1.9941186740767862, 1.995197230379026, 1.99600768469592, 1.997403759806338, 1.998231613897245, 1.9984178637959789, 1.9988916781402828, 2.000184053761063, 2.0064969097505125, 2.0066560206024113, 2.008189377066698, 2.0112801511952196, 2.013952969529576, 2.0156502931959492, 2.0183870486042363, 5.066980328487183, 11.56822182721392, 9.043411551321132, 9.194865521559384, 5.379378466084973, 4.490765788015218, 20.247313270809833, 10.803139148875422, 5.448717695405553, 11.30878382163112, 5.64378755252673, 3.741187428540316, 5.88533688180564, 7.853738160466045, 19.207329936033325, 18.047169955907485, 3.839971534986417, 3.881933725417207, 17.851381055031744, 7.70586145171784, 16.841333509762954, 5.039741216545895, 4.848832025161468, 6.062346867909412, 19.404202164767288, 29.046046364702793, 23.178560145832638, 17.215757479061637, 23.97306731043858, 6.032972847182965, 7.087496760469798, 7.234142593717536, 19.928486214886323, 14.553834505701758, 14.280017148253476, 8.489468819755153, 2.5807703241611897, 2.5966205500056647, 1.8470495408903849, 1.8953822000445728, 1.897695693299884, 1.9054633430882562, 1.9075604005426285, 1.9077469040825075, 1.9178086017247427, 1.931831958342787, 1.9366472846551295, 3.359864589948922, 1.1463374443090106, 1.1474466748703247, 1.1494915158200434, 1.1532767525272056, 1.1538449766071035, 1.1538800901779567, 1.1541104281901406, 1.1542403306506925, 1.1545582183173781, 1.1551953799771009, 1.1552346371045379, 1.155266553067587, 1.1552743463774575, 1.1555488505157154, 1.155989945712385, 1.1568981884637608, 1.157049074875044, 6.284250793445327, 6.295737548997797, 6.307822312255905, 5.488288179446754, 4.342446146261272, 19.928486214886323, 29.046046364702793, 7.4452508107203705, 7.590863072966168, 17.215757479061637, 16.841333509762954, 9.051882315505116, 23.178560145832638, 12.148229080980482, 19.404202164767288, 19.207329936033325, 7.853738160466045, 11.30878382163112, 20.247313270809833, 23.97306731043858, 14.280017148253476, 14.553834505701758, 18.047169955907485, 9.723352298639423, 6.337522300316676, 8.039662169911724, 9.87732990533462, 17.851381055031744, 6.891055789017724, 15.255108448635635, 3.192678836493195, 2.5375132997483525, 2.556453213509352, 1.7414653544573186, 2.611548062714405, 1.8918091770211152, 1.926545770786099, 1.9294793541295527, 1.9338472879026853, 1.9350639052990481, 1.0910203952654176, 1.0910426181788535, 1.0922117423569517, 1.09545088912025, 1.097688779055224, 1.129562339873397, 1.130560378618893, 1.1329002007349658, 1.1329811529326996, 1.1342417980035064, 1.1344670255247955, 1.1353768960429929, 1.1356922654910924, 1.1361142274662785, 1.1363730875070597, 1.1369920208663966, 1.1377353320149373, 1.1379085444032941, 1.1381455360973252, 1.13846349992878, 7.164988205579203, 6.354003855391553, 2.6063662420558154, 23.97306731043858, 15.255108448635635, 4.226423300994382, 4.663128522393095, 2.735958119724206, 12.148229080980482, 4.701266540095819, 4.763406316910643, 29.046046364702793, 7.757616197956246, 17.851381055031744, 23.178560145832638, 19.928486214886323, 5.609571143029268, 9.87732990533462, 19.404202164767288, 3.0045857697468974, 14.553834505701758, 18.047169955907485, 5.924263877071743, 6.337522300316676, 6.891055789017724, 14.280017148253476, 17.215757479061637, 19.207329936033325, 20.247313270809833, 16.841333509762954, 6.920138998436162, 8.039662169911724, 1.4936891178319358, 0.9352655775954499, 0.9379311879872138, 0.9383580310842868, 0.9384481583593324, 0.9384889912743688, 0.9385915872063718, 0.938866524564361, 0.9394331854624395, 0.9400262205951682, 0.9401009700950885, 0.9413032041999178, 0.9413367548641095, 0.9414260349023934, 0.9425517476437422, 0.9427247425083475, 0.9432128889428485, 0.9435631051170505, 0.9449391333642617, 0.9461936619092072, 0.9462501317194838, 0.9466625318081198, 0.9473009151945615, 0.9475772155587763, 0.9476521026963014, 0.9480000276254235, 0.9485283633339795, 0.9487605385464173, 0.9488606478840496, 0.9493326352315433, 10.803139148875422, 14.280017148253476, 9.723352298639423, 15.255108448635635, 17.215757479061637, 16.841333509762954, 11.56822182721392, 3.996826026932976, 23.178560145832638, 19.207329936033325, 29.046046364702793, 4.869480326669812, 4.226423300994382, 4.849537043139823, 23.97306731043858, 6.861919829873222, 19.404202164767288, 14.553834505701758, 7.590863072966168, 7.4452508107203705, 18.047169955907485, 6.920138998436162, 9.87732990533462, 9.051882315505116, 7.300377809185172, 19.928486214886323, 4.021742475807805, 17.851381055031744, 7.70586145171784, 6.062346867909412, 11.30878382163112, 20.247313270809833, 1.1678104682052175, 0.7668856914407743, 0.7683712861104224, 0.7690237036431874, 0.7695481645204256, 0.7696951999797781, 0.7700372144195965, 0.77019598395576, 0.7718677408560185, 0.7722245820257044, 0.7728094238916559, 0.7730593172490223, 0.7733611895845728, 0.7744533326859799, 0.7754985407152964, 0.7763719442340807, 0.7789871405104373, 0.8133857466917849, 0.8140789288589525, 0.8151142447367342, 0.8172523382853273, 0.8176441085391208, 0.8180932696113417, 0.8189097893480259, 0.8199592234060488, 0.8200071750644404, 0.820269682775164, 0.820304453017391, 0.8210813181139535, 1.6978294204499378, 12.148229080980482, 23.178560145832638, 19.928486214886323, 29.046046364702793, 14.553834505701758, 17.851381055031744, 19.404202164767288, 19.207329936033325, 9.194865521559384, 17.215757479061637, 14.280017148253476, 16.841333509762954, 15.255108448635635, 9.723352298639423, 6.920138998436162, 23.97306731043858, 6.861919829873222, 7.590863072966168, 7.234142593717536, 7.757616197956246, 7.4452508107203705, 4.881792113727536, 7.70586145171784, 6.062346867909412, 18.047169955907485, 6.032972847182965, 5.609571143029268, 4.342446146261272, 4.138932162566482, 20.247313270809833, 5.448717695405553, 0.7086036055849505, 0.7175983199664467, 0.7205037048272191, 0.730690243879161, 1.8277594457330608, 1.828761290183033, 1.8294305645245827, 2.6063662420558154, 2.825976354719397, 2.7125701233270667, 3.0029544049478987, 4.021742475807805, 3.359864589948922, 7.164988205579203, 4.342446146261272, 4.881792113727536, 4.663128522393095, 6.920138998436162, 7.300377809185172, 6.337522300316676, 7.087496760469798, 9.723352298639423, 8.039662169911724, 9.051882315505116, 9.87732990533462, 0.8210813181139535, 0.820304453017391, 0.820269682775164, 0.8200071750644404, 0.8199592234060488, 19.404202164767288, 17.851381055031744, 19.207329936033325, 19.928486214886323, 18.047169955907485, 29.046046364702793, 23.178560145832638, 23.97306731043858, 17.215757479061637, 14.553834505701758, 16.841333509762954, 14.280017148253476, 15.255108448635635, 20.247313270809833, 12.148229080980482, 0.730690243879161, 0.7205037048272191, 0.7175983199664467, 0.7086036055849505, 0.8210813181139535, 0.820304453017391, 0.820269682775164, 0.8200071750644404, 0.8199592234060488, 0.8189097893480259, 0.8180932696113417, 0.8176441085391208, 0.8172523382853273, 0.8151142447367342, 0.8140789288589525, 0.8133857466917849, 0.7789871405104373, 0.7763719442340807, 0.7754985407152964, 0.7744533326859799, 0.7733611895845728, 0.7730593172490223, 0.7728094238916559, 0.7722245820257044, 0.7718677408560185, 0.77019598395576, 0.7700372144195965, 0.7696951999797781, 0.7695481645204256, 0.7690237036431874, 1.8277594457330608, 4.021742475807805, 6.920138998436162, 9.723352298639423, 2.825976354719397, 3.0029544049478987, 4.881792113727536, 23.178560145832638, 1.6978294204499378, 7.300377809185172, 1.8294305645245827, 1.828761290183033, 29.046046364702793, 19.404202164767288, 14.553834505701758, 14.280017148253476, 19.207329936033325, 17.215757479061637, 9.87732990533462, 17.851381055031744, 19.928486214886323, 9.051882315505116, 3.2287057761193094, 15.255108448635635, 16.841333509762954, 6.861919829873222, 18.047169955907485, 8.039662169911724, 23.97306731043858, 7.234142593717536, 7.087496760469798, 7.590863072966168, 6.062346867909412, 6.032972847182965, 12.148229080980482, 7.757616197956246, 7.4452508107203705, 20.247313270809833, 7.70586145171784, 10.803139148875422, 11.30878382163112], \"Category\": [\"Default\", \"Default\", \"Default\", \"Default\", \"Default\", \"Default\", \"Default\", \"Default\", \"Default\", \"Default\", \"Default\", \"Default\", \"Default\", \"Default\", \"Default\", \"Default\", \"Default\", \"Default\", \"Default\", \"Default\", \"Default\", \"Default\", \"Default\", \"Default\", \"Default\", \"Default\", \"Default\", \"Default\", \"Default\", \"Default\", \"Topic1\", \"Topic1\", \"Topic1\", \"Topic1\", \"Topic1\", \"Topic1\", \"Topic1\", \"Topic1\", \"Topic1\", \"Topic1\", \"Topic1\", \"Topic1\", \"Topic1\", \"Topic1\", \"Topic1\", \"Topic1\", \"Topic1\", \"Topic1\", \"Topic1\", \"Topic1\", \"Topic1\", \"Topic1\", \"Topic1\", \"Topic1\", \"Topic1\", \"Topic1\", \"Topic1\", \"Topic1\", \"Topic1\", \"Topic1\", \"Topic1\", \"Topic1\", \"Topic1\", \"Topic1\", \"Topic1\", \"Topic1\", \"Topic1\", \"Topic1\", \"Topic1\", \"Topic1\", \"Topic1\", \"Topic1\", \"Topic1\", \"Topic1\", \"Topic1\", \"Topic1\", \"Topic1\", \"Topic1\", \"Topic1\", \"Topic1\", \"Topic1\", \"Topic1\", \"Topic1\", \"Topic1\", \"Topic1\", \"Topic1\", \"Topic1\", \"Topic1\", \"Topic1\", \"Topic1\", \"Topic1\", \"Topic1\", \"Topic1\", \"Topic1\", \"Topic1\", \"Topic2\", \"Topic2\", \"Topic2\", \"Topic2\", \"Topic2\", \"Topic2\", \"Topic2\", \"Topic2\", \"Topic2\", \"Topic2\", \"Topic2\", \"Topic2\", \"Topic2\", \"Topic2\", \"Topic2\", \"Topic2\", \"Topic2\", \"Topic2\", \"Topic2\", \"Topic2\", \"Topic2\", \"Topic2\", \"Topic2\", \"Topic2\", \"Topic2\", \"Topic2\", \"Topic2\", \"Topic2\", \"Topic2\", \"Topic2\", \"Topic2\", \"Topic2\", \"Topic2\", \"Topic2\", \"Topic2\", \"Topic2\", \"Topic2\", \"Topic2\", \"Topic2\", \"Topic2\", \"Topic2\", \"Topic2\", \"Topic2\", \"Topic2\", \"Topic2\", \"Topic2\", \"Topic2\", \"Topic2\", \"Topic2\", \"Topic2\", \"Topic2\", \"Topic2\", \"Topic2\", \"Topic2\", \"Topic2\", \"Topic2\", \"Topic2\", \"Topic2\", \"Topic2\", \"Topic2\", \"Topic3\", \"Topic3\", \"Topic3\", \"Topic3\", \"Topic3\", \"Topic3\", \"Topic3\", \"Topic3\", \"Topic3\", \"Topic3\", \"Topic3\", \"Topic3\", \"Topic3\", \"Topic3\", \"Topic3\", \"Topic3\", \"Topic3\", \"Topic3\", \"Topic3\", \"Topic3\", \"Topic3\", \"Topic3\", \"Topic3\", \"Topic3\", \"Topic3\", \"Topic3\", \"Topic3\", \"Topic3\", \"Topic3\", \"Topic3\", \"Topic3\", \"Topic3\", \"Topic3\", \"Topic3\", \"Topic3\", \"Topic3\", \"Topic3\", \"Topic3\", \"Topic3\", \"Topic3\", \"Topic3\", \"Topic3\", \"Topic3\", \"Topic3\", \"Topic3\", \"Topic3\", \"Topic3\", \"Topic3\", \"Topic3\", \"Topic3\", \"Topic3\", \"Topic3\", \"Topic3\", \"Topic3\", \"Topic3\", \"Topic3\", \"Topic3\", \"Topic3\", \"Topic3\", \"Topic3\", \"Topic3\", \"Topic3\", \"Topic4\", \"Topic4\", \"Topic4\", \"Topic4\", \"Topic4\", \"Topic4\", \"Topic4\", \"Topic4\", \"Topic4\", \"Topic4\", \"Topic4\", \"Topic4\", \"Topic4\", \"Topic4\", \"Topic4\", \"Topic4\", \"Topic4\", \"Topic4\", \"Topic4\", \"Topic4\", \"Topic4\", \"Topic4\", \"Topic4\", \"Topic4\", \"Topic4\", \"Topic4\", \"Topic4\", \"Topic4\", \"Topic4\", \"Topic4\", \"Topic4\", \"Topic4\", \"Topic4\", \"Topic4\", \"Topic4\", \"Topic4\", \"Topic4\", \"Topic4\", \"Topic4\", \"Topic4\", \"Topic4\", \"Topic4\", \"Topic4\", \"Topic4\", \"Topic4\", \"Topic4\", \"Topic4\", \"Topic4\", \"Topic4\", \"Topic4\", \"Topic4\", \"Topic4\", \"Topic4\", \"Topic4\", \"Topic4\", \"Topic4\", \"Topic4\", \"Topic4\", \"Topic4\", \"Topic4\", \"Topic4\", \"Topic4\", \"Topic5\", \"Topic5\", \"Topic5\", \"Topic5\", \"Topic5\", \"Topic5\", \"Topic5\", \"Topic5\", \"Topic5\", \"Topic5\", \"Topic5\", \"Topic5\", \"Topic5\", \"Topic5\", \"Topic5\", \"Topic5\", \"Topic5\", \"Topic5\", \"Topic5\", \"Topic5\", \"Topic5\", \"Topic5\", \"Topic5\", \"Topic5\", \"Topic5\", \"Topic5\", \"Topic5\", \"Topic5\", \"Topic5\", \"Topic5\", \"Topic5\", \"Topic5\", \"Topic5\", \"Topic5\", \"Topic5\", \"Topic5\", \"Topic5\", \"Topic5\", \"Topic5\", \"Topic5\", \"Topic5\", \"Topic5\", \"Topic5\", \"Topic5\", \"Topic5\", \"Topic5\", \"Topic5\", \"Topic5\", \"Topic5\", \"Topic5\", \"Topic5\", \"Topic5\", \"Topic5\", \"Topic5\", \"Topic5\", \"Topic5\", \"Topic5\", \"Topic5\", \"Topic5\", \"Topic5\", \"Topic5\", \"Topic6\", \"Topic6\", \"Topic6\", \"Topic6\", \"Topic6\", \"Topic6\", \"Topic6\", \"Topic6\", \"Topic6\", \"Topic6\", \"Topic6\", \"Topic6\", \"Topic6\", \"Topic6\", \"Topic6\", \"Topic6\", \"Topic6\", \"Topic6\", \"Topic6\", \"Topic6\", \"Topic6\", \"Topic6\", \"Topic6\", \"Topic6\", \"Topic6\", \"Topic6\", \"Topic6\", \"Topic6\", \"Topic6\", \"Topic6\", \"Topic6\", \"Topic6\", \"Topic6\", \"Topic6\", \"Topic6\", \"Topic6\", \"Topic6\", \"Topic6\", \"Topic6\", \"Topic6\", \"Topic6\", \"Topic6\", \"Topic6\", \"Topic6\", \"Topic6\", \"Topic7\", \"Topic7\", \"Topic7\", \"Topic7\", \"Topic7\", \"Topic7\", \"Topic7\", \"Topic7\", \"Topic7\", \"Topic7\", \"Topic7\", \"Topic7\", \"Topic7\", \"Topic7\", \"Topic7\", \"Topic7\", \"Topic7\", \"Topic7\", \"Topic7\", \"Topic7\", \"Topic7\", \"Topic7\", \"Topic7\", \"Topic7\", \"Topic7\", \"Topic7\", \"Topic7\", \"Topic7\", \"Topic7\", \"Topic7\", \"Topic7\", \"Topic7\", \"Topic7\", \"Topic7\", \"Topic7\", \"Topic7\", \"Topic7\", \"Topic7\", \"Topic7\", \"Topic7\", \"Topic7\", \"Topic7\", \"Topic7\", \"Topic7\", \"Topic7\", \"Topic7\", \"Topic7\", \"Topic7\", \"Topic7\", \"Topic7\", \"Topic7\", \"Topic7\", \"Topic7\", \"Topic7\", \"Topic7\", \"Topic7\", \"Topic7\", \"Topic7\", \"Topic7\", \"Topic7\", \"Topic7\", \"Topic7\", \"Topic7\", \"Topic7\", \"Topic7\", \"Topic7\", \"Topic7\", \"Topic7\", \"Topic7\", \"Topic7\", \"Topic7\"], \"logprob\": [30.0, 29.0, 28.0, 27.0, 26.0, 25.0, 24.0, 23.0, 22.0, 21.0, 20.0, 19.0, 18.0, 17.0, 16.0, 15.0, 14.0, 13.0, 12.0, 11.0, 10.0, 9.0, 8.0, 7.0, 6.0, 5.0, 4.0, 3.0, 2.0, 1.0, -4.6999, -4.8748, -4.8736, -5.3562, -5.3544, -5.353, -5.7425, -5.737, -5.7351, -5.7347, -5.7343, -5.7324, -5.7315, -5.7311, -5.7309, -5.7297, -5.7296, -5.7294, -5.7292, -5.7291, -5.7291, -5.7289, -5.7288, -5.7277, -5.7277, -5.7274, -5.7269, -5.7264, -5.7261, -5.7257, -4.8253, -4.0566, -4.3473, -4.3388, -4.828, -5.0278, -3.8217, -4.4188, -4.9696, -4.4334, -4.9704, -5.285, -4.975, -4.7829, -4.2216, -4.2645, -5.2967, -5.292, -4.3544, -4.8888, -4.5072, -5.2114, -5.2416, -5.1357, -4.5495, -4.3687, -4.5981, -4.7692, -4.6851, -5.1385, -5.0976, -5.0925, -4.8832, -5.0156, -5.0251, -3.9652, -5.2954, -5.2936, -5.6786, -5.6703, -5.6699, -5.6685, -5.6681, -5.6681, -5.6664, -5.664, -5.6632, -5.219, -6.2969, -6.2966, -6.2959, -6.2947, -6.2945, -6.2945, -6.2944, -6.2944, -6.2943, -6.2941, -6.2941, -6.2941, -6.2941, -6.294, -6.2938, -6.2936, -6.2935, -4.7188, -4.7181, -4.7173, -4.9145, -5.1417, -3.9774, -3.7221, -4.8196, -4.809, -4.1894, -4.2105, -4.7507, -4.0834, -4.5605, -4.2442, -4.2558, -4.9012, -4.639, -4.2468, -4.1382, -4.5985, -4.5918, -4.558, -4.8749, -5.0832, -4.9919, -4.9107, -4.6895, -5.0799, -4.9661, -4.8869, -5.1577, -5.1555, -5.5543, -5.1493, -5.5286, -5.5229, -5.5224, -5.5217, -5.5216, -6.1734, -6.1734, -6.173, -6.172, -6.1713, -6.1611, -6.1608, -6.1601, -6.1601, -6.1597, -6.1596, -6.1593, -6.1592, -6.1591, -6.159, -6.1588, -6.1586, -6.1585, -6.1584, -6.1583, -4.3929, -4.5727, -5.431, -3.5031, -3.9155, -5.0585, -5.0048, -5.4556, -4.3005, -5.0517, -5.0506, -3.6626, -4.6871, -4.0578, -3.8728, -4.03, -4.9846, -4.5989, -4.1198, -5.4456, -4.3276, -4.179, -4.9908, -4.9587, -4.9555, -4.6377, -4.5772, -4.6907, -4.6752, -5.0383, -5.1103, -5.1207, -5.2508, -5.8808, -5.8799, -5.8798, -5.8798, -5.8798, -5.8797, -5.8796, -5.8795, -5.8793, -5.8792, -5.8789, -5.8789, -5.8788, -5.8785, -5.8784, -5.8783, -5.8782, -5.8777, -5.8773, -5.8773, -5.8771, -5.8769, -5.8768, -5.8768, -5.8767, -5.8765, -5.8765, -5.8764, -5.8763, -4.2019, -4.04, -4.4566, -4.1862, -4.1289, -4.1592, -4.4247, -5.0419, -4.1125, -4.2251, -4.0018, -5.0048, -5.0804, -5.0076, -4.1992, -4.8745, -4.3765, -4.5299, -4.8567, -4.8737, -4.7099, -5.1519, -5.0239, -5.081, -5.1635, -4.8671, -5.4168, -4.9559, -5.237, -5.3094, -5.2112, -5.1872, -5.0382, -5.6696, -5.6691, -5.6689, -5.6687, -5.6687, -5.6686, -5.6685, -5.668, -5.6679, -5.6677, -5.6676, -5.6675, -5.6671, -5.6668, -5.6665, -5.6657, -5.6547, -5.6545, -5.6542, -5.6535, -5.6534, -5.6532, -5.653, -5.6526, -5.6526, -5.6525, -5.6525, -5.6523, -5.5098, -4.0809, -3.7622, -4.0074, -3.9185, -4.3116, -4.2336, -4.3612, -4.3861, -4.6922, -4.4725, -4.5645, -4.5262, -4.5754, -4.7456, -4.9336, -4.5996, -5.0157, -4.9901, -5.0087, -4.9958, -5.0148, -5.1399, -5.0186, -5.0908, -4.7879, -5.0961, -5.1713, -5.2382, -5.2582, -4.9693, -5.2154, -5.4676, -5.4647, -5.4638, -5.4607, -5.302, -5.3158, -5.3156, -5.2427, -5.1705, -5.2555, -5.1586, -5.024, -5.2314, -4.519, -5.0632, -4.9647, -5.0367, -4.7584, -4.7706, -4.945, -4.8432, -4.5707, -4.7733, -4.6878, -4.6307, -7.1796, -7.181, -7.181, -7.1815, -7.1816, -4.1863, -4.279, -4.211, -4.2117, -4.3167, -3.8994, -4.2685, -4.4242, -4.5866, -4.6949, -4.6593, -4.711, -4.7261, -4.7938, -5.0443, -6.9757, -6.9922, -6.9969, -7.0118, -7.0637, -7.065, -7.0651, -7.0655, -7.0656, -7.0675, -7.0689, -7.0697, -7.0704, -7.0742, -7.076, -7.0773, -7.1405, -7.1455, -7.1471, -7.1491, -7.1512, -7.1518, -7.1523, -7.1534, -7.1541, -7.1573, -7.1576, -7.1583, -7.1586, -7.1596, -6.3444, -5.641, -5.1504, -4.8555, -5.9757, -5.9461, -5.5221, -4.1528, -6.4536, -5.171, -6.3893, -6.3899, -3.9675, -4.3249, -4.5791, -4.5961, -4.3573, -4.4709, -4.9458, -4.4465, -4.3576, -5.0357, -5.9134, -4.6106, -4.5436, -5.2916, -4.4968, -5.1752, -4.3082, -5.2787, -5.2958, -5.2468, -5.4281, -5.4382, -4.9276, -5.2573, -5.2899, -4.6783, -5.2968, -5.1653, -5.2518], \"loglift\": [30.0, 29.0, 28.0, 27.0, 26.0, 25.0, 24.0, 23.0, 22.0, 21.0, 20.0, 19.0, 18.0, 17.0, 16.0, 15.0, 14.0, 13.0, 12.0, 11.0, 10.0, 9.0, 8.0, 7.0, 6.0, 5.0, 4.0, 3.0, 2.0, 1.0, 1.0108, 0.9933, 0.9906, 0.9279, 0.924, 0.921, 0.8887, 0.8777, 0.8738, 0.8732, 0.8722, 0.8687, 0.8668, 0.866, 0.8657, 0.8635, 0.8631, 0.8629, 0.8624, 0.8621, 0.862, 0.8619, 0.8615, 0.8594, 0.8593, 0.8588, 0.8578, 0.8569, 0.8564, 0.8555, 0.8354, 0.7786, 0.7341, 0.726, 0.7729, 0.7536, 0.4538, 0.4849, 0.6184, 0.4245, 0.5825, 0.6791, 0.536, 0.4396, 0.1065, 0.1259, 0.6413, 0.6351, 0.047, 0.3527, -0.0475, 0.4547, 0.4631, 0.3456, -0.2315, -0.4541, -0.4578, -0.3316, -0.5786, 0.3477, 0.2275, 0.2121, -0.5919, -0.41, -0.4006, 1.1794, 1.0399, 1.0357, 0.9913, 0.9738, 0.973, 0.9702, 0.9695, 0.9694, 0.9658, 0.961, 0.9593, 0.8526, 0.85, 0.8493, 0.8482, 0.8461, 0.8458, 0.8458, 0.8457, 0.8456, 0.8454, 0.8451, 0.8451, 0.845, 0.845, 0.8449, 0.8447, 0.8442, 0.8441, 0.7266, 0.7255, 0.7243, 0.6663, 0.6733, 0.3139, 0.1924, 0.4563, 0.4475, 0.2482, 0.2491, 0.3298, 0.0568, 0.2258, 0.0737, 0.0724, 0.3213, 0.2189, 0.0286, -0.0317, 0.0261, 0.0138, -0.1676, 0.134, 0.3538, 0.2072, 0.0825, -0.2881, 0.2733, -0.4076, 1.2356, 1.1946, 1.1893, 1.1744, 1.1742, 1.1173, 1.1048, 1.1038, 1.1022, 1.1018, 1.0229, 1.0229, 1.0222, 1.0203, 1.0189, 1.0005, 0.9999, 0.9986, 0.9985, 0.9978, 0.9977, 0.9972, 0.997, 0.9968, 0.9966, 0.9963, 0.9958, 0.9957, 0.9956, 0.9954, 0.9213, 0.8617, 0.8944, 0.6035, 0.6431, 0.7836, 0.739, 0.8214, 0.4858, 0.6839, 0.6719, 0.252, 0.5477, 0.3436, 0.2674, 0.2613, 0.5744, 0.3943, 0.1982, 0.7377, 0.278, 0.2114, 0.5136, 0.4783, 0.3977, -0.0131, -0.1396, -0.3625, -0.3997, -0.5786, 0.2387, 0.0783, 1.6314, 1.4696, 1.4676, 1.4673, 1.4672, 1.4672, 1.4671, 1.4669, 1.4665, 1.466, 1.466, 1.4651, 1.465, 1.465, 1.4642, 1.464, 1.4636, 1.4634, 1.4624, 1.4615, 1.4614, 1.4611, 1.4607, 1.4604, 1.4604, 1.4601, 1.4597, 1.4596, 1.4595, 1.4592, 0.7017, 0.5846, 0.5523, 0.3724, 0.3087, 0.3004, 0.4105, 0.8561, 0.0277, 0.1031, -0.0872, 0.6956, 0.7617, 0.697, -0.0927, 0.483, -0.0586, 0.0757, 0.3998, 0.4022, -0.3195, 0.1971, -0.0307, -0.0005, 0.132, -0.5758, 0.4749, -0.5546, 0.0045, 0.172, -0.3533, -0.9118, 2.0901, 1.8793, 1.8778, 1.8772, 1.8767, 1.8765, 1.8762, 1.876, 1.8744, 1.8741, 1.8735, 1.8733, 1.873, 1.8719, 1.8709, 1.8701, 1.8675, 1.8353, 1.8347, 1.8337, 1.8318, 1.8314, 1.831, 1.8303, 1.8293, 1.8293, 1.829, 1.829, 1.8283, 1.2443, 0.7054, 0.378, 0.2839, -0.0039, 0.294, 0.1678, -0.0433, -0.0579, 0.3727, -0.0349, 0.0601, -0.0666, -0.0169, 0.2633, 0.4154, -0.4931, 0.3418, 0.2664, 0.296, 0.239, 0.2611, 0.558, 0.2228, 0.3906, -0.3974, 0.3901, 0.3877, 0.5769, 0.6048, -0.6939, 0.3727, 2.1604, 2.1506, 2.1474, 2.1365, 1.3784, 1.364, 1.3638, 1.0828, 1.0741, 1.0301, 1.0252, 0.8677, 0.8402, 0.7953, 0.7518, 0.7332, 0.7071, 0.5906, 0.5249, 0.4919, 0.4819, 0.4382, 0.4257, 0.3927, 0.3625, 0.301, 0.3006, 0.3006, 0.3004, 0.3004, 0.1317, 0.1224, 0.1171, 0.0796, 0.0738, 0.0152, -0.1283, -0.3177, -0.149, -0.0893, -0.1997, -0.0864, -0.1676, -0.5184, -0.258, 0.6215, 0.6191, 0.6183, 0.6161, 0.4169, 0.4165, 0.4165, 0.4163, 0.4163, 0.4158, 0.4153, 0.4151, 0.4149, 0.4137, 0.4131, 0.4127, 0.3927, 0.3911, 0.3906, 0.3899, 0.3892, 0.389, 0.3889, 0.3885, 0.3883, 0.3872, 0.3871, 0.3869, 0.3868, 0.3865, 0.336, 0.2507, 0.1986, 0.1534, 0.2689, 0.2377, 0.1758, -0.0126, 0.3005, 0.1246, 0.2902, 0.2899, -0.053, -0.0069, 0.0265, 0.0285, -0.0291, -0.0333, 0.0474, -0.0451, -0.0663, 0.0448, 0.198, -0.052, -0.084, 0.0659, -0.1064, 0.0239, -0.2017, 0.0259, 0.0293, 0.0097, 0.0533, 0.048, -0.1414, -0.0225, -0.014, -0.4029, -0.0554, -0.2617, -0.3939]}, \"token.table\": {\"Topic\": [1, 2, 3, 4, 5, 6, 1, 2, 3, 1, 2, 3, 2, 1, 2, 3, 4, 2, 1, 2, 3, 4, 5, 1, 2, 3, 4, 1, 2, 3, 4, 3, 1, 3, 1, 2, 3, 4, 5, 3, 2, 1, 1, 2, 2, 1, 2, 4, 3, 1, 2, 3, 4, 5, 1, 2, 3, 4, 1, 2, 3, 4, 1, 2, 3, 5, 3, 4, 1, 1, 1, 2, 3, 4, 5, 1, 3, 1, 3, 1, 2, 3, 4, 1, 2, 3, 2, 1, 1, 2, 3, 4, 5, 3, 1, 2, 3, 4, 5, 1, 2, 2, 3, 1, 2, 1, 2, 3, 4, 5, 1, 2, 3, 4, 5, 2, 1, 2, 3, 4, 1, 2, 3, 1, 2, 3, 4, 5, 1, 2, 3, 2, 1, 2, 2, 3, 1, 2, 1, 3, 1, 3, 1, 2, 3, 4, 5, 1, 2, 1, 3, 4, 1, 2, 3, 4, 5, 2, 1, 2, 3, 4, 5, 1, 2, 3, 5, 1, 2, 3, 4, 5, 2, 1, 2, 3, 4, 5, 1, 2, 1, 1, 2, 3, 4, 5, 3, 1, 2, 1, 2, 1, 2, 4, 1, 2, 3, 4, 1, 2, 3, 4, 2, 1, 2, 3, 4, 2, 1, 2, 4, 2, 1, 4, 2, 1, 2, 3, 5, 1, 2, 3, 4, 5, 1, 1, 2, 3, 4, 5, 3, 1, 1, 2, 3, 4, 5, 4, 1, 2, 1, 1, 3, 1, 2, 3, 1, 2, 3, 4, 1, 2, 3, 4, 1, 2, 4, 1, 4, 2, 3, 2, 1, 2, 1, 3, 1, 2, 3, 5, 1, 3, 1, 4, 1, 1, 2, 3, 4, 5, 3, 1, 2, 3, 4, 5, 1, 3, 3, 1, 2, 1, 2, 3, 4, 5, 1, 1, 1, 2, 4, 1, 2, 3, 4, 5, 1, 2, 3, 3, 3, 2, 2, 3, 1, 2, 3, 4, 5, 2, 1, 3, 1, 2, 3, 4, 5, 1, 3, 3, 1, 3, 3, 1, 2, 2, 3, 1, 4, 1, 2, 3, 1, 2, 3, 4, 3, 1, 1, 2, 3, 3, 2, 3, 2, 3, 3, 2, 3, 1, 2, 3, 4, 3, 2], \"Freq\": [0.20656856098981144, 0.3442809349830191, 0.27542474798641525, 0.10328428049490572, 0.06885618699660381, 0.03442809349830191, 0.5093116065589126, 0.38198370491918443, 0.8799926810954044, 0.5097414235155202, 0.16991380783850676, 0.16991380783850676, 0.7749624138482941, 0.6915496711154192, 0.0864437088894274, 0.0864437088894274, 0.1728874177788548, 0.7702319077755265, 0.4972672803261197, 0.16575576010870657, 0.16575576010870657, 0.16575576010870657, 0.16575576010870657, 0.2501985308495814, 0.2501985308495814, 0.2501985308495814, 0.2501985308495814, 0.15738108171770648, 0.15738108171770648, 0.47214324515311945, 0.15738108171770648, 0.8788052475028986, 0.30972162511566287, 0.30972162511566287, 0.08231652476537676, 0.32926609906150706, 0.32926609906150706, 0.08231652476537676, 0.08231652476537676, 0.5182745271981055, 0.8715001942142645, 0.5034388264118562, 0.5152071471248655, 0.25760357356243274, 0.8656011007543613, 0.3968457732380844, 0.1984228866190422, 0.1984228866190422, 0.8786222572457447, 0.4938926891804855, 0.2963356135082913, 0.14816780675414565, 0.04938926891804855, 0.04938926891804855, 0.44213419222287564, 0.35370735377830054, 0.08842683844457513, 0.08842683844457513, 0.22094851990885558, 0.3314227798632834, 0.11047425995442779, 0.11047425995442779, 0.6525380916046766, 0.10875634860077943, 0.10875634860077943, 0.10875634860077943, 0.4732133668507471, 0.23660668342537355, 0.50889137628165, 0.7256724076042154, 0.20569037699887288, 0.3085355654983093, 0.20569037699887288, 0.20569037699887288, 0.10284518849943644, 0.5054278875151693, 0.8805202169511855, 0.48321642429622086, 0.24160821214811043, 0.20620525033716455, 0.4124105006743291, 0.20620525033716455, 0.20620525033716455, 0.13956757098655434, 0.13956757098655434, 0.5582702839462174, 0.866468212723964, 0.7362055999313987, 0.2576761444528046, 0.30921137334336557, 0.2576761444528046, 0.10307045778112185, 0.051535228890560926, 0.7881732088648922, 0.3893140330639115, 0.2595426887092743, 0.12977134435463716, 0.12977134435463716, 0.12977134435463716, 0.4983415143068683, 0.5269548766594448, 0.3328245810350885, 0.3328245810350885, 0.5081761515810126, 0.546618176929755, 0.1311036238604304, 0.19665543579064557, 0.39331087158129113, 0.19665543579064557, 0.0655518119302152, 0.13173732556991638, 0.39521197670974917, 0.13173732556991638, 0.13173732556991638, 0.13173732556991638, 0.8642675766436229, 0.2486484418172848, 0.2486484418172848, 0.2486484418172848, 0.2486484418172848, 0.1451156441939855, 0.290231288387971, 0.290231288387971, 0.36444420038143166, 0.31238074318408426, 0.15619037159204213, 0.15619037159204213, 0.05206345719734738, 0.16879734271632107, 0.33759468543264215, 0.33759468543264215, 0.8653896367546082, 0.5315579249004326, 0.17718597496681088, 0.5242297961917944, 0.8845171110822164, 0.5208371941765122, 0.2604185970882561, 0.7320686368945869, 0.880193184650248, 0.5208662048822429, 0.9155733830896542, 0.17257327352662047, 0.30200322867158585, 0.30200322867158585, 0.12942995514496536, 0.08628663676331023, 0.503176225419728, 0.8666411774604547, 0.7373081281109617, 0.36550267081602966, 0.36550267081602966, 0.4147001474100523, 0.13823338247001743, 0.27646676494003486, 0.13823338247001743, 0.13823338247001743, 0.8643802972220873, 0.1668539093559497, 0.2502808640339246, 0.41713477338987426, 0.1251404320169623, 0.04171347733898743, 0.1577903717908861, 0.3155807435817722, 0.3155807435817722, 0.8563033362227676, 0.1343138096248022, 0.40294142887440654, 0.1343138096248022, 0.1343138096248022, 0.1343138096248022, 0.5248067372313038, 0.21008378133263772, 0.28011170844351696, 0.21008378133263772, 0.21008378133263772, 0.07002792711087924, 0.23028495145782585, 0.4605699029156517, 0.5123625857040972, 0.12890557801292765, 0.2578111560258553, 0.3867167340387829, 0.12890557801292765, 0.12890557801292765, 0.8816462254875469, 0.509392734259321, 0.5214284674188394, 0.495445113310415, 0.8650594269518016, 0.15912795858545806, 0.6365118343418322, 0.15912795858545806, 0.42328061675207646, 0.28218707783471764, 0.14109353891735882, 0.14109353891735882, 0.2739584241083584, 0.2739584241083584, 0.1369792120541792, 0.1369792120541792, 0.5468182235527931, 0.205360722893379, 0.410721445786758, 0.205360722893379, 0.205360722893379, 0.5952620846634789, 0.1588376250149099, 0.6353505000596396, 0.1588376250149099, 0.8699498745639748, 0.5345896291489283, 0.26729481457446413, 0.8670945614820326, 0.17826674704761516, 0.35653349409523033, 0.35653349409523033, 0.17826674704761516, 0.20613124320086845, 0.2748416576011579, 0.2748416576011579, 0.13742082880057896, 0.06871041440028948, 0.8299096539087304, 0.23234528047138966, 0.3485179207070845, 0.17425896035354224, 0.17425896035354224, 0.058086320117847416, 0.8789390395646701, 0.4999539907938179, 0.1445057679081278, 0.2890115358162556, 0.2890115358162556, 0.1445057679081278, 0.1445057679081278, 0.5889873199010724, 0.5014746679823198, 0.8661321569884738, 0.5004424877703006, 0.4965359246862564, 0.9165544804007565, 0.6634664325459647, 0.11057773875766079, 0.11057773875766079, 0.20248387156936265, 0.303725807354044, 0.303725807354044, 0.10124193578468133, 0.46282843635504656, 0.1851313745420186, 0.0925656872710093, 0.27769706181302795, 0.5505882608911173, 0.1835294202970391, 0.1835294202970391, 0.668037511109193, 0.222679170369731, 0.5414039947829131, 0.8783768650137295, 0.8656544315644881, 0.7435803272103918, 0.18589508180259795, 0.41247046497417056, 0.41247046497417056, 0.40968561409569776, 0.20484280704784888, 0.20484280704784888, 0.20484280704784888, 0.4198676045962673, 0.4198676045962673, 0.4971957782240042, 0.6694833537058119, 0.7285451683915943, 0.15053827810358414, 0.3512559822416963, 0.3010765562071683, 0.050179426034528046, 0.10035885206905609, 0.8807647958005774, 0.29688860428430386, 0.35626632514116463, 0.11875544171372154, 0.17813316257058232, 0.05937772085686077, 0.4979610047836574, 0.5742290522406766, 0.5285945391038975, 0.5012035826703863, 0.524178546881684, 0.49485786039071433, 0.16495262013023812, 0.16495262013023812, 0.16495262013023812, 0.16495262013023812, 0.5002772340972345, 0.5010000751336506, 0.15853331791813963, 0.6341332716725585, 0.15853331791813963, 0.3324620987478419, 0.22164139916522793, 0.27705174895653495, 0.11082069958261397, 0.05541034979130698, 0.21444830336497026, 0.21444830336497026, 0.4288966067299405, 0.38367593313026993, 0.8852986370916736, 0.8666675509049, 0.5275980749299447, 0.8826902840614318, 0.29146362090869127, 0.29146362090869127, 0.14573181045434563, 0.14573181045434563, 0.14573181045434563, 0.8655952615373618, 0.500395847193093, 0.911005030825491, 0.33610844906079623, 0.22407229937386416, 0.33610844906079623, 0.05601807484346604, 0.05601807484346604, 0.7894248133373463, 0.7823338950351902, 0.7658292905094877, 0.5040072858996935, 0.5471179494295701, 0.6264331936991129, 0.5006499037014713, 0.8723434839928657, 0.5163562864148884, 0.881471190876974, 0.3538600025191273, 0.3538600025191273, 0.4983810317078135, 0.3330053890769447, 0.3330053890769447, 0.18220617564233021, 0.5466185269269906, 0.18220617564233021, 0.18220617564233021, 0.9165731496309245, 0.49611780544254663, 0.7288271153771857, 0.4254172748859368, 0.4254172748859368, 0.8795136479832043, 0.865625014937558, 0.5171039131453495, 0.8663706971980948, 0.5190637124556685, 0.5167787984994006, 0.5176433673132964, 0.9128661174423749, 0.24876667174958675, 0.3731500076243801, 0.24876667174958675, 0.12438333587479337, 0.8826272152996716, 0.9423439993540997], \"Term\": [\"\", \"\", \"\", \"\", \"\", \"\", \"  \", \"  \", \"!!!!\", \"(\", \"(\", \"(\", \"+\", \"-\", \"-\", \"-\", \"-\", \"/\", \"1\", \"1\", \"1\", \"1\", \"1\", \"199\", \"199\", \"199\", \"199\", \"2\", \"2\", \"2\", \"2\", \"500\", \"555\", \"555\", \":\", \":\", \":\", \":\", \":\", \"::\", \"Menu\", \"Shabushi\", \"\\u0e01\\u0e25\\u0e31\\u0e1a\\u0e21\\u0e32\", \"\\u0e01\\u0e25\\u0e31\\u0e1a\\u0e21\\u0e32\", \"\\u0e01\\u0e25\\u0e32\\u0e22\", \"\\u0e01\\u0e30\\u0e1b\\u0e34\", \"\\u0e01\\u0e30\\u0e1b\\u0e34\", \"\\u0e01\\u0e30\\u0e1b\\u0e34\", \"\\u0e01\\u0e32\\u0e41\\u0e1f\", \"\\u0e01\\u0e34\\u0e19\", \"\\u0e01\\u0e34\\u0e19\", \"\\u0e01\\u0e34\\u0e19\", \"\\u0e01\\u0e34\\u0e19\", \"\\u0e01\\u0e34\\u0e19\", \"\\u0e01\\u0e38\\u0e49\\u0e07\", \"\\u0e01\\u0e38\\u0e49\\u0e07\", \"\\u0e01\\u0e38\\u0e49\\u0e07\", \"\\u0e01\\u0e38\\u0e49\\u0e07\", \"\\u0e02\\u0e2d\\u0e07\\u0e2b\\u0e27\\u0e32\\u0e19\", \"\\u0e02\\u0e2d\\u0e07\\u0e2b\\u0e27\\u0e32\\u0e19\", \"\\u0e02\\u0e2d\\u0e07\\u0e2b\\u0e27\\u0e32\\u0e19\", \"\\u0e02\\u0e2d\\u0e07\\u0e2b\\u0e27\\u0e32\\u0e19\", \"\\u0e04\\u0e19\", \"\\u0e04\\u0e19\", \"\\u0e04\\u0e19\", \"\\u0e04\\u0e19\", \"\\u0e04\\u0e19\\u0e25\\u0e30\", \"\\u0e04\\u0e19\\u0e25\\u0e30\", \"\\u0e04\\u0e23\\u0e36\\u0e48\\u0e07\", \"\\u0e04\\u0e34\\u0e27\", \"\\u0e04\\u0e38\\u0e49\\u0e21\", \"\\u0e04\\u0e38\\u0e49\\u0e21\", \"\\u0e04\\u0e38\\u0e49\\u0e21\", \"\\u0e04\\u0e38\\u0e49\\u0e21\", \"\\u0e04\\u0e38\\u0e49\\u0e21\", \"\\u0e04\\u0e48\\u0e32\", \"\\u0e07\\u0e27\\u0e14\", \"\\u0e08\\u0e32\\u0e19\", \"\\u0e08\\u0e32\\u0e19\", \"\\u0e08\\u0e48\\u0e32\\u0e22\", \"\\u0e08\\u0e48\\u0e32\\u0e22\", \"\\u0e08\\u0e48\\u0e32\\u0e22\", \"\\u0e08\\u0e48\\u0e32\\u0e22\", \"\\u0e0a\\u0e2d\\u0e1a\", \"\\u0e0a\\u0e2d\\u0e1a\", \"\\u0e0a\\u0e2d\\u0e1a\", \"\\u0e0a\\u0e31\\u0e48\\u0e27\\u0e04\\u0e23\\u0e32\\u0e27\", \"\\u0e0a\\u0e31\\u0e48\\u0e27\\u0e42\\u0e21\\u0e07\", \"\\u0e0a\\u0e32\\u0e1a\\u0e39\", \"\\u0e0a\\u0e32\\u0e1a\\u0e39\", \"\\u0e0a\\u0e32\\u0e1a\\u0e39\", \"\\u0e0a\\u0e32\\u0e1a\\u0e39\", \"\\u0e0a\\u0e32\\u0e1a\\u0e39\", \"\\u0e0a\\u0e32\\u0e40\\u0e02\\u0e35\\u0e22\\u0e27\", \"\\u0e0a\\u0e34\", \"\\u0e0a\\u0e34\", \"\\u0e0a\\u0e34\", \"\\u0e0a\\u0e34\", \"\\u0e0a\\u0e34\", \"\\u0e0a\\u0e37\\u0e48\\u0e19\", \"\\u0e0a\\u0e37\\u0e48\\u0e2d\", \"\\u0e0a\\u0e38\\u0e14\", \"\\u0e0a\\u0e38\\u0e14\", \"\\u0e0a\\u0e39\", \"\\u0e0b\\u0e36\", \"\\u0e0b\\u0e38\\u0e1b\", \"\\u0e0b\\u0e38\\u0e1b\", \"\\u0e0b\\u0e38\\u0e1b\", \"\\u0e0b\\u0e38\\u0e1b\", \"\\u0e0b\\u0e38\\u0e1b\", \"\\u0e0b\\u0e39\\u0e0a\\u0e34\", \"\\u0e0b\\u0e39\\u0e0a\\u0e34\", \"\\u0e0b\\u0e39\\u0e0a\\u0e34\", \"\\u0e0b\\u0e39\\u0e0a\\u0e34\", \"\\u0e0b\\u0e39\\u0e0a\\u0e34\", \"\\u0e0d\\u0e35\\u0e48\", \"\\u0e0d\\u0e35\\u0e48\\u0e1b\\u0e38\\u0e48\\u0e19\", \"\\u0e0d\\u0e35\\u0e48\\u0e1b\\u0e38\\u0e48\\u0e19\", \"\\u0e0d\\u0e35\\u0e48\\u0e1b\\u0e38\\u0e48\\u0e19\", \"\\u0e0d\\u0e35\\u0e48\\u0e1b\\u0e38\\u0e48\\u0e19\", \"\\u0e14\\u0e33\", \"\\u0e14\\u0e33\", \"\\u0e14\\u0e33\", \"\\u0e14\\u0e35\", \"\\u0e14\\u0e35\", \"\\u0e14\\u0e35\", \"\\u0e14\\u0e35\", \"\\u0e14\\u0e35\", \"\\u0e14\\u0e35\\u0e21\\u0e32\\u0e01\", \"\\u0e14\\u0e35\\u0e21\\u0e32\\u0e01\", \"\\u0e14\\u0e35\\u0e21\\u0e32\\u0e01\", \"\\u0e14\\u0e36\\u0e01\", \"\\u0e14\\u0e39\", \"\\u0e14\\u0e39\", \"\\u0e15\\u0e1a\\u0e17\\u0e49\\u0e32\\u0e22\", \"\\u0e15\\u0e2d\\u0e19\\u0e17\\u0e35\\u0e48\", \"\\u0e15\\u0e31\\u0e27\", \"\\u0e15\\u0e31\\u0e27\", \"\\u0e15\\u0e31\\u0e49\\u0e07\\u0e2d\\u0e22\\u0e39\\u0e48\", \"\\u0e15\\u0e33\", \"\\u0e15\\u0e48\\u0e32\\u0e07 \\u0e46\", \"\\u0e16\\u0e49\\u0e27\\u0e22\", \"\\u0e17\\u0e32\\u0e19\", \"\\u0e17\\u0e32\\u0e19\", \"\\u0e17\\u0e32\\u0e19\", \"\\u0e17\\u0e32\\u0e19\", \"\\u0e17\\u0e32\\u0e19\", \"\\u0e17\\u0e35\\u0e48\\u0e19\\u0e31\\u0e48\\u0e07\", \"\\u0e19\\u0e1e\", \"\\u0e19\\u0e30\\u0e04\\u0e30\", \"\\u0e19\\u0e36\\u0e01\\u0e16\\u0e36\\u0e07\", \"\\u0e19\\u0e36\\u0e01\\u0e16\\u0e36\\u0e07\", \"\\u0e19\\u0e38\\u0e48\\u0e21\", \"\\u0e19\\u0e38\\u0e48\\u0e21\", \"\\u0e19\\u0e38\\u0e48\\u0e21\", \"\\u0e19\\u0e38\\u0e48\\u0e21\", \"\\u0e19\\u0e38\\u0e48\\u0e21\", \"\\u0e19\\u0e49\\u0e30\", \"\\u0e19\\u0e49\\u0e33\", \"\\u0e19\\u0e49\\u0e33\", \"\\u0e19\\u0e49\\u0e33\", \"\\u0e19\\u0e49\\u0e33\", \"\\u0e19\\u0e49\\u0e33\", \"\\u0e19\\u0e49\\u0e33\\u0e08\\u0e34\\u0e49\\u0e21\", \"\\u0e19\\u0e49\\u0e33\\u0e08\\u0e34\\u0e49\\u0e21\", \"\\u0e19\\u0e49\\u0e33\\u0e08\\u0e34\\u0e49\\u0e21\", \"\\u0e19\\u0e4d\\u0e49\\u0e32\", \"\\u0e1a\\u0e23\\u0e34\\u0e01\\u0e32\\u0e23\", \"\\u0e1a\\u0e23\\u0e34\\u0e01\\u0e32\\u0e23\", \"\\u0e1a\\u0e23\\u0e34\\u0e01\\u0e32\\u0e23\", \"\\u0e1a\\u0e23\\u0e34\\u0e01\\u0e32\\u0e23\", \"\\u0e1a\\u0e23\\u0e34\\u0e01\\u0e32\\u0e23\", \"\\u0e1a\\u0e32\\u0e07\\u0e2a\\u0e48\\u0e27\\u0e19\", \"\\u0e1a\\u0e32\\u0e17\", \"\\u0e1a\\u0e32\\u0e17\", \"\\u0e1a\\u0e32\\u0e17\", \"\\u0e1a\\u0e32\\u0e17\", \"\\u0e1a\\u0e32\\u0e17\", \"\\u0e1a\\u0e38\", \"\\u0e1a\\u0e38\", \"\\u0e1a\\u0e38\\u0e1f\\u0e40\\u0e1f\\u0e15\\u0e4c\", \"\\u0e1a\\u0e38\\u0e1f\\u0e40\\u0e1f\\u0e48\\u0e15\\u0e4c\", \"\\u0e1a\\u0e38\\u0e1f\\u0e40\\u0e1f\\u0e48\\u0e15\\u0e4c\", \"\\u0e1a\\u0e38\\u0e1f\\u0e40\\u0e1f\\u0e48\\u0e15\\u0e4c\", \"\\u0e1a\\u0e38\\u0e1f\\u0e40\\u0e1f\\u0e48\\u0e15\\u0e4c\", \"\\u0e1a\\u0e38\\u0e1f\\u0e40\\u0e1f\\u0e48\\u0e15\\u0e4c\", \"\\u0e1a\\u0e4a\\u0e27\\u0e22\", \"\\u0e1b\\u0e23\\u0e30\\u0e15\\u0e39\", \"\\u0e1b\\u0e23\\u0e30\\u0e17\\u0e31\\u0e1a\\u0e43\\u0e08\", \"\\u0e1b\\u0e2d\\u0e01\\u0e40\\u0e1b\\u0e25\\u0e37\\u0e2d\\u0e01\", \"\\u0e1b\\u0e38\", \"\\u0e1b\\u0e38\\u0e23\\u0e30\", \"\\u0e1b\\u0e38\\u0e23\\u0e30\", \"\\u0e1b\\u0e38\\u0e23\\u0e30\", \"\\u0e1c\\u0e31\\u0e01\", \"\\u0e1c\\u0e31\\u0e01\", \"\\u0e1c\\u0e31\\u0e01\", \"\\u0e1c\\u0e31\\u0e01\", \"\\u0e1e\\u0e19\\u0e31\\u0e01\\u0e07\\u0e32\\u0e19\", \"\\u0e1e\\u0e19\\u0e31\\u0e01\\u0e07\\u0e32\\u0e19\", \"\\u0e1e\\u0e19\\u0e31\\u0e01\\u0e07\\u0e32\\u0e19\", \"\\u0e1e\\u0e19\\u0e31\\u0e01\\u0e07\\u0e32\\u0e19\", \"\\u0e1e\\u0e2d\\u0e19\", \"\\u0e1e\\u0e34\\u0e0b\\u0e0b\\u0e48\\u0e32\", \"\\u0e1e\\u0e34\\u0e0b\\u0e0b\\u0e48\\u0e32\", \"\\u0e1e\\u0e34\\u0e0b\\u0e0b\\u0e48\\u0e32\", \"\\u0e1e\\u0e34\\u0e0b\\u0e0b\\u0e48\\u0e32\", \"\\u0e1f\\u0e40\\u0e1f\\u0e48\", \"\\u0e21\", \"\\u0e21\", \"\\u0e21\", \"\\u0e21\\u0e2d\", \"\\u0e21\\u0e2d\\u0e25\\u0e25\\u0e4c\", \"\\u0e21\\u0e2d\\u0e25\\u0e25\\u0e4c\", \"\\u0e22\\u0e38\\u0e04\", \"\\u0e23\\u0e2a\", \"\\u0e23\\u0e2a\", \"\\u0e23\\u0e2a\", \"\\u0e23\\u0e2a\", \"\\u0e23\\u0e2a\\u0e0a\\u0e32\\u0e15\\u0e34\", \"\\u0e23\\u0e2a\\u0e0a\\u0e32\\u0e15\\u0e34\", \"\\u0e23\\u0e2a\\u0e0a\\u0e32\\u0e15\\u0e34\", \"\\u0e23\\u0e2a\\u0e0a\\u0e32\\u0e15\\u0e34\", \"\\u0e23\\u0e2a\\u0e0a\\u0e32\\u0e15\\u0e34\", \"\\u0e23\\u0e2d\", \"\\u0e23\\u0e32\\u0e04\\u0e32\", \"\\u0e23\\u0e32\\u0e04\\u0e32\", \"\\u0e23\\u0e32\\u0e04\\u0e32\", \"\\u0e23\\u0e32\\u0e04\\u0e32\", \"\\u0e23\\u0e32\\u0e04\\u0e32\", \"\\u0e23\\u0e49\\u0e2d\\u0e19\", \"\\u0e25\\u0e14\", \"\\u0e25\\u0e2d\\u0e07\", \"\\u0e25\\u0e2d\\u0e07\", \"\\u0e25\\u0e2d\\u0e07\", \"\\u0e25\\u0e2d\\u0e07\", \"\\u0e25\\u0e2d\\u0e07\", \"\\u0e25\\u0e39\\u0e01\\u0e04\\u0e49\\u0e32\", \"\\u0e25\\u0e39\\u0e01\\u0e0a\\u0e34\\u0e49\\u0e19\", \"\\u0e27\\u0e01\", \"\\u0e27\\u0e32\\u0e07\", \"\\u0e27\\u0e32\\u0e19\\u0e34\\u0e25\\u0e32\", \"\\u0e2a\", \"\\u0e2a\\u0e14\", \"\\u0e2a\\u0e14\", \"\\u0e2a\\u0e14\", \"\\u0e2a\\u0e31\\u0e48\\u0e07\", \"\\u0e2a\\u0e31\\u0e48\\u0e07\", \"\\u0e2a\\u0e31\\u0e48\\u0e07\", \"\\u0e2a\\u0e31\\u0e48\\u0e07\", \"\\u0e2a\\u0e32\\u0e02\\u0e32\", \"\\u0e2a\\u0e32\\u0e02\\u0e32\", \"\\u0e2a\\u0e32\\u0e02\\u0e32\", \"\\u0e2a\\u0e32\\u0e02\\u0e32\", \"\\u0e2a\\u0e32\\u0e22\\u0e1e\\u0e32\\u0e19\", \"\\u0e2a\\u0e32\\u0e22\\u0e1e\\u0e32\\u0e19\", \"\\u0e2a\\u0e32\\u0e22\\u0e1e\\u0e32\\u0e19\", \"\\u0e2a\\u0e33\\u0e2b\\u0e23\\u0e31\\u0e1a\", \"\\u0e2a\\u0e33\\u0e2b\\u0e23\\u0e31\\u0e1a\", \"\\u0e2a\\u0e38\\u0e01\\u0e35\\u0e49\", \"\\u0e2a\\u0e38\\u0e01\\u0e35\\u0e49\\u0e22\\u0e32\\u0e01\\u0e35\\u0e49\", \"\\u0e2a\\u0e4c\", \"\\u0e2b\\u0e19\\u0e49\\u0e32\", \"\\u0e2b\\u0e19\\u0e49\\u0e32\", \"\\u0e2b\\u0e21\\u0e49\\u0e2d\", \"\\u0e2b\\u0e21\\u0e49\\u0e2d\", \"\\u0e2b\\u0e22\\u0e34\\u0e1a\", \"\\u0e2b\\u0e22\\u0e34\\u0e1a\", \"\\u0e2b\\u0e22\\u0e34\\u0e1a\", \"\\u0e2b\\u0e22\\u0e34\\u0e1a\", \"\\u0e2b\\u0e27\\u0e32\\u0e19\", \"\\u0e2b\\u0e27\\u0e32\\u0e19\", \"\\u0e2b\\u0e2d\\u0e21\", \"\\u0e2b\\u0e34\\u0e27\", \"\\u0e2b\\u0e49\\u0e32\\u0e07\", \"\\u0e2d\\u0e23\\u0e48\\u0e2d\\u0e22\", \"\\u0e2d\\u0e23\\u0e48\\u0e2d\\u0e22\", \"\\u0e2d\\u0e23\\u0e48\\u0e2d\\u0e22\", \"\\u0e2d\\u0e23\\u0e48\\u0e2d\\u0e22\", \"\\u0e2d\\u0e23\\u0e48\\u0e2d\\u0e22\", \"\\u0e2d\\u0e2d\\u0e2a\\u0e40\\u0e15\\u0e23\\u0e40\\u0e25\\u0e35\\u0e22\", \"\\u0e2d\\u0e32\\u0e2b\\u0e32\\u0e23\", \"\\u0e2d\\u0e32\\u0e2b\\u0e32\\u0e23\", \"\\u0e2d\\u0e32\\u0e2b\\u0e32\\u0e23\", \"\\u0e2d\\u0e32\\u0e2b\\u0e32\\u0e23\", \"\\u0e2d\\u0e32\\u0e2b\\u0e32\\u0e23\", \"\\u0e2d\\u0e35\\u0e01\\u0e04\\u0e23\\u0e31\\u0e49\\u0e07\", \"\\u0e40\\u0e01\\u0e34\\u0e19\\u0e44\\u0e1b\", \"\\u0e40\\u0e04\\u0e47\\u0e21\", \"\\u0e40\\u0e0a\\u0e47\\u0e04\\u0e1a\\u0e34\\u0e25\", \"\\u0e40\\u0e0b\\u0e47\\u0e17\", \"\\u0e40\\u0e14\\u0e2d\\u0e30\", \"\\u0e40\\u0e14\\u0e2d\\u0e30\", \"\\u0e40\\u0e14\\u0e2d\\u0e30\", \"\\u0e40\\u0e14\\u0e2d\\u0e30\", \"\\u0e40\\u0e14\\u0e2d\\u0e30\", \"\\u0e40\\u0e14\\u0e34\\u0e19\", \"\\u0e40\\u0e14\\u0e49\\u0e07\", \"\\u0e40\\u0e17\", \"\\u0e40\\u0e17\", \"\\u0e40\\u0e17\", \"\\u0e40\\u0e19\\u0e37\\u0e49\\u0e2d\", \"\\u0e40\\u0e19\\u0e37\\u0e49\\u0e2d\", \"\\u0e40\\u0e19\\u0e37\\u0e49\\u0e2d\", \"\\u0e40\\u0e19\\u0e37\\u0e49\\u0e2d\", \"\\u0e40\\u0e19\\u0e37\\u0e49\\u0e2d\", \"\\u0e40\\u0e19\\u0e37\\u0e49\\u0e2d\\u0e27\\u0e31\\u0e27\", \"\\u0e40\\u0e19\\u0e37\\u0e49\\u0e2d\\u0e27\\u0e31\\u0e27\", \"\\u0e40\\u0e19\\u0e37\\u0e49\\u0e2d\\u0e27\\u0e31\\u0e27\", \"\\u0e40\\u0e19\\u0e37\\u0e49\\u0e2d\\u0e2b\\u0e21\\u0e39\", \"\\u0e40\\u0e1b\\u0e47\\u0e19\\u0e1b\\u0e01\\u0e15\\u0e34\", \"\\u0e40\\u0e1b\\u0e47\\u0e19\\u0e21\\u0e32\", \"\\u0e40\\u0e1b\\u0e47\\u0e19\\u0e2b\\u0e25\\u0e31\\u0e01\", \"\\u0e40\\u0e1f\\u0e23\\u0e19\\u0e44\\u0e0a\\u0e2a\\u0e4c\", \"\\u0e40\\u0e21\\u0e19\\u0e39\", \"\\u0e40\\u0e21\\u0e19\\u0e39\", \"\\u0e40\\u0e21\\u0e19\\u0e39\", \"\\u0e40\\u0e21\\u0e19\\u0e39\", \"\\u0e40\\u0e21\\u0e19\\u0e39\", \"\\u0e40\\u0e22\\u0e47\\u0e19\", \"\\u0e40\\u0e25\\u0e34\\u0e01\", \"\\u0e40\\u0e25\\u0e35\\u0e48\\u0e22\\u0e19\", \"\\u0e40\\u0e25\\u0e37\\u0e2d\\u0e01\", \"\\u0e40\\u0e25\\u0e37\\u0e2d\\u0e01\", \"\\u0e40\\u0e25\\u0e37\\u0e2d\\u0e01\", \"\\u0e40\\u0e25\\u0e37\\u0e2d\\u0e01\", \"\\u0e40\\u0e25\\u0e37\\u0e2d\\u0e01\", \"\\u0e40\\u0e27\\u0e25\\u0e32\", \"\\u0e40\\u0e2a\\u0e34\\u0e23\\u0e4c\\u0e1f\", \"\\u0e40\\u0e2b\\u0e47\\u0e14\", \"\\u0e41\\u0e16\\u0e21\", \"\\u0e41\\u0e19\\u0e27\", \"\\u0e41\\u0e19\\u0e30\\u0e19\\u0e33\", \"\\u0e41\\u0e19\\u0e48\\u0e19\", \"\\u0e41\\u0e1a\\u0e1a\\u0e09\\u0e1a\\u0e31\\u0e1a\", \"\\u0e41\\u0e1b\\u0e25\\u0e01\", \"\\u0e42\\u0e0a\", \"\\u0e42\\u0e0b\\u0e19\", \"\\u0e42\\u0e0b\\u0e19\", \"\\u0e42\\u0e14\\u0e19\", \"\\u0e42\\u0e1b\\u0e23\\u0e42\\u0e21\\u0e0a\\u0e31\\u0e48\\u0e19\", \"\\u0e42\\u0e1b\\u0e23\\u0e42\\u0e21\\u0e0a\\u0e31\\u0e48\\u0e19\", \"\\u0e42\\u0e21\", \"\\u0e42\\u0e21\", \"\\u0e42\\u0e21\", \"\\u0e42\\u0e21\", \"\\u0e42\\u0e2b\\u0e14\", \"\\u0e43\\u0e08\\u0e14\\u0e35\", \"\\u0e43\\u0e0a\\u0e49\\u0e44\\u0e14\\u0e49\", \"\\u0e44\\u0e01\\u0e48\", \"\\u0e44\\u0e01\\u0e48\", \"\\u0e44\\u0e02\\u0e48\\u0e44\\u0e01\\u0e48\", \"\\u0e44\\u0e14\", \"\\u0e44\\u0e14\\u0e1f\\u0e39\\u0e01\\u0e38\", \"\\u0e44\\u0e17\\u0e22\", \"\\u0e44\\u0e1c\\u0e48\", \"\\u0e44\\u0e21\\u0e49\", \"\\u0e44\\u0e25\\u0e19\\u0e4c\", \"\\u0e44\\u0e27\", \"\\u0e44\\u0e2d\\u0e15\\u0e34\\u0e21\", \"\\u0e44\\u0e2d\\u0e15\\u0e34\\u0e21\", \"\\u0e44\\u0e2d\\u0e15\\u0e34\\u0e21\", \"\\u0e44\\u0e2d\\u0e15\\u0e34\\u0e21\", \"\\u0e44\\u0e2d\\u0e28\\u0e04\\u0e23\\u0e35\\u0e21\", \"\\u200b\"]}, \"R\": 30, \"lambda.step\": 0.01, \"plot.opts\": {\"xlab\": \"PC1\", \"ylab\": \"PC2\"}, \"topic.order\": [1, 5, 7, 6, 4, 3, 2]};\n",
              "\n",
              "function LDAvis_load_lib(url, callback){\n",
              "  var s = document.createElement('script');\n",
              "  s.src = url;\n",
              "  s.async = true;\n",
              "  s.onreadystatechange = s.onload = callback;\n",
              "  s.onerror = function(){console.warn(\"failed to load library \" + url);};\n",
              "  document.getElementsByTagName(\"head\")[0].appendChild(s);\n",
              "}\n",
              "\n",
              "if(typeof(LDAvis) !== \"undefined\"){\n",
              "   // already loaded: just create the visualization\n",
              "   !function(LDAvis){\n",
              "       new LDAvis(\"#\" + \"ldavis_el3051402917383451681378955082\", ldavis_el3051402917383451681378955082_data);\n",
              "   }(LDAvis);\n",
              "}else if(typeof define === \"function\" && define.amd){\n",
              "   // require.js is available: use it to load d3/LDAvis\n",
              "   require.config({paths: {d3: \"https://d3js.org/d3.v5\"}});\n",
              "   require([\"d3\"], function(d3){\n",
              "      window.d3 = d3;\n",
              "      LDAvis_load_lib(\"https://cdn.jsdelivr.net/gh/bmabey/pyLDAvis@3.3.1/pyLDAvis/js/ldavis.v3.0.0.js\", function(){\n",
              "        new LDAvis(\"#\" + \"ldavis_el3051402917383451681378955082\", ldavis_el3051402917383451681378955082_data);\n",
              "      });\n",
              "    });\n",
              "}else{\n",
              "    // require.js not available: dynamically load d3 & LDAvis\n",
              "    LDAvis_load_lib(\"https://d3js.org/d3.v5.js\", function(){\n",
              "         LDAvis_load_lib(\"https://cdn.jsdelivr.net/gh/bmabey/pyLDAvis@3.3.1/pyLDAvis/js/ldavis.v3.0.0.js\", function(){\n",
              "                 new LDAvis(\"#\" + \"ldavis_el3051402917383451681378955082\", ldavis_el3051402917383451681378955082_data);\n",
              "            })\n",
              "         });\n",
              "}\n",
              "</script>"
            ],
            "text/plain": [
              "PreparedData(topic_coordinates=              x         y  topics  cluster       Freq\n",
              "topic                                                \n",
              "0      0.094088  0.007284       1        1  30.486085\n",
              "4     -0.037317 -0.065903       2        1  27.309407\n",
              "6     -0.056254  0.056073       3        1  22.037950\n",
              "5     -0.002459 -0.003674       4        1  11.880546\n",
              "3     -0.000404  0.003791       5        1   6.049952\n",
              "2     -0.001215  0.001343       6        1   2.212557\n",
              "1      0.003560  0.001086       7        1   0.023503, topic_info=       Term       Freq      Total Category  logprob  loglift\n",
              "0            29.000000  29.000000  Default  30.0000  30.0000\n",
              "118     ทาน  23.000000  23.000000  Default  29.0000  29.0000\n",
              "18      น้ำ  23.000000  23.000000  Default  28.0000  28.0000\n",
              "32    อร่อย  19.000000  19.000000  Default  27.0000  27.0000\n",
              "59     ชาบู  19.000000  19.000000  Default  26.0000  26.0000\n",
              "..      ...        ...        ...      ...      ...      ...\n",
              "20   บริการ   0.001725   7.445251   Topic7  -5.2899  -0.0140\n",
              "4       กิน   0.003181  20.247313   Topic7  -4.6783  -0.4029\n",
              "279      ชิ   0.001714   7.705861   Topic7  -5.2968  -0.0554\n",
              "76     สาขา   0.001954  10.803139   Topic7  -5.1653  -0.2617\n",
              "276    กุ้ง   0.001793  11.308784   Topic7  -5.2518  -0.3939\n",
              "\n",
              "[456 rows x 6 columns], token_table=      Topic      Freq     Term\n",
              "term                          \n",
              "0         1  0.206569         \n",
              "0         2  0.344281         \n",
              "0         3  0.275425         \n",
              "0         4  0.103284         \n",
              "0         5  0.068856         \n",
              "...     ...       ...      ...\n",
              "48        2  0.373150    ไอติม\n",
              "48        3  0.248767    ไอติม\n",
              "48        4  0.124383    ไอติม\n",
              "273       3  0.882627  ไอศครีม\n",
              "49        2  0.942344        ​\n",
              "\n",
              "[365 rows x 3 columns], R=30, lambda_step=0.01, plot_opts={'xlab': 'PC1', 'ylab': 'PC2'}, topic_order=[1, 5, 7, 6, 4, 3, 2])"
            ]
          },
          "metadata": {
            "tags": []
          },
          "execution_count": 68
        }
      ]
    },
    {
      "cell_type": "code",
      "metadata": {
        "colab": {
          "base_uri": "https://localhost:8080/"
        },
        "id": "MvrKE2MCcVOV",
        "outputId": "c6f9403a-16cc-4d9f-bb60-2f930c467ca5"
      },
      "source": [
        "model.show_topic(1)"
      ],
      "execution_count": null,
      "outputs": [
        {
          "output_type": "execute_result",
          "data": {
            "text/plain": [
              "[('', 0.018919742),\n",
              " ('ทาน', 0.015720233),\n",
              " ('น้ำ', 0.013457938),\n",
              " ('ชาบู', 0.013235017),\n",
              " ('ดี', 0.012812861),\n",
              " ('อร่อย', 0.012809304),\n",
              " ('เลือก', 0.011719753),\n",
              " ('ราคา', 0.011436539),\n",
              " ('เนื้อ', 0.011144186),\n",
              " ('อาหาร', 0.010635127)]"
            ]
          },
          "metadata": {
            "tags": []
          },
          "execution_count": 69
        }
      ]
    },
    {
      "cell_type": "code",
      "metadata": {
        "colab": {
          "base_uri": "https://localhost:8080/"
        },
        "id": "lsUffay7eNhS",
        "outputId": "7afaad23-486b-4cc4-a8be-24d00e71f767"
      },
      "source": [
        "model.show_topic(2)"
      ],
      "execution_count": null,
      "outputs": [
        {
          "output_type": "execute_result",
          "data": {
            "text/plain": [
              "[('', 0.02025396),\n",
              " ('ชาบู', 0.015203052),\n",
              " ('ดี', 0.014831236),\n",
              " ('อร่อย', 0.014820485),\n",
              " ('ทาน', 0.014003113),\n",
              " ('เลือก', 0.013856639),\n",
              " ('เนื้อ', 0.013343994),\n",
              " ('น้ำ', 0.01198389),\n",
              " ('ชอบ', 0.0109001845),\n",
              " ('คุ้ม', 0.010351029)]"
            ]
          },
          "metadata": {
            "tags": []
          },
          "execution_count": 70
        }
      ]
    },
    {
      "cell_type": "code",
      "metadata": {
        "colab": {
          "base_uri": "https://localhost:8080/"
        },
        "id": "dDbzW-AOeLa6",
        "outputId": "7092b407-58cb-43aa-ce7c-25c520c5708d"
      },
      "source": [
        "model.show_topic(3)"
      ],
      "execution_count": null,
      "outputs": [
        {
          "output_type": "execute_result",
          "data": {
            "text/plain": [
              "[('ทาน', 0.023232548),\n",
              " ('', 0.019871585),\n",
              " ('อร่อย', 0.018181067),\n",
              " (':', 0.016892878),\n",
              " ('เลือก', 0.014500294),\n",
              " ('รสชาติ', 0.013412185),\n",
              " ('ชาบู', 0.012762634),\n",
              " ('ดี', 0.012449216),\n",
              " ('ราคา', 0.011418206),\n",
              " ('อาหาร', 0.0108218435)]"
            ]
          },
          "metadata": {
            "tags": []
          },
          "execution_count": 71
        }
      ]
    },
    {
      "cell_type": "code",
      "metadata": {
        "id": "WMZk6qg3dEKV"
      },
      "source": [
        "df['topics'] = df['Review_tokenized'].apply(lambda x: model.get_document_topics(dictionary.doc2bow(x.split(',')))[0][0])\n",
        "df['score'] = df['Review_tokenized'].apply(lambda x: model.get_document_topics(dictionary.doc2bow(x.split(',')))[0][1])"
      ],
      "execution_count": null,
      "outputs": []
    },
    {
      "cell_type": "code",
      "metadata": {
        "colab": {
          "base_uri": "https://localhost:8080/",
          "height": 677
        },
        "id": "ETG6cSNWdKHm",
        "outputId": "2f60cee3-24a9-4e97-d299-e42832280bb3"
      },
      "source": [
        "df[['Restaurant', 'Review', 'topics']]"
      ],
      "execution_count": null,
      "outputs": [
        {
          "output_type": "execute_result",
          "data": {
            "text/html": [
              "<div>\n",
              "<style scoped>\n",
              "    .dataframe tbody tr th:only-of-type {\n",
              "        vertical-align: middle;\n",
              "    }\n",
              "\n",
              "    .dataframe tbody tr th {\n",
              "        vertical-align: top;\n",
              "    }\n",
              "\n",
              "    .dataframe thead th {\n",
              "        text-align: right;\n",
              "    }\n",
              "</style>\n",
              "<table border=\"1\" class=\"dataframe\">\n",
              "  <thead>\n",
              "    <tr style=\"text-align: right;\">\n",
              "      <th></th>\n",
              "      <th>Restaurant</th>\n",
              "      <th>Review</th>\n",
              "      <th>topics</th>\n",
              "    </tr>\n",
              "  </thead>\n",
              "  <tbody>\n",
              "    <tr>\n",
              "      <th>0</th>\n",
              "      <td>Mo-Mo-Paradise (โม โม พาราไดซ์) เดอะมอลล์ บางกะปิ</td>\n",
              "      <td>ที่สำคัญของร้านนี้คือบริการดีมากพนักงานน่ารักส...</td>\n",
              "      <td>4</td>\n",
              "    </tr>\n",
              "    <tr>\n",
              "      <th>1</th>\n",
              "      <td>Mo-Mo-Paradise (โม โม พาราไดซ์) เดอะมอลล์ บางกะปิ</td>\n",
              "      <td>นึกถึงชาบูญี่ปุ่นยังไงก็ต้อง คิดถึงโมโม่ พาราไ...</td>\n",
              "      <td>5</td>\n",
              "    </tr>\n",
              "    <tr>\n",
              "      <th>2</th>\n",
              "      <td>Mo-Mo-Paradise (โม โม พาราไดซ์) เดอะมอลล์ บางกะปิ</td>\n",
              "      <td>มาทานช่วงนี้ สามารถนั่งโต๊ะเดียวกัน หม้อเดียวก...</td>\n",
              "      <td>6</td>\n",
              "    </tr>\n",
              "    <tr>\n",
              "      <th>3</th>\n",
              "      <td>Mo-Mo-Paradise (โม โม พาราไดซ์) เดอะมอลล์ บางกะปิ</td>\n",
              "      <td>ถ้านึกถึงชาบูที่มีเนื้อเน้นๆ ในราคาไม่โหดจนเกิ...</td>\n",
              "      <td>6</td>\n",
              "    </tr>\n",
              "    <tr>\n",
              "      <th>4</th>\n",
              "      <td>Mo-Mo-Paradise (โม โม พาราไดซ์) เดอะมอลล์ บางกะปิ</td>\n",
              "      <td>เดินมาหน้าร้านแล้วได้กลิ่นชาบูหอมมาก ๆ  ประกอบ...</td>\n",
              "      <td>0</td>\n",
              "    </tr>\n",
              "    <tr>\n",
              "      <th>5</th>\n",
              "      <td>Mo-Mo-Paradise (โม โม พาราไดซ์) เดอะมอลล์ บางกะปิ</td>\n",
              "      <td>ร้านบุฟเฟ่ ชาบูแนวญี่ปุ่น สายเนื้อหมู เนื้อวัว...</td>\n",
              "      <td>2</td>\n",
              "    </tr>\n",
              "    <tr>\n",
              "      <th>6</th>\n",
              "      <td>Mo-Mo-Paradise (โม โม พาราไดซ์) เดอะมอลล์ บางกะปิ</td>\n",
              "      <td>Number 20 : โมโม – พาราไดส์ (สาขาเดอะมอลบางกะป...</td>\n",
              "      <td>4</td>\n",
              "    </tr>\n",
              "    <tr>\n",
              "      <th>7</th>\n",
              "      <td>Mo-Mo-Paradise (โม โม พาราไดซ์) เดอะมอลล์ บางกะปิ</td>\n",
              "      <td>ร้านชาบูเฟรนไชส์รสชาติดีมากคุ้มค่าเหมาะสมกับรา...</td>\n",
              "      <td>6</td>\n",
              "    </tr>\n",
              "    <tr>\n",
              "      <th>8</th>\n",
              "      <td>Shabushi (ชาบูชิ) เดอะมอลล์บางกะปิ ชั้น G</td>\n",
              "      <td>มา านที่ขาบูชิต้องมาตอนหิว ไม่งั้นจะไม่คุ้มนะค...</td>\n",
              "      <td>5</td>\n",
              "    </tr>\n",
              "    <tr>\n",
              "      <th>9</th>\n",
              "      <td>Shabushi (ชาบูชิ) เดอะมอลล์บางกะปิ ชั้น G</td>\n",
              "      <td>ใครชอบกุ้งทอดเทมปุระ แค่กุ้งเทมปุระก็คุ้มแล้ว ...</td>\n",
              "      <td>4</td>\n",
              "    </tr>\n",
              "    <tr>\n",
              "      <th>10</th>\n",
              "      <td>Shabushi (ชาบูชิ) เดอะมอลล์บางกะปิ ชั้น G</td>\n",
              "      <td>กลับมาอัพเดทราคาชาบูชิ ตอนนี้อยู่ที่ 399 บาท n...</td>\n",
              "      <td>4</td>\n",
              "    </tr>\n",
              "    <tr>\n",
              "      <th>11</th>\n",
              "      <td>Shabushi (ชาบูชิ) เดอะมอลล์บางกะปิ ชั้น G</td>\n",
              "      <td>ห่างหายไปนานสำหรับชาบูชิ ตั้งแต่ทางร้านได้ปรับ...</td>\n",
              "      <td>0</td>\n",
              "    </tr>\n",
              "    <tr>\n",
              "      <th>12</th>\n",
              "      <td>Shabushi (ชาบูชิ) เดอะมอลล์บางกะปิ ชั้น G</td>\n",
              "      <td>เมื่อหลายวันก่อนนัดหาข้าวทานกับเดอะแกงค์ และก็...</td>\n",
              "      <td>3</td>\n",
              "    </tr>\n",
              "    <tr>\n",
              "      <th>13</th>\n",
              "      <td>Shabushi (ชาบูชิ) เดอะมอลล์บางกะปิ ชั้น G</td>\n",
              "      <td>บอกตรงๆว่าหลายครั้งที่เลือกจะกินบุฟเฟต์จะต้องอ...</td>\n",
              "      <td>0</td>\n",
              "    </tr>\n",
              "    <tr>\n",
              "      <th>14</th>\n",
              "      <td>Shabushi (ชาบูชิ) เดอะมอลล์บางกะปิ ชั้น G</td>\n",
              "      <td>สวัสดีครับวันนี้จะขอมารีวิวร้านชาบูชิ บุฟเฟขวั...</td>\n",
              "      <td>3</td>\n",
              "    </tr>\n",
              "    <tr>\n",
              "      <th>15</th>\n",
              "      <td>Shabushi (ชาบูชิ) เดอะมอลล์บางกะปิ ชั้น G</td>\n",
              "      <td>ชาบูชิ สาขาเดอะมอลล์บางกะปิ ตั้งอยู่ประตูหน้าห...</td>\n",
              "      <td>0</td>\n",
              "    </tr>\n",
              "    <tr>\n",
              "      <th>16</th>\n",
              "      <td>ข้าน้อยขอชาบู</td>\n",
              "      <td>หลังจากที่เคยลองสาขายูเนี่ยนมอลล์ไป รอบนี้มาที...</td>\n",
              "      <td>5</td>\n",
              "    </tr>\n",
              "    <tr>\n",
              "      <th>17</th>\n",
              "      <td>ข้าน้อยขอชาบู</td>\n",
              "      <td>ร้านบุฟเฟ่ต์ที่มีโปรโมชั่นหัวละ199บาท ไม่รวมน้...</td>\n",
              "      <td>6</td>\n",
              "    </tr>\n",
              "    <tr>\n",
              "      <th>18</th>\n",
              "      <td>ข้าน้อยขอชาบู</td>\n",
              "      <td>เคยรู้จักร้านนี้จากที่ union mall ไม่เคยได้ลอง...</td>\n",
              "      <td>4</td>\n",
              "    </tr>\n",
              "    <tr>\n",
              "      <th>19</th>\n",
              "      <td>ข้าน้อยขอชาบู</td>\n",
              "      <td>อร่อยมากค่ะ คุ้มค่าสมราคา บุฟเฟ่หมูผักต่างๆ รว...</td>\n",
              "      <td>4</td>\n",
              "    </tr>\n",
              "    <tr>\n",
              "      <th>20</th>\n",
              "      <td>ข้าน้อยขอชาบู</td>\n",
              "      <td>ก็ตามที่เขียนเลยครับ ว่า ถ้าจะจ่ายในราคา 199 บ...</td>\n",
              "      <td>4</td>\n",
              "    </tr>\n",
              "  </tbody>\n",
              "</table>\n",
              "</div>"
            ],
            "text/plain": [
              "                                           Restaurant  ... topics\n",
              "0   Mo-Mo-Paradise (โม โม พาราไดซ์) เดอะมอลล์ บางกะปิ  ...      4\n",
              "1   Mo-Mo-Paradise (โม โม พาราไดซ์) เดอะมอลล์ บางกะปิ  ...      5\n",
              "2   Mo-Mo-Paradise (โม โม พาราไดซ์) เดอะมอลล์ บางกะปิ  ...      6\n",
              "3   Mo-Mo-Paradise (โม โม พาราไดซ์) เดอะมอลล์ บางกะปิ  ...      6\n",
              "4   Mo-Mo-Paradise (โม โม พาราไดซ์) เดอะมอลล์ บางกะปิ  ...      0\n",
              "5   Mo-Mo-Paradise (โม โม พาราไดซ์) เดอะมอลล์ บางกะปิ  ...      2\n",
              "6   Mo-Mo-Paradise (โม โม พาราไดซ์) เดอะมอลล์ บางกะปิ  ...      4\n",
              "7   Mo-Mo-Paradise (โม โม พาราไดซ์) เดอะมอลล์ บางกะปิ  ...      6\n",
              "8           Shabushi (ชาบูชิ) เดอะมอลล์บางกะปิ ชั้น G  ...      5\n",
              "9           Shabushi (ชาบูชิ) เดอะมอลล์บางกะปิ ชั้น G  ...      4\n",
              "10          Shabushi (ชาบูชิ) เดอะมอลล์บางกะปิ ชั้น G  ...      4\n",
              "11          Shabushi (ชาบูชิ) เดอะมอลล์บางกะปิ ชั้น G  ...      0\n",
              "12          Shabushi (ชาบูชิ) เดอะมอลล์บางกะปิ ชั้น G  ...      3\n",
              "13          Shabushi (ชาบูชิ) เดอะมอลล์บางกะปิ ชั้น G  ...      0\n",
              "14          Shabushi (ชาบูชิ) เดอะมอลล์บางกะปิ ชั้น G  ...      3\n",
              "15          Shabushi (ชาบูชิ) เดอะมอลล์บางกะปิ ชั้น G  ...      0\n",
              "16                                      ข้าน้อยขอชาบู  ...      5\n",
              "17                                      ข้าน้อยขอชาบู  ...      6\n",
              "18                                      ข้าน้อยขอชาบู  ...      4\n",
              "19                                      ข้าน้อยขอชาบู  ...      4\n",
              "20                                      ข้าน้อยขอชาบู  ...      4\n",
              "\n",
              "[21 rows x 3 columns]"
            ]
          },
          "metadata": {
            "tags": []
          },
          "execution_count": 73
        }
      ]
    }
  ]
}