{
  "nbformat": 4,
  "nbformat_minor": 0,
  "metadata": {
    "colab": {
      "name": "Voice_Customer_edit.ipynb",
      "provenance": [],
      "include_colab_link": true
    },
    "kernelspec": {
      "name": "python3",
      "display_name": "Python 3"
    },
    "language_info": {
      "name": "python"
    }
  },
  "cells": [
    {
      "cell_type": "markdown",
      "metadata": {
        "id": "view-in-github",
        "colab_type": "text"
      },
      "source": [
        "<a href=\"https://colab.research.google.com/github/Ph-Analytic/BADS7105_CRM_ANALYTICS_AND_INTELLIGENCE/blob/Homework-11-%E2%80%93-Voice-of-Customer/Voice_Customer_edit.ipynb\" target=\"_parent\"><img src=\"https://colab.research.google.com/assets/colab-badge.svg\" alt=\"Open In Colab\"/></a>"
      ]
    },
    {
      "cell_type": "markdown",
      "metadata": {
        "id": "JySAMhJ1fBbp"
      },
      "source": [
        "# **Voice Customer : Shabu shabu Restaurant**"
      ]
    },
    {
      "cell_type": "markdown",
      "metadata": {
        "id": "IC7hT0MFNnh6"
      },
      "source": [
        "### Load libraries and *data* "
      ]
    },
    {
      "cell_type": "code",
      "metadata": {
        "colab": {
          "base_uri": "https://localhost:8080/"
        },
        "id": "vrxsBp958bp9",
        "outputId": "60f1c336-d3d5-422d-a966-30800c1985f0"
      },
      "source": [
        "!pip install --upgrade --pre pythainlp\n",
        "!pip install pyLDAvis\n",
        "!pip install pandas"
      ],
      "execution_count": null,
      "outputs": [
        {
          "output_type": "stream",
          "text": [
            "Requirement already up-to-date: pythainlp in /usr/local/lib/python3.7/dist-packages (2.3.1)\n",
            "Requirement already satisfied, skipping upgrade: requests>=2.22.0 in /usr/local/lib/python3.7/dist-packages (from pythainlp) (2.23.0)\n",
            "Requirement already satisfied, skipping upgrade: tinydb>=3.0 in /usr/local/lib/python3.7/dist-packages (from pythainlp) (4.4.0)\n",
            "Requirement already satisfied, skipping upgrade: python-crfsuite>=0.9.6 in /usr/local/lib/python3.7/dist-packages (from pythainlp) (0.9.7)\n",
            "Requirement already satisfied, skipping upgrade: idna<3,>=2.5 in /usr/local/lib/python3.7/dist-packages (from requests>=2.22.0->pythainlp) (2.10)\n",
            "Requirement already satisfied, skipping upgrade: urllib3!=1.25.0,!=1.25.1,<1.26,>=1.21.1 in /usr/local/lib/python3.7/dist-packages (from requests>=2.22.0->pythainlp) (1.24.3)\n",
            "Requirement already satisfied, skipping upgrade: chardet<4,>=3.0.2 in /usr/local/lib/python3.7/dist-packages (from requests>=2.22.0->pythainlp) (3.0.4)\n",
            "Requirement already satisfied, skipping upgrade: certifi>=2017.4.17 in /usr/local/lib/python3.7/dist-packages (from requests>=2.22.0->pythainlp) (2021.5.30)\n",
            "Requirement already satisfied: pyLDAvis in /usr/local/lib/python3.7/dist-packages (3.3.1)\n",
            "Requirement already satisfied: sklearn in /usr/local/lib/python3.7/dist-packages (from pyLDAvis) (0.0)\n",
            "Requirement already satisfied: jinja2 in /usr/local/lib/python3.7/dist-packages (from pyLDAvis) (2.11.3)\n",
            "Requirement already satisfied: pandas>=1.2.0 in /usr/local/lib/python3.7/dist-packages (from pyLDAvis) (1.2.4)\n",
            "Requirement already satisfied: numpy>=1.20.0 in /usr/local/lib/python3.7/dist-packages (from pyLDAvis) (1.20.3)\n",
            "Requirement already satisfied: numexpr in /usr/local/lib/python3.7/dist-packages (from pyLDAvis) (2.7.3)\n",
            "Requirement already satisfied: gensim in /usr/local/lib/python3.7/dist-packages (from pyLDAvis) (3.6.0)\n",
            "Requirement already satisfied: funcy in /usr/local/lib/python3.7/dist-packages (from pyLDAvis) (1.16)\n",
            "Requirement already satisfied: scipy in /usr/local/lib/python3.7/dist-packages (from pyLDAvis) (1.4.1)\n",
            "Requirement already satisfied: future in /usr/local/lib/python3.7/dist-packages (from pyLDAvis) (0.16.0)\n",
            "Requirement already satisfied: setuptools in /usr/local/lib/python3.7/dist-packages (from pyLDAvis) (57.0.0)\n",
            "Requirement already satisfied: joblib in /usr/local/lib/python3.7/dist-packages (from pyLDAvis) (1.0.1)\n",
            "Requirement already satisfied: scikit-learn in /usr/local/lib/python3.7/dist-packages (from pyLDAvis) (0.22.2.post1)\n",
            "Requirement already satisfied: MarkupSafe>=0.23 in /usr/local/lib/python3.7/dist-packages (from jinja2->pyLDAvis) (2.0.1)\n",
            "Requirement already satisfied: pytz>=2017.3 in /usr/local/lib/python3.7/dist-packages (from pandas>=1.2.0->pyLDAvis) (2018.9)\n",
            "Requirement already satisfied: python-dateutil>=2.7.3 in /usr/local/lib/python3.7/dist-packages (from pandas>=1.2.0->pyLDAvis) (2.8.1)\n",
            "Requirement already satisfied: smart-open>=1.2.1 in /usr/local/lib/python3.7/dist-packages (from gensim->pyLDAvis) (5.1.0)\n",
            "Requirement already satisfied: six>=1.5.0 in /usr/local/lib/python3.7/dist-packages (from gensim->pyLDAvis) (1.15.0)\n",
            "Requirement already satisfied: pandas in /usr/local/lib/python3.7/dist-packages (1.2.4)\n",
            "Requirement already satisfied: pytz>=2017.3 in /usr/local/lib/python3.7/dist-packages (from pandas) (2018.9)\n",
            "Requirement already satisfied: numpy>=1.16.5 in /usr/local/lib/python3.7/dist-packages (from pandas) (1.20.3)\n",
            "Requirement already satisfied: python-dateutil>=2.7.3 in /usr/local/lib/python3.7/dist-packages (from pandas) (2.8.1)\n",
            "Requirement already satisfied: six>=1.5 in /usr/local/lib/python3.7/dist-packages (from python-dateutil>=2.7.3->pandas) (1.15.0)\n"
          ],
          "name": "stdout"
        }
      ]
    },
    {
      "cell_type": "code",
      "metadata": {
        "id": "T7YQnbKh_ONf"
      },
      "source": [
        "import pandas as pd\n",
        "import pythainlp\n",
        "import gensim\n",
        "import pyLDAvis.gensim_models\n",
        "pyLDAvis.enable_notebook()\n",
        "import warnings\n",
        "warnings.filterwarnings(\"ignore\",category=DeprecationWarning)"
      ],
      "execution_count": null,
      "outputs": []
    },
    {
      "cell_type": "markdown",
      "metadata": {
        "id": "JyCFhSz5OFFB"
      },
      "source": [
        "### Upload data "
      ]
    },
    {
      "cell_type": "code",
      "metadata": {
        "id": "6lnMFzHxDcmD"
      },
      "source": [
        "#from google.colab import files \n",
        "#uploaded = files.upload()"
      ],
      "execution_count": null,
      "outputs": []
    },
    {
      "cell_type": "code",
      "metadata": {
        "id": "7DMwmfMJCuZy"
      },
      "source": [
        "#import io\n",
        "#df = pd.read_csv(io.StringIO(uploaded['CustomerReviews.csv'].decode('utf-8')))"
      ],
      "execution_count": null,
      "outputs": []
    },
    {
      "cell_type": "code",
      "metadata": {
        "id": "oCxTl04hBmy5"
      },
      "source": [
        "df = pd.read_csv('CustomerReviews.csv')"
      ],
      "execution_count": null,
      "outputs": []
    },
    {
      "cell_type": "markdown",
      "metadata": {
        "id": "EVrheQ_SAK_N"
      },
      "source": [
        ""
      ]
    },
    {
      "cell_type": "code",
      "metadata": {
        "colab": {
          "base_uri": "https://localhost:8080/"
        },
        "id": "x_H3bWkmAPzz",
        "outputId": "dd3ca2af-a61d-43fa-b5d1-b49a65281030"
      },
      "source": [
        "df.head"
      ],
      "execution_count": null,
      "outputs": [
        {
          "output_type": "execute_result",
          "data": {
            "text/plain": [
              "<bound method NDFrame.head of     Review ID  ... Rating\n",
              "0           1  ...    5.0\n",
              "1           2  ...    5.0\n",
              "2           3  ...    4.0\n",
              "3           4  ...    4.0\n",
              "4           5  ...    5.0\n",
              "5           6  ...    4.0\n",
              "6           7  ...    4.0\n",
              "7           8  ...    4.0\n",
              "8           9  ...    4.0\n",
              "9          10  ...    3.0\n",
              "10         11  ...    3.0\n",
              "11         12  ...    3.0\n",
              "12         13  ...    4.0\n",
              "13         14  ...    3.0\n",
              "14         15  ...    4.0\n",
              "15         16  ...    4.0\n",
              "16         17  ...    4.0\n",
              "17         18  ...    4.0\n",
              "18         19  ...    3.0\n",
              "19         20  ...    5.0\n",
              "20         21  ...    NaN\n",
              "\n",
              "[21 rows x 7 columns]>"
            ]
          },
          "metadata": {
            "tags": []
          },
          "execution_count": 25
        }
      ]
    },
    {
      "cell_type": "code",
      "metadata": {
        "colab": {
          "base_uri": "https://localhost:8080/"
        },
        "id": "0MKvG6PCELMl",
        "outputId": "133ba316-434b-4704-d59f-0ef28843345e"
      },
      "source": [
        "df.info()"
      ],
      "execution_count": null,
      "outputs": [
        {
          "output_type": "stream",
          "text": [
            "<class 'pandas.core.frame.DataFrame'>\n",
            "RangeIndex: 21 entries, 0 to 20\n",
            "Data columns (total 7 columns):\n",
            " #   Column         Non-Null Count  Dtype  \n",
            "---  ------         --------------  -----  \n",
            " 0   Review ID      21 non-null     int64  \n",
            " 1   Restaurant_ID  21 non-null     object \n",
            " 2   Restaurant     21 non-null     object \n",
            " 3   User           21 non-null     object \n",
            " 4   Headline       21 non-null     object \n",
            " 5   Review         21 non-null     object \n",
            " 6   Rating         20 non-null     float64\n",
            "dtypes: float64(1), int64(1), object(5)\n",
            "memory usage: 1.3+ KB\n"
          ],
          "name": "stdout"
        }
      ]
    },
    {
      "cell_type": "markdown",
      "metadata": {
        "id": "F7gOrK62Oc4d"
      },
      "source": [
        "## Tokenize Words"
      ]
    },
    {
      "cell_type": "code",
      "metadata": {
        "id": "tl-pfj9DDtrW"
      },
      "source": [
        "stopwords=list(pythainlp.corpus.thai_stopwords())\n",
        "removed_words = [' ', '   ' , '\\n','   ', 'ร้าน', ' (' ,  ')','😆','-']\n",
        "screening_words = stopwords + removed_words\n",
        "def tokenize_with_space(sentence):\n",
        "  merged = ' '\n",
        "  words = pythainlp.word_tokenize(str(sentence), engine='newmm')\n",
        "  for word in words:\n",
        "     if word not in screening_words:\n",
        "       merged = merged +  ',' + word\n",
        "  return merged[1:]"
      ],
      "execution_count": null,
      "outputs": []
    },
    {
      "cell_type": "code",
      "metadata": {
        "id": "T-fjw48CZeRd"
      },
      "source": [
        "df['Review_tokenized'] = df['Review'].apply(lambda x: tokenize_with_space(x))"
      ],
      "execution_count": null,
      "outputs": []
    },
    {
      "cell_type": "code",
      "metadata": {
        "colab": {
          "base_uri": "https://localhost:8080/",
          "height": 602
        },
        "id": "nN4HwN_eZjp9",
        "outputId": "4216d1c9-c752-494b-a4b4-76c5eddf420c"
      },
      "source": [
        "df.tail()"
      ],
      "execution_count": null,
      "outputs": [
        {
          "output_type": "execute_result",
          "data": {
            "text/html": [
              "<div>\n",
              "<style scoped>\n",
              "    .dataframe tbody tr th:only-of-type {\n",
              "        vertical-align: middle;\n",
              "    }\n",
              "\n",
              "    .dataframe tbody tr th {\n",
              "        vertical-align: top;\n",
              "    }\n",
              "\n",
              "    .dataframe thead th {\n",
              "        text-align: right;\n",
              "    }\n",
              "</style>\n",
              "<table border=\"1\" class=\"dataframe\">\n",
              "  <thead>\n",
              "    <tr style=\"text-align: right;\">\n",
              "      <th></th>\n",
              "      <th>Review ID</th>\n",
              "      <th>Restaurant_ID</th>\n",
              "      <th>Restaurant</th>\n",
              "      <th>User</th>\n",
              "      <th>Headline</th>\n",
              "      <th>Review</th>\n",
              "      <th>Rating</th>\n",
              "      <th>Review_tokenized</th>\n",
              "    </tr>\n",
              "  </thead>\n",
              "  <tbody>\n",
              "    <tr>\n",
              "      <th>16</th>\n",
              "      <td>17</td>\n",
              "      <td>436045MJ-ข้าน้อยขอชาบู</td>\n",
              "      <td>ข้าน้อยขอชาบู</td>\n",
              "      <td>ployynp</td>\n",
              "      <td>บุฟเฟ่ต์ชาบูและพิซซ่าไม่อั้นในราคา 199 บาท เน้...</td>\n",
              "      <td>หลังจากที่เคยลองสาขายูเนี่ยนมอลล์ไป รอบนี้มาที...</td>\n",
              "      <td>4.0</td>\n",
              "      <td>,หลังจากที่,ลอง,สาขา,ยู,นม,อลล์,รอบ,สาขา,เดอะ,...</td>\n",
              "    </tr>\n",
              "    <tr>\n",
              "      <th>17</th>\n",
              "      <td>18</td>\n",
              "      <td>436045MJ-ข้าน้อยขอชาบู</td>\n",
              "      <td>ข้าน้อยขอชาบู</td>\n",
              "      <td>27a91236fe5e4559a4f097c97a480781</td>\n",
              "      <td>ร้านบุฟเฟ่ต์ ราคามิตรภาพ อยู่ชั้น4 ติดโรงหนัง ...</td>\n",
              "      <td>ร้านบุฟเฟ่ต์ที่มีโปรโมชั่นหัวละ199บาท ไม่รวมน้...</td>\n",
              "      <td>4.0</td>\n",
              "      <td>,บุฟเฟ่ต์,โปรโมชั่น,หัว,199,บาท,น้ำ,VAT,ทาน,ธร...</td>\n",
              "    </tr>\n",
              "    <tr>\n",
              "      <th>18</th>\n",
              "      <td>19</td>\n",
              "      <td>436045MJ-ข้าน้อยขอชาบู</td>\n",
              "      <td>ข้าน้อยขอชาบู</td>\n",
              "      <td>0b81d251e4db486f9bcdba73b374ed99</td>\n",
              "      <td>ของหลากหลาย ปนๆ งงๆ นิดหน่อย</td>\n",
              "      <td>เคยรู้จักร้านนี้จากที่ union mall ไม่เคยได้ลอง...</td>\n",
              "      <td>3.0</td>\n",
              "      <td>,รู้จัก,union,mall,ลอง,กิน,จำได้,ขึ้นใจ,ชื่อ,ช...</td>\n",
              "    </tr>\n",
              "    <tr>\n",
              "      <th>19</th>\n",
              "      <td>20</td>\n",
              "      <td>436045MJ-ข้าน้อยขอชาบู</td>\n",
              "      <td>ข้าน้อยขอชาบู</td>\n",
              "      <td>40e0e087f3914fd49a8933b5a29936ca</td>\n",
              "      <td>อร่อยมากค่ะ คุ้มค่าสมราคา บุฟเฟ่หมูผักต่างๆ รว...</td>\n",
              "      <td>อร่อยมากค่ะ คุ้มค่าสมราคา บุฟเฟ่หมูผักต่างๆ รว...</td>\n",
              "      <td>5.0</td>\n",
              "      <td>,อร่อย,คุ้มค่า,สมราคา,บุ,ฟเฟ่,หมู,ผัก,น้ำ,จบ,2...</td>\n",
              "    </tr>\n",
              "    <tr>\n",
              "      <th>20</th>\n",
              "      <td>21</td>\n",
              "      <td>436045MJ-ข้าน้อยขอชาบู</td>\n",
              "      <td>ข้าน้อยขอชาบู</td>\n",
              "      <td>41841cb99ea243a3a8d4b006e946c586</td>\n",
              "      <td>แม้จะแปลกบ้าง แต่ก็ถือว่าอยู่ในเกณฑ์ที่ดี มีอา...</td>\n",
              "      <td>ก็ตามที่เขียนเลยครับ ว่า ถ้าจะจ่ายในราคา 199 บ...</td>\n",
              "      <td>NaN</td>\n",
              "      <td>,จ่าย,ราคา,199,บาท,จ่าย,เงินสด,ราคา,น้ำ,VAT,7,...</td>\n",
              "    </tr>\n",
              "  </tbody>\n",
              "</table>\n",
              "</div>"
            ],
            "text/plain": [
              "    Review ID  ...                                   Review_tokenized\n",
              "16         17  ...  ,หลังจากที่,ลอง,สาขา,ยู,นม,อลล์,รอบ,สาขา,เดอะ,...\n",
              "17         18  ...  ,บุฟเฟ่ต์,โปรโมชั่น,หัว,199,บาท,น้ำ,VAT,ทาน,ธร...\n",
              "18         19  ...  ,รู้จัก,union,mall,ลอง,กิน,จำได้,ขึ้นใจ,ชื่อ,ช...\n",
              "19         20  ...  ,อร่อย,คุ้มค่า,สมราคา,บุ,ฟเฟ่,หมู,ผัก,น้ำ,จบ,2...\n",
              "20         21  ...  ,จ่าย,ราคา,199,บาท,จ่าย,เงินสด,ราคา,น้ำ,VAT,7,...\n",
              "\n",
              "[5 rows x 8 columns]"
            ]
          },
          "metadata": {
            "tags": []
          },
          "execution_count": 29
        }
      ]
    },
    {
      "cell_type": "code",
      "metadata": {
        "id": "6YU96p-eiND2"
      },
      "source": [
        "df.to_csv(r'Path where you want to store the exported CSV file\\Name.csv', index = False)"
      ],
      "execution_count": null,
      "outputs": []
    },
    {
      "cell_type": "markdown",
      "metadata": {
        "id": "HrSfwjyIOqgh"
      },
      "source": [
        "## Create Dictionary"
      ]
    },
    {
      "cell_type": "code",
      "metadata": {
        "id": "PmtghwUdaG_d"
      },
      "source": [
        "documents = df['Review_tokenized'].to_list()\n",
        "texts = [[text for text in doc.split(',')] for doc in documents]\n",
        "dictionary = gensim.corpora.Dictionary(texts)"
      ],
      "execution_count": null,
      "outputs": []
    },
    {
      "cell_type": "code",
      "metadata": {
        "colab": {
          "base_uri": "https://localhost:8080/"
        },
        "id": "ZhTH-bf8b6fV",
        "outputId": "a6d7ee12-347c-4b28-84ee-db6bcb507dd1"
      },
      "source": [
        "print(dictionary.token2id.keys())"
      ],
      "execution_count": null,
      "outputs": [
        {
          "output_type": "stream",
          "text": [
            "dict_keys(['', '1', '4', '560', 'กิน', 'ข้างนอก', 'ความต้องการ', 'คอ', 'คุณภาพ', 'คุ้ม', 'จำกัด', 'ซุป', 'ดำ', 'ดี', 'ดีมาก', 'ถาด', 'ถาม', 'น่ารัก', 'น้ำ', 'น้ำจิ้ม', 'บริการ', 'บาท', 'ประทับใจ', 'พนักงาน', 'พอกับ', 'ภาพ', 'รสชาติ', 'ราคา', 'สรุป', 'สะอาดสะอ้าน', 'สัน', 'หลากหลาย', 'อร่อย', 'อันนี้', 'อาหาร', 'เคลม', 'เซ็ท', 'เต้าเจี้ยว', 'เนื้อ', 'เป็ด', 'เผ็ด', 'แบบนี้', 'แปลก', 'แฟน', 'โดยรวม', 'โมจิ', 'ใส่ใจ', 'ไม่ต้อง', 'ไอติม', '\\u200b', '           ', '21', '30', '9', 'CTW', 'Terminal', 'กา', 'การงด', 'คิดถึง', 'ชาบู', 'ญี่ปุ่น', 'ฐาน', 'ทะยอย', 'ทำงาน', 'ที่ทาง', 'นาที', 'นึกถึง', 'พนักงานบริการ', 'พระราม', 'พรีเมียม', 'พาราไดซ์', 'มาตรา', 'มีโอ', 'รายละเอียด', 'ลูกค้า', 'สมาทาน', 'สาขา', 'สู้', 'ออร์เดอร์', 'เครื่องดื่ม', 'เค้า', 'เจอ', 'เป็นกันเอง', 'เหวี่ยง', 'แจ้ง', 'โม', 'โม่', 'โอเค', '++', '2', '555', '600', ':', '::', 'กก', 'กรุบ', 'กั้น', 'ของหวาน', 'คนละ', 'คาว', 'คุ', 'คุ้มค่า', 'จาน', 'จิ้ม', 'จืด', 'ฉาก', 'ชอบ', 'ชาเขียว', 'ชิ้น', 'ซอย', 'ซอส', 'ตก', 'ตะ', 'ตัก', 'ตามน้ำ', 'ต่างกัน', 'ถั่ว', 'ถ่ายรูป', 'ทาน', 'นั่ง', 'นุ่ม', 'บด', 'บาร์', 'บู', 'ผัก', 'ภาษา', 'มีชื่อ', 'ยังมี', 'รส', 'รี่', 'รู้สึก', 'ลอง', 'ลิ้น', 'ลืม', 'ววว', 'สด', 'สตอ', 'สั่ง', 'สามรส', 'ส่วนตัว', 'หนึบ', 'หม้อ', 'หวาน', 'อยากได้', 'เข้มข้น', 'เข้ากัน', 'เค็ม', 'เนื้อวัว', 'เนื้อสัตว์', 'เนื้อหมู', 'เบอ', 'เป็นผู้ใหญ่', 'เลือก', 'เสิร์ฟ', 'เหนียว', 'เห็ด', 'แดง', 'แตก', 'แตา', 'แนว', 'แย้', 'โควิด', 'โต๊ะ', 'โร', 'ใส', 'ไก่', 'ไข่', 'ไดฟูกุ', 'ไผ่', 'ไม้', 'ไหว', '(', '3', 'ข้าว', 'จ่าย', 'ถ้วย', 'ธรรมดา', 'ส', 'ออ', 'เกินไป', 'เลี่ยน', 'โปร', 'โหด', 'ไว', 'ไอศกรีม', '  ', 'ขนม', 'คุณภาพดี', 'ตัดสินใจ', 'ต่าง ๆ', 'ที่จะ', 'ที่นั่ง', 'บัตรเครดิต', 'มมาก', 'ลูกชิ้น', 'สบายดี', 'หน้า', 'หอ', 'เดิน', 'เด็ก', 'เส้น', 'เหมือนกับ', 'แคบ', 'ได้กลิ่น', 'คามี', 'ซึ', 'นะคะ', 'บุ', 'บ๋วย', 'พอน', 'ฟเฟ่', 'รา', 'สาย', 'หยิบ', 'โซน', 'โปรโมชั่น', '+', '/', '20', '4.0', '5', 'Menu', 'Number', 'กรรมวิธี', 'กะปิ', 'ก์', 'คน', 'คะแนน', 'ชุด', 'ดังเดิม', 'บุฟเฟ่ต์', 'ประ', 'พารา', 'มอ', 'ยุค', 'ร้านอาหาร', 'ล', 'สุกี้', 'สไตล์', 'ส์', 'หมู', 'หลาก', 'หลายชนิด', 'เดอะ', 'เมนู', 'แบบฉบับ', 'แบ่ง', 'ได', 'ไทย', '–', '!!!!', '500', 'กาแฟ', 'งวด', 'ตอนที่', 'ตำ', 'ติด', 'ทั่วไป', 'น', 'บ๊วย', 'ยุ', 'ร้อน', 'ลุย', 'สุกี้ยากี้', 'อยู่แล้ว', 'ออสเตรเลีย', 'เป็นปกติ', 'เฟรนไชส์', 'เรื่อง', 'เหมาะสม', 'แนะนำ', 'โช', 'ไข่ไก่', 'ไอศครีม', '..', '399', 'กุ้ง', 'ของกิน', 'ขา', 'ชิ', 'ซูชิ', 'ซ่า', 'ตอน', 'ตอนนี้', 'นิดนึง', 'ปุระ', 'ปูอัด', 'ม', 'ละลานตา', 'สายพาน', 'หิว', 'ฮ่า', 'าน', 'เกี๊ยว', 'เท', 'เทียบ', 'เล่น', 'แพง', 'แล้วก็', 'ไม่งั้น', 'กลาย', 'กี่', 'ชั่วคราว', 'ชื่นใจ', 'ซะงั้น', 'ญี่', 'ดึก', 'ตบท้าย', 'ตัว', 'ทอด', 'ทานอาหาร', 'นพ', 'นึก', 'น้ะ', 'ปลา', 'ปุ', 'ผิดหวัง', 'วก', 'สมใจ', 'อย่า', 'อาหารเสริม', 'เติม', 'เป็นมา', 'เป็นหลัก', 'เย็น', '1.15', 'net', 'กลับมา', 'ของคาว', 'ชม.', 'ตรงนั้น', 'ยืน', 'ลายตา', 'สไลด์', 'อัพเดท', 'อิ่ม', 'เบ', 'เพลิน', 'ไลน์', '\"', '/คน', '15', '359', 'G', 'Net', 'Shabushi', 'กด', 'กรอ', 'ขาดสารอาหาร', 'ขึ้นราคา', 'ข่าว', 'คนเดียว', 'ครึ่ง', 'คิว', 'งาน', 'จุ', 'ชั่วโมง', 'ชั้น', 'ชื่น', 'ดู', 'ตลับ', 'ตับ', 'ตั้งอยู่', 'ติง', 'ถนนใหญ่', 'ถูกใจ', 'ทำ', 'ทิ้ง', 'น้ำมัน', 'บดี', 'ปลาดิบ', 'ปอกเปลือก', 'ฝรั่ง', 'ฝั่ง', 'มอลล์', 'มื้อ', 'รอ', 'ระดับ', 'รายการ', 'ลด', 'ลา', 'ลูก', 'วันหยุด', 'วาง', 'วานิลา', 'สะอาด', 'สาเหตุ', 'สำหรับ', 'สไปรท์', 'หนา', 'หอม', 'หอย', 'หาไม่', 'ห่างหาย', 'ห้าง', 'อม', 'ออกมา', 'อาทิตย์', 'อีกครั้ง', 'เช็คบิล', 'เด่น', 'เด้ง', 'เบคอน', 'เปรี้ยวหวาน', 'เพื่อน', 'เลิก', 'เวลา', 'เสาร์', 'เหมือน', 'เหมือนกัน', 'แก้ว', 'แถม', 'แน่น', 'แป้ง', 'แย่', 'แออัด', 'โดน', 'โดยประมาณ', 'โฟลต', 'โอ', 'ใจดี', 'ใจมา', 'ใช้ได้', 'ใส่', 'ได้ยิน', 'ชอค', 'ต', 'นัด', 'นิ', 'มะนาว', 'มุ', 'ลงเอย', 'ว', 'วันก่อน', 'ห', 'หา', 'อยุ่', 'อาหารสด', 'เบอร์', 'แกงค์', 'แล', 'โก', 'กินที่', 'ขยัน', 'จอง', 'ชู', 'ณ์', 'บุฟเฟต์', 'ป', 'ประตู', 'พลาด', 'พอได้', 'พี่', 'รอบ', 'ร้อย', 'สาม', 'สุดท้าย', 'หลายครั้ง', 'หล่ะ', 'อาราม', 'เข้าหน้า', 'เต็ม', 'โชคดี', 'ขวัญใจ', 'ข้อดี', 'ต้องการ', 'ทั่วถึง', 'นํ้า', 'บ', 'ฟเฟ', 'มี่', 'ระบบ', 'รีวิว', 'สวัสดี', 'เก้', 'ใช้แล้ว', '^^', 'xx', 'กลยุทธ์', 'ขนาด', 'ข้น', 'ข้าวปั้น', 'ค่า', 'ชอป', 'ซุ้ม', 'ดีขึ้น', 'ตรงข้าม', 'ตรงนี้', 'ต้ม', 'ต้มยำ', 'ท่าน', 'นัล', 'บริเวณ', 'บัตรสมาชิก', 'ปรับปรุง', 'มันดี', 'มากขึ้น', 'ยอด', 'ลาน', 'สลัด', 'หมู่คณะ', 'ออกร้าน', 'อิอิ', 'เครือ', 'เคลื่อนตัว', 'เคาน์เตอร์', 'เบา', 'เป็นแนว', 'แมค', 'โชคชะตา', 'โด', 'โน้น', 'โออิชิ', '199', '39', '40', '49', 'HALL', 'MCC', 'ค่ายมวย', 'ด้านใน', 'ตอนแรก', 'ตัวเลือก', 'ติดกับ', 'ที่ไหนได้', 'นม', 'นา', 'น้ำดื่ม', 'พิซ', 'พิซซ่า', 'ฟี', 'ยู', 'รี', 'หลังจากที่', 'อลล์', 'อเรีย', 'เซ', 'แกงเขียวหวาน', 'แน่นอน', 'แวะ', '10', '300', '6', 'VAT', 'กำ', 'ค่าน้ำ', 'ช่อง', 'ซี', 'ซึป', 'ถูกหวย', 'ทอน', 'นึง', 'ฟรี', 'ฟู้ด', 'รับประกัน', 'ลอตเตอรี่', 'สัปดาห์', 'หวย', 'หัว', 'ฮัน', 'เงิน', 'แลก', 'โทส', 'ได้เวลา', 'Narai', 'mall', 'pizza', 'pizzeria', 'union', 'ของสด', 'ขึ้นใจ', 'ข้าวมันไก่', 'จำได้', 'ชื่อ', 'ตตี้', 'ตัดกำลัง', 'ตู้', 'นิว', 'บางส่วน', 'ปรุง', 'รู้จัก', 'ลี', 'สปา', 'สุก', 'เก', '🤣', '128', '255', '29', 'ครีม', 'จบ', 'จุก', 'ชาต', 'บรา', 'บุพ', 'ปิดท้าย', 'ย', 'วิป', 'สมราคา', 'สวย', 'เ', 'เซต', 'เด็ด', 'เป้ง', 'เฟ่', 'เรย', 'เริส', 'เเบบ', 'โชค', '%', '7', 'ทดแทน', 'ปรกติ', 'สดๆ ร้อนๆ', 'เงินสด', 'โดยเฉพาะ'])\n"
          ],
          "name": "stdout"
        }
      ]
    },
    {
      "cell_type": "code",
      "metadata": {
        "id": "4GqT-riNanL1"
      },
      "source": [
        "gensim_corpus = [dictionary.doc2bow(text, allow_update=True) for text in texts]\n",
        "word_frequencies = [[(dictionary[id], frequence) for id, frequence in couple] for couple in gensim_corpus]"
      ],
      "execution_count": null,
      "outputs": []
    },
    {
      "cell_type": "markdown",
      "metadata": {
        "id": "vyXA0e-cO5La"
      },
      "source": [
        "## Topic Modeling"
      ]
    },
    {
      "cell_type": "code",
      "metadata": {
        "id": "kaDtxDpuQZon",
        "colab": {
          "base_uri": "https://localhost:8080/"
        },
        "outputId": "3e487027-809d-4fe3-ba2d-f40a5141bd93"
      },
      "source": [
        "num_topics = 7\n",
        "chunksize = 4000 # size of the doc looked at every pass\n",
        "passes = 20 # number of passes through documents\n",
        "iterations = 50\n",
        "eval_every = 1  # Don't evaluate model perplexity, takes too much time.\n",
        "\n",
        "# Make a index to word dictionary.\n",
        "temp = dictionary[0]  # This is only to \"load\" the dictionary.\n",
        "id2word = dictionary.id2token\n",
        "\n",
        "%time model = gensim.models.LdaModel(corpus=gensim_corpus, id2word=id2word, chunksize=chunksize, \\\n",
        "                       alpha='auto', eta='auto', \\\n",
        "                       iterations=iterations, num_topics=num_topics, \\\n",
        "                       passes=passes, eval_every=eval_every)"
      ],
      "execution_count": null,
      "outputs": [
        {
          "output_type": "stream",
          "text": [
            "CPU times: user 345 ms, sys: 10.4 ms, total: 356 ms\n",
            "Wall time: 354 ms\n"
          ],
          "name": "stdout"
        }
      ]
    },
    {
      "cell_type": "markdown",
      "metadata": {
        "id": "gNfRkiD4PLAV"
      },
      "source": [
        "## visualization"
      ]
    },
    {
      "cell_type": "code",
      "metadata": {
        "id": "bdrm8raPROPN",
        "colab": {
          "base_uri": "https://localhost:8080/",
          "height": 880
        },
        "outputId": "667d9fb1-6574-4828-9a54-f78a8c68fa00"
      },
      "source": [
        "pyLDAvis.gensim_models.prepare(model, gensim_corpus, dictionary)"
      ],
      "execution_count": null,
      "outputs": [
        {
          "output_type": "execute_result",
          "data": {
            "text/html": [
              "\n",
              "<link rel=\"stylesheet\" type=\"text/css\" href=\"https://cdn.jsdelivr.net/gh/bmabey/pyLDAvis@3.3.1/pyLDAvis/js/ldavis.v1.0.0.css\">\n",
              "\n",
              "\n",
              "<div id=\"ldavis_el5551404689116991521123149755\"></div>\n",
              "<script type=\"text/javascript\">\n",
              "\n",
              "var ldavis_el5551404689116991521123149755_data = {\"mdsDat\": {\"x\": [0.08448137748739042, -0.04224591337915344, -0.054055583814634565, 0.01236454316272421, -0.0036648250805840087, 0.0032449498642488487, -0.00012454823999153043], \"y\": [-0.001621879523589679, 0.06532204757447277, -0.05476055232924463, -0.009164514193151214, -0.005185626388396851, 0.009342353584173005, -0.0039318287242633395], \"topics\": [1, 2, 3, 4, 5, 6, 7], \"cluster\": [1, 1, 1, 1, 1, 1, 1], \"Freq\": [28.38331442313918, 18.88070316507207, 18.40960138000108, 16.728577099805268, 8.679056075917186, 5.362468125549503, 3.5562797305157137]}, \"tinfo\": {\"Term\": [\":\", \"\\u200b\", \"\\u0e17\\u0e32\\u0e19\", \"\", \"\\u0e0a\\u0e32\\u0e1a\\u0e39\", \"\\u0e01\\u0e38\\u0e49\\u0e07\", \"\\u0e23\\u0e2a\\u0e0a\\u0e32\\u0e15\\u0e34\", \"\\u0e19\\u0e49\\u0e33\", \"\\u0e40\\u0e25\\u0e37\\u0e2d\\u0e01\", \"\\u0e2d\\u0e23\\u0e48\\u0e2d\\u0e22\", \"\\u0e42\\u0e21\", \"\\u0e2d\\u0e32\\u0e2b\\u0e32\\u0e23\", \"\\u0e04\\u0e19\", \"  \", \"\\u0e14\\u0e35\", \"\\u0e1a\\u0e32\\u0e17\", \"\\u0e23\\u0e32\\u0e04\\u0e32\", \"\\u0e21\", \"\\u0e40\\u0e17\", \"\\u0e1b\\u0e38\\u0e23\\u0e30\", \"\\u0e40\\u0e19\\u0e37\\u0e49\\u0e2d\", \"\\u0e04\\u0e38\\u0e49\\u0e21\", \"\\u0e2a\\u0e14\", \"\\u0e40\\u0e27\\u0e25\\u0e32\", \"\\u0e2a\\u0e32\\u0e02\\u0e32\", \"\\u0e0a\\u0e2d\\u0e1a\", \"\\u0e19\\u0e49\\u0e33\\u0e08\\u0e34\\u0e49\\u0e21\", \"\\u0e1a\\u0e38\\u0e1f\\u0e40\\u0e1f\\u0e48\\u0e15\\u0e4c\", \"\\u0e40\\u0e14\\u0e2d\\u0e30\", \"\\u0e01\\u0e34\\u0e19\", \"\\u0e41\\u0e19\\u0e30\\u0e19\\u0e33\", \"\\u0e0a\\u0e32\\u0e40\\u0e02\\u0e35\\u0e22\\u0e27\", \"\\u0e40\\u0e01\\u0e34\\u0e19\\u0e44\\u0e1b\", \"\\u0e40\\u0e2b\\u0e47\\u0e14\", \"\\u0e2d\\u0e2d\", \"\\u0e40\\u0e2a\\u0e34\\u0e23\\u0e4c\\u0e1f\", \"\\u0e1a\\u0e32\\u0e07\\u0e2a\\u0e48\\u0e27\\u0e19\", \"\\u0e0a\\u0e37\\u0e48\\u0e2d\", \"\\u0e19\", \"\\u0e2d\\u0e22\\u0e39\\u0e48\\u0e41\\u0e25\\u0e49\\u0e27\", \"\\u0e22\\u0e31\\u0e07\\u0e21\\u0e35\", \"\\u0e40\\u0e2b\\u0e21\\u0e32\\u0e30\\u0e2a\\u0e21\", \"VAT\", \"\\u0e44\\u0e21\\u0e49\", \"::\", \"\\u0e44\\u0e1c\\u0e48\", \"\\u0e40\\u0e04\\u0e47\\u0e21\", \"\\u0e44\\u0e14\\u0e1f\\u0e39\\u0e01\\u0e38\", \"\\u0e40\\u0e19\\u0e37\\u0e49\\u0e2d\\u0e27\\u0e31\\u0e27\", \"\\u0e1b\\u0e23\\u0e01\\u0e15\\u0e34\", \"\\u0e17\\u0e14\\u0e41\\u0e17\\u0e19\", \"\\u0e2a\\u0e14\\u0e46 \\u0e23\\u0e49\\u0e2d\\u0e19\\u0e46\", \"\\u0e40\\u0e07\\u0e34\\u0e19\\u0e2a\\u0e14\", \"%\", \"\\u0e40\\u0e25\\u0e35\\u0e48\\u0e22\\u0e19\", \"\\u0e44\\u0e27\", \"7\", \"\\u0e42\\u0e14\\u0e22\\u0e40\\u0e09\\u0e1e\\u0e32\\u0e30\", \"\\u0e42\\u0e2b\\u0e14\", \"\\u0e16\\u0e49\\u0e27\\u0e22\", \"\\u0e44\\u0e01\\u0e48\", \"\\u0e0a\\u0e2d\\u0e1a\", \"2\", \"\\u0e2a\\u0e31\\u0e48\\u0e07\", \"\\u0e19\\u0e49\\u0e33\", \"\", \"\\u0e0b\\u0e38\\u0e1b\", \":\", \"\\u0e25\\u0e2d\\u0e07\", \"\\u0e2d\\u0e23\\u0e48\\u0e2d\\u0e22\", \"\\u0e08\\u0e48\\u0e32\\u0e22\", \"\\u0e40\\u0e25\\u0e37\\u0e2d\\u0e01\", \"\\u0e17\\u0e32\\u0e19\", \"\\u0e0a\\u0e32\\u0e1a\\u0e39\", \"\\u0e1a\\u0e38\\u0e1f\\u0e40\\u0e1f\\u0e48\\u0e15\\u0e4c\", \"\\u0e23\\u0e32\\u0e04\\u0e32\", \"\\u0e40\\u0e19\\u0e37\\u0e49\\u0e2d\", \"\\u0e23\\u0e2a\\u0e0a\\u0e32\\u0e15\\u0e34\", \"\\u0e04\\u0e19\\u0e25\\u0e30\", \"\\u0e2b\\u0e27\\u0e32\\u0e19\", \"3\", \"\\u0e01\\u0e34\\u0e19\", \"\\u0e1a\\u0e32\\u0e17\", \"\\u0e2d\\u0e32\\u0e2b\\u0e32\\u0e23\", \"\\u0e23\\u0e2a\", \"\\u0e19\\u0e49\\u0e33\\u0e08\\u0e34\\u0e49\\u0e21\", \"\\u0e14\\u0e33\", \"\\u0e14\\u0e35\", \"\\u0e14\\u0e35\\u0e21\\u0e32\\u0e01\", \"\\u0e1a\\u0e38\\u0e1f\\u0e40\\u0e1f\\u0e15\\u0e4c\", \"\\u0e01\\u0e32\", \"\\u0e1b\\u0e23\\u0e30\\u0e15\\u0e39\", \"\\u0e17\\u0e48\\u0e32\\u0e19\", \"\\u0e0a\\u0e39\", \"\\u0e04\\u0e48\\u0e32\", \"\\u0e40\\u0e23\\u0e22\", \"\\u0e40\\u0e15\\u0e47\\u0e21\", \"\\u0e42\\u0e0a\\u0e04\", \"\\u0e1a\\u0e38\\u0e1e\", \"128\", \"\\u0e40\\u0e40\\u0e1a\\u0e1a\", \"\\u0e2b\\u0e25\\u0e48\\u0e30\", \"\\u0e1a\\u0e23\\u0e32\", \"\\u0e27\\u0e34\\u0e1b\", \"255\", \"\\u0e08\\u0e1a\", \"\\u0e2a\\u0e27\\u0e22\", \"\\u0e40\", \"\\u0e1e\\u0e35\\u0e48\", \"\\u0e23\\u0e49\\u0e2d\\u0e22\", \"\\u0e22\", \"\\u0e04\\u0e23\\u0e35\\u0e21\", \"29\", \"\\u0e40\\u0e14\\u0e47\\u0e14\", \"\\u0e40\\u0e0b\\u0e15\", \"\\u0e08\\u0e38\\u0e01\", \"\\u0e0a\\u0e32\\u0e15\", \"\\u0e2a\\u0e21\\u0e23\\u0e32\\u0e04\\u0e32\", \"\\u0e01\\u0e34\\u0e19\\u0e17\\u0e35\\u0e48\", \"\\u0e23\\u0e2d\", \"+\", \"\\u0e04\\u0e34\\u0e27\", \"\\u0e2b\\u0e49\\u0e32\\u0e07\", \"\\u0e2b\\u0e21\\u0e49\\u0e2d\", \"\\u0e2a\\u0e32\\u0e02\\u0e32\", \"\\u0e02\\u0e2d\\u0e07\\u0e2b\\u0e27\\u0e32\\u0e19\", \"\\u0e2a\\u0e32\\u0e22\\u0e1e\\u0e32\\u0e19\", \"\\u0e14\\u0e35\", \"\\u0e2b\\u0e19\\u0e49\\u0e32\", \"\\u0e1c\\u0e31\\u0e01\", \"\\u0e1f\\u0e40\\u0e1f\\u0e48\", \"\\u0e0a\\u0e34\", \"\\u0e40\\u0e25\\u0e37\\u0e2d\\u0e01\", \"\\u0e1a\\u0e38\", \"\\u0e04\\u0e19\", \"\\u0e21\\u0e2d\\u0e25\\u0e25\\u0e4c\", \"\\u0e42\\u0e2d\\u0e40\\u0e04\", \"\\u0e04\\u0e38\\u0e49\\u0e21\\u0e04\\u0e48\\u0e32\", \"\", \"\\u0e01\\u0e30\\u0e1b\\u0e34\", \"\\u0e2b\\u0e22\\u0e34\\u0e1a\", \"\\u0e40\\u0e14\\u0e2d\\u0e30\", \"\\u0e2d\\u0e32\\u0e2b\\u0e32\\u0e23\", \"\\u0e23\\u0e32\\u0e04\\u0e32\", \"\\u0e2d\\u0e23\\u0e48\\u0e2d\\u0e22\", \"\\u0e01\\u0e34\\u0e19\", \"\\u0e17\\u0e32\\u0e19\", \"\\u0e0a\\u0e32\\u0e1a\\u0e39\", \"\\u0e40\\u0e19\\u0e37\\u0e49\\u0e2d\", \"\\u0e19\\u0e49\\u0e33\", \"\\u0e1a\\u0e32\\u0e17\", \"\\u0e44\\u0e2d\\u0e15\\u0e34\\u0e21\", \"\\u0e1e\\u0e19\\u0e31\\u0e01\\u0e07\\u0e32\\u0e19\", \"(\", \"\\u0e1a\\u0e23\\u0e34\\u0e01\\u0e32\\u0e23\", \"\\u0e14\\u0e39\", \"  \", \"\\u0e0b\\u0e38\\u0e1b\", \"\\u0e01\\u0e25\\u0e31\\u0e1a\\u0e21\\u0e32\", \"\\u0e43\\u0e0a\\u0e49\\u0e44\\u0e14\\u0e49\", \"\\u0e40\\u0e1e\\u0e25\\u0e34\\u0e19\", \"\\u0e40\\u0e27\\u0e25\\u0e32\", \"\\u0e42\\u0e14\\u0e19\", \"\\u0e0a\\u0e37\\u0e48\\u0e19\", \"\\u0e40\\u0e0a\\u0e47\\u0e04\\u0e1a\\u0e34\\u0e25\", \"\\u0e27\\u0e32\\u0e19\\u0e34\\u0e25\\u0e32\", \"\\u0e40\\u0e14\\u0e49\\u0e07\", \"\\u0e2b\\u0e2d\\u0e21\", \"\\u0e43\\u0e08\\u0e14\\u0e35\", \"\\u0e1b\\u0e2d\\u0e01\\u0e40\\u0e1b\\u0e25\\u0e37\\u0e2d\\u0e01\", \"\\u0e2d\\u0e35\\u0e01\\u0e04\\u0e23\\u0e31\\u0e49\\u0e07\", \"\\u0e2a\\u0e14\", \"\\u0e02\\u0e2d\\u0e07\\u0e04\\u0e32\\u0e27\", \"\\u0e22\\u0e37\\u0e19\", \"\\u0e25\\u0e32\\u0e22\\u0e15\\u0e32\", \"1.15\", \"\\u0e15\\u0e23\\u0e07\\u0e19\\u0e31\\u0e49\\u0e19\", \"\\u0e2d\\u0e31\\u0e1e\\u0e40\\u0e14\\u0e17\", \"\\u0e2a\\u0e33\\u0e2b\\u0e23\\u0e31\\u0e1a\", \"\\u0e2a\\u0e44\\u0e25\\u0e14\\u0e4c\", \"net\", \"\\u0e2a\\u0e44\\u0e1b\\u0e23\\u0e17\\u0e4c\", \"\\u0e40\\u0e1e\\u0e37\\u0e48\\u0e2d\\u0e19\", \"\\u0e1a\\u0e14\\u0e35\", \"\\u0e40\\u0e2a\\u0e32\\u0e23\\u0e4c\", \"\\u0e2d\\u0e21\", \"\\u0e02\\u0e48\\u0e32\\u0e27\", \"Net\", \"\\u0e15\\u0e31\\u0e27\", \"\\u0e01\\u0e38\\u0e49\\u0e07\", \"15\", \"\\u0e19\\u0e30\\u0e04\\u0e30\", \"\\u0e04\\u0e19\", \"\\u0e01\\u0e34\\u0e19\", \"\\u0e0a\\u0e31\\u0e48\\u0e27\\u0e42\\u0e21\\u0e07\", \"1\", \"\\u0e15\\u0e31\\u0e49\\u0e07\\u0e2d\\u0e22\\u0e39\\u0e48\", \"\\u0e19\\u0e32\\u0e17\\u0e35\", \"\\u0e15\\u0e34\\u0e14\", \"\\u0e14\\u0e35\", \"\\u0e19\\u0e38\\u0e48\\u0e21\", \"\\u0e40\\u0e19\\u0e37\\u0e49\\u0e2d\", \"\\u0e17\\u0e32\\u0e19\", \"\\u0e2d\\u0e32\\u0e2b\\u0e32\\u0e23\", \"\\u0e2a\\u0e32\\u0e02\\u0e32\", \"\", \"\\u0e0a\\u0e32\\u0e1a\\u0e39\", \"\\u0e23\\u0e32\\u0e04\\u0e32\", \"\\u0e19\\u0e49\\u0e33\", \"\\u0e23\\u0e2a\\u0e0a\\u0e32\\u0e15\\u0e34\", \"\\u0e0b\\u0e39\\u0e0a\\u0e34\", \"\\u0e04\\u0e38\\u0e49\\u0e21\", \"\\u0e0a\\u0e34\", \"\\u0e40\\u0e25\\u0e37\\u0e2d\\u0e01\", \"\\u0e2d\\u0e23\\u0e48\\u0e2d\\u0e22\", \"\\u0e1a\\u0e38\\u0e1f\\u0e40\\u0e1f\\u0e48\\u0e15\\u0e4c\", \"(\", \"\\u0e14\\u0e39\", \"\\u0e1a\\u0e32\\u0e17\", \"\\u0e0b\\u0e38\\u0e1b\", \"\\u200b\", \"\\u0e15\\u0e48\\u0e32\\u0e07 \\u0e46\", \"\\u0e1b\\u0e23\\u0e30\\u0e17\\u0e31\\u0e1a\\u0e43\\u0e08\", \"\\u0e2b\\u0e34\\u0e27\", \"\\u0e41\\u0e04\\u0e1a\", \"\\u0e40\\u0e14\\u0e47\\u0e01\", \"\\u0e44\\u0e14\\u0e49\\u0e01\\u0e25\\u0e34\\u0e48\\u0e19\", \"\\u0e1a\\u0e31\\u0e15\\u0e23\\u0e40\\u0e04\\u0e23\\u0e14\\u0e34\\u0e15\", \"\\u0e40\\u0e2b\\u0e21\\u0e37\\u0e2d\\u0e19\\u0e01\\u0e31\\u0e1a\", \"\\u0e2a\\u0e1a\\u0e32\\u0e22\\u0e14\\u0e35\", \"\\u0e02\\u0e19\\u0e21\", \"\\u0e17\\u0e35\\u0e48\\u0e08\\u0e30\", \"\\u0e04\\u0e38\\u0e13\\u0e20\\u0e32\\u0e1e\\u0e14\\u0e35\", \"\\u0e15\\u0e31\\u0e14\\u0e2a\\u0e34\\u0e19\\u0e43\\u0e08\", \"\\u0e40\\u0e2a\\u0e49\\u0e19\", \"\\u0e41\\u0e1f\\u0e19\", \"\\u0e22\\u0e39\", \"40\", \"\\u0e15\\u0e2d\\u0e19\\u0e41\\u0e23\\u0e01\", \"\\u0e2b\\u0e25\\u0e31\\u0e07\\u0e08\\u0e32\\u0e01\\u0e17\\u0e35\\u0e48\", \"39\", \"\\u0e41\\u0e1a\\u0e1a\\u0e19\\u0e35\\u0e49\", \"\\u0e15\\u0e34\\u0e14\\u0e01\\u0e31\\u0e1a\", \"\\u0e1f\\u0e35\", \"\\u0e17\\u0e35\\u0e48\\u0e44\\u0e2b\\u0e19\\u0e44\\u0e14\\u0e49\", \"49\", \"\\u0e19\\u0e21\", \"\\u0e41\\u0e01\\u0e07\\u0e40\\u0e02\\u0e35\\u0e22\\u0e27\\u0e2b\\u0e27\\u0e32\\u0e19\", \"\\u0e04\\u0e48\\u0e32\\u0e22\\u0e21\\u0e27\\u0e22\", \"HALL\", \"  \", \"\\u0e1a\\u0e23\\u0e34\\u0e01\\u0e32\\u0e23\", \"\\u0e1a\\u0e32\\u0e17\", \"\\u0e2b\\u0e25\\u0e32\\u0e01\\u0e2b\\u0e25\\u0e32\\u0e22\", \"\\u0e19\\u0e31\\u0e48\\u0e07\", \"\\u0e2d\\u0e32\\u0e2b\\u0e32\\u0e23\", \"\\u0e04\\u0e38\\u0e49\\u0e21\", \"\\u0e23\\u0e2a\\u0e0a\\u0e32\\u0e15\\u0e34\", \"\\u0e01\\u0e34\\u0e19\", \"\\u0e23\\u0e32\\u0e04\\u0e32\", \"\\u0e0b\\u0e38\\u0e1b\", \"\\u0e40\\u0e19\\u0e37\\u0e49\\u0e2d\", \"\\u0e2a\\u0e32\\u0e02\\u0e32\", \"\\u0e19\\u0e49\\u0e33\", \"\\u0e2d\\u0e23\\u0e48\\u0e2d\\u0e22\", \"4\", \"\", \"199\", \"\\u0e17\\u0e32\\u0e19\", \"\\u0e0a\\u0e32\\u0e1a\\u0e39\", \"\\u0e14\\u0e35\", \"\\u0e40\\u0e21\\u0e19\\u0e39\", \"1\", \"\\u0e1e\\u0e34\\u0e0b\\u0e0b\\u0e48\\u0e32\", \"\\u0e0b\\u0e39\\u0e0a\\u0e34\", \"\\u0e04\\u0e19\\u0e25\\u0e30\", \"\\u0e40\\u0e25\\u0e37\\u0e2d\\u0e01\", \"\\u0e2a\\u0e31\\u0e48\\u0e07\", \"2\", \"\\u0e08\\u0e48\\u0e32\\u0e22\", \"\\u0e02\\u0e2d\\u0e07\\u0e2b\\u0e27\\u0e32\\u0e19\", \"\\u0e19\\u0e4d\\u0e49\\u0e32\", \"\\u0e1f\\u0e40\\u0e1f\", \"\\u0e02\\u0e49\\u0e2d\\u0e14\\u0e35\", \"\\u0e23\\u0e30\\u0e1a\\u0e1a\", \"\\u0e02\\u0e27\\u0e31\\u0e0d\\u0e43\\u0e08\", \"\\u0e2a\\u0e27\\u0e31\\u0e2a\\u0e14\\u0e35\", \"\\u0e43\\u0e0a\\u0e49\\u0e41\\u0e25\\u0e49\\u0e27\", \"\\u0e21\\u0e35\\u0e48\", \"\\u0e23\\u0e35\\u0e27\\u0e34\\u0e27\", \"\\u0e1a\", \"\\u0e40\\u0e01\\u0e49\", \"\\u0e17\\u0e31\\u0e48\\u0e27\\u0e16\\u0e36\\u0e07\", \"\\u0e15\\u0e49\\u0e2d\\u0e07\\u0e01\\u0e32\\u0e23\", \"\\u0e1a\\u0e4b\\u0e27\\u0e22\", \"\\u0e2a\\u0e32\\u0e22\", \"\\u0e23\\u0e32\", \"\\u0e04\\u0e32\\u0e21\\u0e35\", \"\\u0e1b\\u0e25\\u0e32\", \"\\u0e27\\u0e01\", \"\\u0e19\\u0e49\\u0e30\", \"\\u0e01\\u0e35\\u0e48\", \"\\u0e0b\\u0e30\\u0e07\\u0e31\\u0e49\\u0e19\", \"\\u0e2d\\u0e32\\u0e2b\\u0e32\\u0e23\\u0e40\\u0e2a\\u0e23\\u0e34\\u0e21\", \"\\u0e0a\\u0e37\\u0e48\\u0e19\\u0e43\\u0e08\", \"\\u0e1b\\u0e38\", \"\\u0e40\\u0e1b\\u0e47\\u0e19\\u0e21\\u0e32\", \"\\u0e0a\\u0e31\\u0e48\\u0e27\\u0e04\\u0e23\\u0e32\\u0e27\", \"\\u0e14\\u0e36\\u0e01\", \"\\u0e0d\\u0e35\\u0e48\", \"\\u0e19\\u0e1e\", \"\\u0e1b\\u0e38\\u0e23\\u0e30\", \"\\u0e40\\u0e17\", \"\\u0e21\", \"\\u0e01\\u0e38\\u0e49\\u0e07\", \"\\u0e17\\u0e32\\u0e19\", \"\\u0e0a\\u0e32\\u0e1a\\u0e39\", \"\\u0e04\\u0e38\\u0e49\\u0e21\", \"\\u0e0a\\u0e2d\\u0e1a\", \"\\u0e1a\\u0e38\", \"\\u0e40\\u0e25\\u0e37\\u0e2d\\u0e01\", \"\\u0e17\\u0e2d\\u0e14\", \"\\u0e2d\\u0e23\\u0e48\\u0e2d\\u0e22\", \"\", \"\\u0e2b\\u0e22\\u0e34\\u0e1a\", \"\\u0e40\\u0e21\\u0e19\\u0e39\", \"\\u0e44\\u0e2d\\u0e15\\u0e34\\u0e21\", \"\\u0e0a\\u0e34\", \"\\u0e25\\u0e2d\\u0e07\", \"\\u0e14\\u0e35\", \"\\u0e40\\u0e19\\u0e37\\u0e49\\u0e2d\", \"\\u0e04\\u0e19\", \"\\u0e0b\\u0e38\\u0e1b\", \"\\u0e0b\\u0e39\\u0e0a\\u0e34\", \"\\u0e02\\u0e2d\\u0e07\\u0e2b\\u0e27\\u0e32\\u0e19\", \"\\u0e1c\\u0e31\\u0e01\", \"\\u0e1e\\u0e19\\u0e31\\u0e01\\u0e07\\u0e32\\u0e19\", \"\\u0e19\\u0e49\\u0e33\", \"\\u0e19\\u0e49\\u0e33\\u0e08\\u0e34\\u0e49\\u0e21\", \"\\u0e2d\\u0e32\\u0e2b\\u0e32\\u0e23\", \"\\u0e23\\u0e32\\u0e04\\u0e32\", \"\\u0e01\\u0e34\\u0e19\", \"\\u0e1a\\u0e32\\u0e17\", \"\\u0e2a\\u0e38\\u0e01\\u0e35\\u0e49\", \"Menu\", \"4.0\", \"\\u2013\", \"Number\", \"\\u0e01\\u0e4c\", \"\\u0e01\\u0e23\\u0e23\\u0e21\\u0e27\\u0e34\\u0e18\\u0e35\", \"\\u0e2b\\u0e25\\u0e32\\u0e22\\u0e0a\\u0e19\\u0e34\\u0e14\", \"\\u0e2a\\u0e44\\u0e15\\u0e25\\u0e4c\", \"\\u0e14\\u0e31\\u0e07\\u0e40\\u0e14\\u0e34\\u0e21\", \"\\u0e41\\u0e1a\\u0e1a\\u0e09\\u0e1a\\u0e31\\u0e1a\", \"\\u0e23\\u0e49\\u0e32\\u0e19\\u0e2d\\u0e32\\u0e2b\\u0e32\\u0e23\", \"\\u0e21\\u0e2d\", \"\\u0e1e\\u0e32\\u0e23\\u0e32\", \"\\u0e44\\u0e17\\u0e22\", \"\\u0e44\\u0e14\", \"\\u0e04\\u0e30\\u0e41\\u0e19\\u0e19\", \"\\u0e2a\\u0e4c\", \"\\u0e22\\u0e38\\u0e04\", \"20\", \"\\u0e1b\\u0e23\\u0e30\", \"\\u0e42\\u0e21\", \"/\", \"\\u0e2b\\u0e25\\u0e32\\u0e01\", \"\\u0e1e\\u0e2d\\u0e19\", \"\\u0e0b\\u0e36\", \"\\u0e40\\u0e0b\\u0e47\\u0e17\", \"\\u0e25\", \"\\u0e23\\u0e32\\u0e22\\u0e25\\u0e30\\u0e40\\u0e2d\\u0e35\\u0e22\\u0e14\", \"5\", \":\", \"  \", \"\\u0e19\\u0e49\\u0e33\\u0e08\\u0e34\\u0e49\\u0e21\", \"\\u0e14\\u0e33\", \"\\u0e19\\u0e49\\u0e33\", \"\\u0e0a\\u0e32\\u0e1a\\u0e39\", \"\\u0e40\\u0e25\\u0e37\\u0e2d\\u0e01\", \"\\u0e17\\u0e32\\u0e19\", \"\", \"\\u0e2d\\u0e32\\u0e2b\\u0e32\\u0e23\", \"\\u0e40\\u0e19\\u0e37\\u0e49\\u0e2d\", \"\\u0e23\\u0e32\\u0e04\\u0e32\", \"\\u0e1a\\u0e32\\u0e17\", \"\\u0e23\\u0e2a\\u0e0a\\u0e32\\u0e15\\u0e34\", \"\\u0e04\\u0e19\", \"\\u0e2a\\u0e32\\u0e02\\u0e32\", \"\\u0e40\\u0e21\\u0e19\\u0e39\", \"\\u0e40\\u0e14\\u0e2d\\u0e30\", \"\\u0e14\\u0e35\", \"\\u0e2d\\u0e23\\u0e48\\u0e2d\\u0e22\", \"\\u0e1c\\u0e31\\u0e01\", \"\\u0e2b\\u0e21\\u0e39\", \"\\u0e1a\\u0e38\\u0e1f\\u0e40\\u0e1f\\u0e48\\u0e15\\u0e4c\", \"(\", \"\\u0e01\\u0e34\\u0e19\", \"\\u0e01\\u0e30\\u0e1b\\u0e34\", \"\\u0e0d\\u0e35\\u0e48\\u0e1b\\u0e38\\u0e48\\u0e19\", \"\\u0e0b\\u0e38\\u0e1b\", \"\\u0e0a\\u0e2d\\u0e04\", \"\\u0e21\\u0e30\\u0e19\\u0e32\\u0e27\", \"\\u0e25\\u0e07\\u0e40\\u0e2d\\u0e22\", \"\\u0e2d\\u0e22\\u0e38\\u0e48\", \"\\u0e2b\\u0e32\", \"\\u0e2d\\u0e32\\u0e2b\\u0e32\\u0e23\\u0e2a\\u0e14\", \"\\u0e27\\u0e31\\u0e19\\u0e01\\u0e48\\u0e2d\\u0e19\", \"\\u0e2b\", \"\\u0e41\\u0e01\\u0e07\\u0e04\\u0e4c\", \"\\u0e42\\u0e01\", \"\\u0e40\\u0e1a\\u0e2d\\u0e23\\u0e4c\", \"\\u0e21\\u0e38\", \"\\u0e41\\u0e25\", \"\\u0e19\\u0e34\", \"\\u0e19\\u0e31\\u0e14\", \"\\u0e15\", \"\\u0e2b\\u0e25\\u0e32\\u0e01\", \"\\u0e27\", \"\\u0e02\\u0e49\\u0e32\\u0e27\", \"359\", \"\\u0e25\\u0e32\", \"\\u0e23\\u0e35\\u0e48\", \"\\u0e2a\\u0e15\\u0e2d\", \"15\", \":\", \"G\", \"\\u0e44\\u0e2d\\u0e28\\u0e01\\u0e23\\u0e35\\u0e21\", \"\\u0e0a\\u0e21.\", \"\\u0e2a\\u0e44\\u0e25\\u0e14\\u0e4c\", \"\\u0e0a\\u0e31\\u0e49\\u0e19\", \"\\u0e23\\u0e2a\\u0e0a\\u0e32\\u0e15\\u0e34\", \"\\u0e17\\u0e32\\u0e19\", \"\", \"\\u0e14\\u0e35\", \"\\u0e2d\\u0e32\\u0e2b\\u0e32\\u0e23\", \"\\u0e2d\\u0e23\\u0e48\\u0e2d\\u0e22\", \"\\u0e23\\u0e32\\u0e04\\u0e32\", \"\\u0e1a\\u0e32\\u0e17\", \"\\u0e04\\u0e19\", \"\\u0e40\\u0e14\\u0e2d\\u0e30\", \"\\u0e0b\\u0e39\\u0e0a\\u0e34\", \"\\u0e0a\\u0e32\\u0e1a\\u0e39\", \"\\u0e40\\u0e25\\u0e37\\u0e2d\\u0e01\", \"\\u0e19\\u0e49\\u0e33\", \"\\u0e40\\u0e19\\u0e37\\u0e49\\u0e2d\", \"\\u0e1a\\u0e38\\u0e1f\\u0e40\\u0e1f\\u0e48\\u0e15\\u0e4c\", \"\\u0e19\\u0e38\\u0e48\\u0e21\", \"\\u0e01\\u0e34\\u0e19\", \"\\u0e23\\u0e2a\", \"1\", \"\\u0e0b\\u0e38\\u0e1b\", \"\\u0e40\\u0e27\\u0e25\\u0e32\", \"\\u0e2a\\u0e32\\u0e02\\u0e32\", \"\\u0e02\\u0e2d\\u0e07\\u0e2b\\u0e27\\u0e32\\u0e19\"], \"Freq\": [10.0, 6.0, 23.0, 29.0, 19.0, 9.0, 13.0, 24.0, 18.0, 20.0, 4.0, 17.0, 10.0, 6.0, 19.0, 14.0, 17.0, 5.0, 5.0, 5.0, 18.0, 8.0, 8.0, 4.0, 11.0, 7.0, 6.0, 7.0, 6.0, 20.0, 2.7063275908682374, 2.044588660524374, 1.3700866339078666, 2.0567251118849974, 1.3720348953025225, 2.059037940729608, 1.3742672166914658, 1.374329643276475, 1.397442229913853, 1.3996353443622112, 1.3998384210884456, 1.4009179442292152, 1.401928950386438, 1.4117768393341232, 1.4120998207815645, 1.4129248794584397, 1.413121580298705, 1.4131767745354509, 2.836933332630334, 0.7376070249253402, 0.7376080717125889, 0.7376083096187818, 0.7376094991497462, 0.7376110217493805, 0.7376112596555734, 0.7376117830491977, 0.737612639511492, 0.7376129249989235, 0.7376135911362636, 0.7376150185734207, 2.8257907581810473, 4.234757639889938, 3.504999616079784, 4.993984057023723, 11.360915236855911, 12.626851773461276, 6.929640991256328, 4.76271982440817, 3.0624710680210145, 8.188857534375392, 2.1902801291388725, 6.252187690736022, 7.578633859410957, 6.390340768560746, 3.2733136233655102, 5.5029971084422895, 5.594707852219406, 4.50940111673865, 2.231297440689214, 2.2434765248395996, 2.235312345600098, 4.887385714671629, 3.980035095357527, 4.295226923069196, 2.4957728068546383, 2.598457497171534, 2.5856697538173083, 3.82937919063516, 2.4342675849491444, 1.1705041906606148, 1.1804106505640386, 1.1815659210104295, 1.1847799150435339, 1.1847962470860087, 1.1874301370987994, 0.6287070392745083, 0.6291002743437127, 0.6294237500687022, 0.6296025163010642, 0.6296727187627107, 0.6297602028041853, 0.6300082852633309, 0.6300292383875914, 0.6301550837381352, 0.6301703396382766, 0.6302385797227265, 0.6303040978000971, 0.6303108711665498, 0.6303573351943663, 0.6303975322756518, 0.6305381904089055, 0.6305740196183661, 0.6306024424364719, 0.6306323212118525, 0.6306258643578507, 0.6307155639864829, 0.6307535454806108, 0.6307762710745973, 0.6308645147459545, 2.4231360192839855, 1.2863078671819275, 1.8888229947108046, 1.8939882247022406, 1.8926131680098295, 3.54004262450599, 2.8824029288695803, 2.114318239113385, 4.773908176695699, 2.1025933518760973, 2.2534010265956588, 1.410476461364992, 2.248544965966424, 3.690637982673377, 1.458457976476868, 2.4905908996452055, 1.4143419646273707, 1.409061270893786, 1.3381733698833242, 4.360630019830069, 1.5480341652530496, 1.4609861513310025, 1.6917057502508779, 3.0848207440450186, 3.059210328974486, 3.2344683373289334, 3.0621969404627447, 3.2426222044883146, 2.7654330938735603, 2.617000148771856, 2.779701981587536, 2.302305238804882, 1.8291250748953294, 1.7568855391138356, 1.610207845460763, 1.6977713948631064, 1.6064973066944264, 1.6265872381984467, 1.6593585575668766, 2.255361077227402, 1.7263632553464945, 1.179545880382462, 2.920971769365694, 1.1857926181581988, 1.186909187199195, 1.1872244682750055, 1.1879240367388337, 1.1879063839612922, 1.1883440000199248, 1.1887772954686697, 1.1894058824843416, 1.190496157528021, 4.634169632600169, 0.6246227943769815, 0.6250427576580726, 0.6252715648131292, 0.6253161905409701, 0.6259042255466954, 0.6262753659360548, 2.374383016387723, 1.8350828853984251, 0.6273917498080559, 0.6389532080837389, 0.6396262356582565, 0.6398129477284066, 0.6399556513006998, 0.6399689834683534, 0.6403274706430414, 0.6404020320251046, 1.8391121627337619, 4.828678551907662, 1.2936089938515922, 1.2962556760228428, 3.488802121903899, 6.108544426382242, 1.2812934039814983, 2.016096688336464, 1.2891860472324814, 1.290593455041923, 1.2848525989610458, 4.717549502890318, 2.151422263739286, 3.6139408102053334, 4.23311334037789, 3.0482273096201413, 2.471012345513708, 3.282195741802646, 2.7334884086277067, 2.509790683378413, 2.7477597534249987, 2.1988003435246073, 1.8000444674525728, 1.8053349925371478, 1.7086539395385065, 2.1062118956576574, 2.168715319646087, 1.6884416326995353, 1.5909711425514002, 1.5877132792500255, 1.7619281704686707, 1.6405961863703546, 6.064421233463886, 1.083208695387115, 1.0968670956114435, 1.1023445447368116, 0.5831682367345526, 0.5831684610822538, 0.583168853690731, 0.5831689097776563, 0.5831693023861334, 0.5831694145599841, 0.5831695267338347, 0.5831696949946106, 0.5831699754292371, 0.5831706484723408, 0.5831709289069673, 0.5893384715612985, 0.5896016875017588, 0.5897016344026538, 0.5898670347453807, 0.589942639920693, 0.5900553185536325, 0.5901310359027954, 0.5901615471901617, 0.5903309297045853, 0.5903684518576149, 0.5903949248863593, 0.5904327274740154, 0.5904379996449942, 0.5905448452377018, 0.5905572965351197, 2.5114969100201257, 2.57828925893294, 4.127683615727984, 1.1866910917056976, 1.192803669173229, 4.374479547935747, 2.6996364626999383, 3.5645695395711607, 4.353153952848259, 3.860351343645639, 3.5220949110370494, 3.933610739393918, 2.844455147316625, 4.087764980553911, 3.5358839937973405, 1.3255829587514658, 4.106942222054483, 1.2353715141771988, 3.544463498587524, 3.094483929899015, 3.0266584598220674, 1.6545950321572966, 1.4319063821844904, 1.3668722462061635, 1.7153565783396754, 1.2760889393414783, 2.497393067435018, 1.500281616303286, 1.3030666382397358, 1.2418881418546335, 1.2453092199505884, 0.7355991171464731, 0.39602385526741196, 0.39602449544107843, 0.39602493192312377, 0.3960250774171388, 0.3960250774171388, 0.3960251356147449, 0.396025252009957, 0.39602536840516905, 0.39602545570157816, 0.3960259212824265, 0.3960267942465171, 0.39602682334532013, 0.40272536780084106, 0.40272789939670395, 0.4027631089483598, 0.4030665221674637, 0.4034610437388275, 0.4035866050738648, 0.40358689606189496, 0.40359905936155793, 0.40367980853994223, 0.4037533121163742, 0.4037942541322253, 0.4038679904990815, 0.40388821416718135, 0.40390901981134164, 0.4040193333735957, 0.4040448530238454, 0.40404913054788955, 1.636666366164976, 1.6371670983673678, 1.638518795965317, 1.7949124079175243, 3.071151455452336, 2.4334644562930396, 1.500601992769987, 1.2761781728388906, 0.9325059449884348, 2.0275754957265177, 0.9925313050465672, 2.068323131573412, 2.4559939135443103, 0.9342417467862659, 1.1234369262467143, 1.1694516782309021, 1.1054529348178068, 0.9792503785571866, 1.3900017491085808, 1.3408757531053475, 0.9275440752948356, 1.0612292723571908, 0.8322234967047423, 0.8455317178713568, 0.7758040603170189, 0.7908160164005351, 1.112528948946121, 0.7301805126406504, 0.9751752075892548, 0.9588266852853607, 0.9604575567994968, 0.8073136991687168, 0.5317149741416374, 0.2859503084417665, 0.2860932241122164, 0.28614432064453726, 0.28621990467756925, 0.2862422886264572, 0.2862709292935885, 0.2862989406930804, 0.28635505338744116, 0.2864508459012362, 0.28651551663549313, 0.2867195072251175, 0.28680409877493096, 0.2868223834946249, 0.2869537026614341, 0.28696396871349433, 0.2871775421503133, 0.28722408997655496, 0.287255643253903, 0.2873353085370535, 0.2881843523943092, 1.1349391317475928, 0.584177053198195, 0.33151261166469215, 0.33264493383413907, 0.33309743120410795, 0.3262049368960179, 0.3267799796439949, 0.3287058622439761, 0.33601601047388663, 1.5753205466289408, 0.9722262698637616, 0.7526774513734464, 0.7478354706160935, 1.4945896077206082, 1.2526355531170816, 1.200585914050475, 1.2332595754618854, 1.268511076705866, 0.9262508973832456, 0.9497772367228468, 0.9146218875741693, 0.8072896840166742, 0.7722842803569328, 0.6568890368075749, 0.6615804967455787, 0.5601987558608873, 0.5307090448723367, 0.7491398165790822, 0.7583697704814847, 0.5495078942068085, 0.5000684573085141, 0.53833220880517, 0.49380587788655844, 0.6802885157910691, 0.4656409370906647, 0.44215961735589515, 0.5161438722577288, 0.2062402124727021, 0.20629122059362823, 0.20631265878937977, 0.2066472043379877, 0.20665619454910933, 0.20667393650421406, 0.20684117350844725, 0.2068736765794254, 0.2068961401838725, 0.2069014341543473, 0.20690844508821934, 0.20692346851794513, 0.2069409004657698, 0.20696038323098562, 0.20698766387163053, 0.20707265355979354, 0.23878809142618687, 0.23782704501129998, 0.22979368328293054, 0.24289265935426743, 0.24323133038437147, 0.23704191580448786, 0.2383946206476545, 0.25745236588251347, 0.9648988038159915, 0.27892265931090837, 0.2730037618529442, 0.27841966057566087, 0.26643275215802575, 0.3188045712623844, 0.7258720306308756, 1.057692758327394, 0.9135170525772758, 0.7091737508045214, 0.6670829177490785, 0.7158048065249153, 0.6587063779616872, 0.5815300178983641, 0.473165971592872, 0.3822744125256027, 0.42447770668356427, 0.5630076552361616, 0.5255253904060284, 0.5676606260426609, 0.5145305768247134, 0.38759404206450504, 0.37099260374309756, 0.49012031743255224, 0.34391594788846247, 0.32640442357966654, 0.3718086859844876, 0.2859153504468443, 0.30682972928195756, 0.26180472501421403], \"Total\": [10.0, 6.0, 23.0, 29.0, 19.0, 9.0, 13.0, 24.0, 18.0, 20.0, 4.0, 17.0, 10.0, 6.0, 19.0, 14.0, 17.0, 5.0, 5.0, 5.0, 18.0, 8.0, 8.0, 4.0, 11.0, 7.0, 6.0, 7.0, 6.0, 20.0, 3.54481017700321, 2.726272149916119, 1.8494175201093137, 2.783685555217505, 1.858506821114728, 2.794407320657445, 1.868929029063708, 1.8692212422004992, 1.9772649247967067, 1.9875943447230429, 1.9885368152172442, 1.9936001503185852, 1.9983833340388246, 2.0445805748344377, 2.0461243567637366, 2.049944114714849, 2.0508252569269594, 2.051240411866966, 4.483378536073477, 1.1691966819942654, 1.169201507465283, 1.1692026008943044, 1.1692079049108322, 1.1692151300759497, 1.1692163397956041, 1.1692187030676064, 1.1692230494207243, 1.1692244860634853, 1.169227102775686, 1.1692337884479975, 4.61868956187511, 7.1282529341438705, 5.977673314405823, 8.711031895466398, 24.150921135131746, 29.01464179997593, 15.700872476830014, 10.438398669684755, 6.354296947280076, 20.67042289372756, 4.382125997499573, 18.300117436685095, 23.960936692106305, 19.23285386560731, 7.614058171925605, 17.464504415262045, 18.564443117243425, 13.713930957500652, 4.578370142648447, 4.676586906603157, 4.6528842330788205, 20.54214742438799, 14.36808552144282, 17.37126354739168, 6.0245107379923715, 6.5964744822339405, 6.7245604441236555, 19.195810646535428, 6.069439425976266, 1.763289102792583, 1.8184397023434085, 1.8247874088523597, 1.8427465803942413, 1.8428254083150089, 1.8574525375294262, 1.1222696407210833, 1.1244551921216028, 1.126276610465948, 1.127264744798554, 1.1276874114597084, 1.128145871777614, 1.1295546458233632, 1.1296834469950918, 1.1303845653228881, 1.1304407364681657, 1.1308705178249931, 1.1312125860715003, 1.131241057787575, 1.131488439149227, 1.1317257396874347, 1.1325243816120563, 1.1327598446340907, 1.1328880751294348, 1.1330274519226045, 1.1330226737354736, 1.1335537424260007, 1.1337351871016212, 1.133852849884009, 1.1343284413100951, 5.009261175618202, 2.640370522261318, 4.410322765407692, 4.438542806456214, 4.642369766938966, 11.54558442784462, 9.10008940681685, 5.9679375917799895, 19.195810646535428, 6.190364643107019, 7.078229583228008, 3.6598140777109798, 7.557989198906428, 18.300117436685095, 4.2581046040313995, 10.022842140308748, 4.117961785039539, 4.218520742232865, 3.931116010504516, 29.01464179997593, 5.09401800735973, 4.656764699516714, 6.059893116775703, 17.37126354739168, 17.464504415262045, 20.67042289372756, 20.54214742438799, 23.960936692106305, 19.23285386560731, 18.564443117243425, 24.150921135131746, 14.36808552144282, 8.318502311249896, 7.585895101224235, 6.082129367640544, 7.595567273761403, 6.158658928344706, 6.955795830207379, 15.700872476830014, 3.176884504986581, 2.5808403649611655, 1.8785003213300036, 4.717233594971157, 1.9150176390206057, 1.9216537172528996, 1.923859141217303, 1.9270929977847777, 1.9273444324776605, 1.9298929619909608, 1.9325559946806474, 1.9362427163666236, 1.9425989446291043, 8.18708748431386, 1.1340841879371542, 1.1364532707040274, 1.137754837957018, 1.13801303240681, 1.1413288982755938, 1.143424941825838, 4.335839554096612, 3.3576132386706385, 1.1497843996857064, 1.2153380559289475, 1.2191997937522263, 1.2203417652874318, 1.2213974249362323, 1.2215589027792215, 1.2235683933752348, 1.2237933813496495, 3.543985913364036, 9.959952671003293, 2.6906971816645053, 2.86842312723091, 10.022842140308748, 20.54214742438799, 2.9699614059359183, 5.353380022122672, 3.0146036374485883, 3.022620445554801, 3.0892709174951576, 19.195810646535428, 6.892043107912267, 18.564443117243425, 23.960936692106305, 17.37126354739168, 11.54558442784462, 29.01464179997593, 19.23285386560731, 17.464504415262045, 24.150921135131746, 13.713930957500652, 8.078030221816906, 8.961648599159334, 7.557989198906428, 18.300117436685095, 20.67042289372756, 7.614058171925605, 6.082129367640544, 6.158658928344706, 14.36808552144282, 15.700872476830014, 6.984675030275881, 1.5899650819804108, 1.6707768709101627, 1.7030813461235639, 1.0395048589317926, 1.0395061212735477, 1.039508444557091, 1.039508605117144, 1.0395110892195456, 1.039511795183322, 1.039512496162941, 1.0395133831978498, 1.0395152641536993, 1.0395188668877917, 1.0395205902030589, 1.0759766239316066, 1.0775145554292715, 1.078100417406853, 1.079086273978451, 1.0795275769444477, 1.0801956941290671, 1.0806717234360754, 1.080822771908618, 1.081824026964464, 1.0820515298226174, 1.0822028509341293, 1.0824236299233039, 1.0824596805052837, 1.083090747535259, 1.0831676062373794, 6.955795830207379, 7.595567273761403, 14.36808552144282, 2.818319048042689, 2.8537543611037726, 17.37126354739168, 8.961648599159334, 13.713930957500652, 20.54214742438799, 17.464504415262045, 15.700872476830014, 18.564443117243425, 11.54558442784462, 24.150921135131746, 20.67042289372756, 4.149769141027066, 29.01464179997593, 3.7220708570247316, 23.960936692106305, 19.23285386560731, 19.195810646535428, 6.885240501566538, 5.353380022122672, 5.016139725155793, 8.078030221816906, 4.578370142648447, 18.300117436685095, 8.711031895466398, 5.977673314405823, 4.382125997499573, 9.10008940681685, 1.2756800139624285, 0.8823507094340325, 0.8823562107462325, 0.8823599412447024, 0.8823611490686862, 0.8823611527540346, 0.8823617134549644, 0.8823626890936355, 0.8823637989898603, 0.8823642167196888, 0.8823683020581758, 0.8823758856846656, 0.8823763801612668, 0.9409707555837862, 0.940993671104829, 0.9413055618095081, 0.9439970863425, 0.9475003546607828, 0.948622329625729, 0.9486252233769158, 0.948733879007174, 0.949457483048795, 0.9501167199937898, 0.9504843230414792, 0.9511482430448444, 0.9513302545114146, 0.9515180891518684, 0.952515313084413, 0.9527472021729918, 0.9527860466249805, 5.505293814555634, 5.510284628162254, 5.522358403348542, 9.959952671003293, 23.960936692106305, 19.23285386560731, 8.961648599159334, 7.1282529341438705, 4.2581046040313995, 18.300117436685095, 5.026936518823725, 20.67042289372756, 29.01464179997593, 4.656764699516714, 6.885240501566538, 8.318502311249896, 7.557989198906428, 6.354296947280076, 19.195810646535428, 18.564443117243425, 10.022842140308748, 15.700872476830014, 8.078030221816906, 9.10008940681685, 7.078229583228008, 7.585895101224235, 24.150921135131746, 6.5964744822339405, 17.37126354739168, 17.464504415262045, 20.54214742438799, 14.36808552144282, 1.213712874001857, 0.8525769934182443, 0.8543383213050735, 0.8549687848459249, 0.8559045383665473, 0.8561777019552514, 0.8565514562724756, 0.8568957948422323, 0.8576083083639768, 0.8587509101745705, 0.8595478710669173, 0.8620670281619763, 0.8631282860645249, 0.8633419671696959, 0.8649848259497527, 0.8651282527715943, 0.8677389844540673, 0.8682929638508047, 0.8687348772561323, 0.86969999138293, 0.8801846782151357, 4.43992696006061, 2.375613403933454, 1.5796956811618423, 1.7564055767630045, 1.7620626085046318, 1.8349382067264692, 1.8416703805508352, 1.8948163711303332, 1.9790658036860758, 10.438398669684755, 6.955795830207379, 6.5964744822339405, 6.7245604441236555, 24.150921135131746, 19.23285386560731, 18.300117436685095, 23.960936692106305, 29.01464179997593, 17.37126354739168, 18.564443117243425, 17.464504415262045, 14.36808552144282, 13.713930957500652, 10.022842140308748, 11.54558442784462, 6.885240501566538, 6.059893116775703, 19.195810646535428, 20.67042289372756, 7.078229583228008, 5.614687594377209, 7.614058171925605, 6.082129367640544, 20.54214742438799, 5.09401800735973, 4.234707316299569, 15.700872476830014, 0.7913851676107029, 0.7922874170624586, 0.7926667097801045, 0.7986258680640446, 0.7987870623697488, 0.7991054585479904, 0.8021197891660203, 0.8027087013396048, 0.8031163036936305, 0.8032125782972588, 0.8033402001450725, 0.8036135932865827, 0.8039307182843685, 0.8042855942674547, 0.8047840129749224, 0.806343165856375, 1.5796956811618423, 1.848454849858783, 1.8131527818269546, 1.9289449609420652, 1.9353410672068028, 1.9353309693897753, 1.9575030685562096, 2.6906971816645053, 10.438398669684755, 3.0603561870155316, 3.060629396096712, 3.151681086090565, 3.3576132386706385, 4.226848397615351, 13.713930957500652, 23.960936692106305, 29.01464179997593, 19.195810646535428, 17.37126354739168, 20.67042289372756, 17.464504415262045, 14.36808552144282, 10.022842140308748, 6.059893116775703, 8.078030221816906, 19.23285386560731, 18.300117436685095, 24.150921135131746, 18.564443117243425, 7.614058171925605, 6.892043107912267, 20.54214742438799, 6.0245107379923715, 5.353380022122672, 15.700872476830014, 4.717233594971157, 11.54558442784462, 9.10008940681685], \"Category\": [\"Default\", \"Default\", \"Default\", \"Default\", \"Default\", \"Default\", \"Default\", \"Default\", \"Default\", \"Default\", \"Default\", \"Default\", \"Default\", \"Default\", \"Default\", \"Default\", \"Default\", \"Default\", \"Default\", \"Default\", \"Default\", \"Default\", \"Default\", \"Default\", \"Default\", \"Default\", \"Default\", \"Default\", \"Default\", \"Default\", \"Topic1\", \"Topic1\", \"Topic1\", \"Topic1\", \"Topic1\", \"Topic1\", \"Topic1\", \"Topic1\", \"Topic1\", \"Topic1\", \"Topic1\", \"Topic1\", \"Topic1\", \"Topic1\", \"Topic1\", \"Topic1\", \"Topic1\", \"Topic1\", \"Topic1\", \"Topic1\", \"Topic1\", \"Topic1\", \"Topic1\", \"Topic1\", \"Topic1\", \"Topic1\", \"Topic1\", \"Topic1\", \"Topic1\", \"Topic1\", \"Topic1\", \"Topic1\", \"Topic1\", \"Topic1\", \"Topic1\", \"Topic1\", \"Topic1\", \"Topic1\", \"Topic1\", \"Topic1\", \"Topic1\", \"Topic1\", \"Topic1\", \"Topic1\", \"Topic1\", \"Topic1\", \"Topic1\", \"Topic1\", \"Topic1\", \"Topic1\", \"Topic1\", \"Topic1\", \"Topic1\", \"Topic1\", \"Topic1\", \"Topic1\", \"Topic1\", \"Topic1\", \"Topic1\", \"Topic2\", \"Topic2\", \"Topic2\", \"Topic2\", \"Topic2\", \"Topic2\", \"Topic2\", \"Topic2\", \"Topic2\", \"Topic2\", \"Topic2\", \"Topic2\", \"Topic2\", \"Topic2\", \"Topic2\", \"Topic2\", \"Topic2\", \"Topic2\", \"Topic2\", \"Topic2\", \"Topic2\", \"Topic2\", \"Topic2\", \"Topic2\", \"Topic2\", \"Topic2\", \"Topic2\", \"Topic2\", \"Topic2\", \"Topic2\", \"Topic2\", \"Topic2\", \"Topic2\", \"Topic2\", \"Topic2\", \"Topic2\", \"Topic2\", \"Topic2\", \"Topic2\", \"Topic2\", \"Topic2\", \"Topic2\", \"Topic2\", \"Topic2\", \"Topic2\", \"Topic2\", \"Topic2\", \"Topic2\", \"Topic2\", \"Topic2\", \"Topic2\", \"Topic2\", \"Topic2\", \"Topic2\", \"Topic2\", \"Topic2\", \"Topic2\", \"Topic2\", \"Topic2\", \"Topic2\", \"Topic2\", \"Topic2\", \"Topic2\", \"Topic2\", \"Topic2\", \"Topic2\", \"Topic2\", \"Topic2\", \"Topic2\", \"Topic3\", \"Topic3\", \"Topic3\", \"Topic3\", \"Topic3\", \"Topic3\", \"Topic3\", \"Topic3\", \"Topic3\", \"Topic3\", \"Topic3\", \"Topic3\", \"Topic3\", \"Topic3\", \"Topic3\", \"Topic3\", \"Topic3\", \"Topic3\", \"Topic3\", \"Topic3\", \"Topic3\", \"Topic3\", \"Topic3\", \"Topic3\", \"Topic3\", \"Topic3\", \"Topic3\", \"Topic3\", \"Topic3\", \"Topic3\", \"Topic3\", \"Topic3\", \"Topic3\", \"Topic3\", \"Topic3\", \"Topic3\", \"Topic3\", \"Topic3\", \"Topic3\", \"Topic3\", \"Topic3\", \"Topic3\", \"Topic3\", \"Topic3\", \"Topic3\", \"Topic3\", \"Topic3\", \"Topic3\", \"Topic3\", \"Topic3\", \"Topic3\", \"Topic3\", \"Topic3\", \"Topic3\", \"Topic3\", \"Topic3\", \"Topic3\", \"Topic3\", \"Topic3\", \"Topic3\", \"Topic3\", \"Topic3\", \"Topic4\", \"Topic4\", \"Topic4\", \"Topic4\", \"Topic4\", \"Topic4\", \"Topic4\", \"Topic4\", \"Topic4\", \"Topic4\", \"Topic4\", \"Topic4\", \"Topic4\", \"Topic4\", \"Topic4\", \"Topic4\", \"Topic4\", \"Topic4\", \"Topic4\", \"Topic4\", \"Topic4\", \"Topic4\", \"Topic4\", \"Topic4\", \"Topic4\", \"Topic4\", \"Topic4\", \"Topic4\", \"Topic4\", \"Topic4\", \"Topic4\", \"Topic4\", \"Topic4\", \"Topic4\", \"Topic4\", \"Topic4\", \"Topic4\", \"Topic4\", \"Topic4\", \"Topic4\", \"Topic4\", \"Topic4\", \"Topic4\", \"Topic4\", \"Topic4\", \"Topic4\", \"Topic4\", \"Topic4\", \"Topic4\", \"Topic4\", \"Topic4\", \"Topic4\", \"Topic4\", \"Topic4\", \"Topic4\", \"Topic4\", \"Topic4\", \"Topic4\", \"Topic4\", \"Topic4\", \"Topic4\", \"Topic5\", \"Topic5\", \"Topic5\", \"Topic5\", \"Topic5\", \"Topic5\", \"Topic5\", \"Topic5\", \"Topic5\", \"Topic5\", \"Topic5\", \"Topic5\", \"Topic5\", \"Topic5\", \"Topic5\", \"Topic5\", \"Topic5\", \"Topic5\", \"Topic5\", \"Topic5\", \"Topic5\", \"Topic5\", \"Topic5\", \"Topic5\", \"Topic5\", \"Topic5\", \"Topic5\", \"Topic5\", \"Topic5\", \"Topic5\", \"Topic5\", \"Topic5\", \"Topic5\", \"Topic5\", \"Topic5\", \"Topic5\", \"Topic5\", \"Topic5\", \"Topic5\", \"Topic5\", \"Topic5\", \"Topic5\", \"Topic5\", \"Topic5\", \"Topic5\", \"Topic5\", \"Topic5\", \"Topic5\", \"Topic5\", \"Topic5\", \"Topic5\", \"Topic5\", \"Topic5\", \"Topic5\", \"Topic5\", \"Topic5\", \"Topic5\", \"Topic5\", \"Topic5\", \"Topic5\", \"Topic5\", \"Topic5\", \"Topic6\", \"Topic6\", \"Topic6\", \"Topic6\", \"Topic6\", \"Topic6\", \"Topic6\", \"Topic6\", \"Topic6\", \"Topic6\", \"Topic6\", \"Topic6\", \"Topic6\", \"Topic6\", \"Topic6\", \"Topic6\", \"Topic6\", \"Topic6\", \"Topic6\", \"Topic6\", \"Topic6\", \"Topic6\", \"Topic6\", \"Topic6\", \"Topic6\", \"Topic6\", \"Topic6\", \"Topic6\", \"Topic6\", \"Topic6\", \"Topic6\", \"Topic6\", \"Topic6\", \"Topic6\", \"Topic6\", \"Topic6\", \"Topic6\", \"Topic6\", \"Topic6\", \"Topic6\", \"Topic6\", \"Topic6\", \"Topic6\", \"Topic6\", \"Topic6\", \"Topic6\", \"Topic6\", \"Topic6\", \"Topic6\", \"Topic6\", \"Topic6\", \"Topic6\", \"Topic6\", \"Topic6\", \"Topic6\", \"Topic6\", \"Topic6\", \"Topic6\", \"Topic7\", \"Topic7\", \"Topic7\", \"Topic7\", \"Topic7\", \"Topic7\", \"Topic7\", \"Topic7\", \"Topic7\", \"Topic7\", \"Topic7\", \"Topic7\", \"Topic7\", \"Topic7\", \"Topic7\", \"Topic7\", \"Topic7\", \"Topic7\", \"Topic7\", \"Topic7\", \"Topic7\", \"Topic7\", \"Topic7\", \"Topic7\", \"Topic7\", \"Topic7\", \"Topic7\", \"Topic7\", \"Topic7\", \"Topic7\", \"Topic7\", \"Topic7\", \"Topic7\", \"Topic7\", \"Topic7\", \"Topic7\", \"Topic7\", \"Topic7\", \"Topic7\", \"Topic7\", \"Topic7\", \"Topic7\", \"Topic7\", \"Topic7\", \"Topic7\", \"Topic7\", \"Topic7\", \"Topic7\", \"Topic7\", \"Topic7\", \"Topic7\", \"Topic7\", \"Topic7\", \"Topic7\"], \"logprob\": [30.0, 29.0, 28.0, 27.0, 26.0, 25.0, 24.0, 23.0, 22.0, 21.0, 20.0, 19.0, 18.0, 17.0, 16.0, 15.0, 14.0, 13.0, 12.0, 11.0, 10.0, 9.0, 8.0, 7.0, 6.0, 5.0, 4.0, 3.0, 2.0, 1.0, -5.0174, -5.2978, -5.6982, -5.2919, -5.6967, -5.2908, -5.6951, -5.6951, -5.6784, -5.6768, -5.6767, -5.6759, -5.6752, -5.6682, -5.668, -5.6674, -5.6672, -5.6672, -4.9703, -6.3174, -6.3174, -6.3174, -6.3174, -6.3174, -6.3174, -6.3174, -6.3174, -6.3174, -6.3174, -6.3174, -4.9742, -4.5697, -4.7588, -4.4048, -3.5829, -3.4772, -4.0772, -4.4522, -4.8938, -3.9103, -5.229, -4.1801, -3.9877, -4.1582, -4.8272, -4.3077, -4.2912, -4.5069, -5.2104, -5.205, -5.2086, -4.4264, -4.6317, -4.5555, -5.0984, -5.0581, -5.063, -4.6703, -5.1234, -5.4479, -5.4395, -5.4385, -5.4358, -5.4358, -5.4336, -6.0695, -6.0688, -6.0683, -6.068, -6.0679, -6.0678, -6.0674, -6.0674, -6.0672, -6.0671, -6.067, -6.0669, -6.0669, -6.0668, -6.0668, -6.0666, -6.0665, -6.0664, -6.0664, -6.0664, -6.0663, -6.0662, -6.0662, -6.066, -4.7203, -5.3536, -4.9694, -4.9667, -4.9674, -4.3412, -4.5467, -4.8566, -4.0422, -4.8622, -4.7929, -5.2614, -4.7951, -4.2996, -5.228, -4.6928, -5.2587, -5.2624, -5.3141, -4.1328, -5.1684, -5.2263, -5.0796, -4.4789, -4.4872, -4.4315, -4.4862, -4.429, -4.5882, -4.6433, -4.583, -4.7715, -5.0015, -5.0418, -5.129, -5.0761, -5.1313, -5.1189, -5.0989, -4.7668, -5.0341, -5.415, -4.5082, -5.4097, -5.4087, -5.4085, -5.4079, -5.4079, -5.4075, -5.4072, -5.4066, -5.4057, -4.0466, -6.0507, -6.05, -6.0497, -6.0496, -6.0487, -6.0481, -4.7154, -4.973, -6.0463, -6.028, -6.027, -6.0267, -6.0265, -6.0264, -6.0259, -6.0258, -4.9708, -4.0055, -5.3227, -5.3206, -4.3305, -3.7704, -5.3322, -4.8789, -5.3261, -5.325, -5.3295, -4.0288, -4.814, -4.2953, -4.1372, -4.4655, -4.6755, -4.3916, -4.5745, -4.6599, -4.5693, -4.7922, -4.9923, -4.9894, -5.0444, -4.8352, -4.806, -5.0563, -5.1158, -5.1178, -5.0137, -5.085, -3.6819, -5.4044, -5.3919, -5.3869, -6.0236, -6.0236, -6.0236, -6.0236, -6.0236, -6.0236, -6.0236, -6.0236, -6.0236, -6.0236, -6.0236, -6.0131, -6.0127, -6.0125, -6.0122, -6.0121, -6.0119, -6.0118, -6.0117, -6.0114, -6.0114, -6.0113, -6.0112, -6.0112, -6.0111, -6.011, -4.5635, -4.5372, -4.0666, -5.3132, -5.308, -4.0086, -4.4912, -4.2133, -4.0134, -4.1336, -4.2253, -4.1148, -4.439, -4.0763, -4.2214, -5.2025, -4.0717, -5.273, -4.219, -4.3547, -4.3769, -4.9808, -5.1253, -5.1718, -4.9447, -5.2405, -4.5691, -5.0787, -5.2196, -5.2677, -5.265, -5.1352, -5.7544, -5.7544, -5.7544, -5.7544, -5.7544, -5.7544, -5.7544, -5.7544, -5.7544, -5.7544, -5.7544, -5.7544, -5.7376, -5.7376, -5.7375, -5.7368, -5.7358, -5.7355, -5.7355, -5.7355, -5.7353, -5.7351, -5.735, -5.7348, -5.7348, -5.7347, -5.7344, -5.7344, -5.7344, -4.3355, -4.3352, -4.3343, -4.2432, -3.7061, -3.9388, -4.4223, -4.5843, -4.898, -4.1213, -4.8356, -4.1014, -3.9296, -4.8962, -4.7117, -4.6716, -4.7279, -4.8491, -4.4988, -4.5348, -4.9034, -4.7687, -5.0118, -4.9959, -5.082, -5.0628, -4.7215, -5.1426, -4.8533, -4.8702, -4.8685, -5.0422, -4.9783, -5.5986, -5.5981, -5.5979, -5.5976, -5.5976, -5.5975, -5.5974, -5.5972, -5.5968, -5.5966, -5.5959, -5.5956, -5.5955, -5.5951, -5.5951, -5.5943, -5.5941, -5.594, -5.5938, -5.5908, -4.2201, -4.8842, -5.4507, -5.4473, -5.446, -5.4669, -5.4651, -5.4592, -5.4372, -3.8922, -4.3748, -4.6308, -4.6372, -3.9448, -4.1214, -4.1638, -4.137, -4.1088, -4.4233, -4.3982, -4.4359, -4.5607, -4.6051, -4.7669, -4.7598, -4.9261, -4.9802, -4.6355, -4.6232, -4.9454, -5.0397, -4.9659, -5.0523, -4.7319, -5.111, -5.1627, -5.008, -5.5147, -5.5144, -5.5143, -5.5127, -5.5126, -5.5126, -5.5117, -5.5116, -5.5115, -5.5115, -5.5114, -5.5113, -5.5113, -5.5112, -5.511, -5.5106, -5.3681, -5.3722, -5.4065, -5.3511, -5.3497, -5.3755, -5.3698, -5.2929, -3.9717, -5.2128, -5.2342, -5.2146, -5.2586, -5.0791, -4.2563, -3.8799, -4.0264, -4.2796, -4.3408, -4.2703, -4.3534, -4.478, -4.6843, -4.8976, -4.7928, -4.5104, -4.5793, -4.5022, -4.6004, -4.8837, -4.9275, -4.649, -5.0033, -5.0556, -4.9253, -5.188, -5.1174, -5.2761], \"loglift\": [30.0, 29.0, 28.0, 27.0, 26.0, 25.0, 24.0, 23.0, 22.0, 21.0, 20.0, 19.0, 18.0, 17.0, 16.0, 15.0, 14.0, 13.0, 12.0, 11.0, 10.0, 9.0, 8.0, 7.0, 6.0, 5.0, 4.0, 3.0, 2.0, 1.0, 0.9895, 0.9716, 0.9594, 0.9567, 0.9559, 0.954, 0.9519, 0.9518, 0.9123, 0.9087, 0.9083, 0.9066, 0.9049, 0.889, 0.8885, 0.8872, 0.8869, 0.8868, 0.8017, 0.7987, 0.7987, 0.7987, 0.7987, 0.7987, 0.7987, 0.7987, 0.7987, 0.7987, 0.7987, 0.7987, 0.768, 0.7386, 0.7255, 0.703, 0.5052, 0.4274, 0.4415, 0.4747, 0.5295, 0.3334, 0.5659, 0.1854, 0.1083, 0.1575, 0.4152, 0.1045, 0.0599, 0.1471, 0.5406, 0.5248, 0.5263, -0.1765, -0.0244, -0.1379, 0.3781, 0.3278, 0.3036, -0.3526, 0.3457, 1.2573, 1.2349, 1.2324, 1.2253, 1.2253, 1.2196, 1.0876, 1.0863, 1.0852, 1.0846, 1.0843, 1.084, 1.0832, 1.0831, 1.0827, 1.0827, 1.0824, 1.0822, 1.0822, 1.082, 1.0819, 1.0814, 1.0812, 1.0812, 1.0811, 1.0811, 1.0808, 1.0807, 1.0806, 1.0803, 0.9408, 0.9479, 0.819, 0.8154, 0.7698, 0.4849, 0.5174, 0.6294, 0.2755, 0.5872, 0.5224, 0.7135, 0.4547, 0.0659, 0.5956, 0.2747, 0.5983, 0.5705, 0.5894, -0.2282, 0.4759, 0.5078, 0.3911, -0.0613, -0.075, -0.1878, -0.2363, -0.333, -0.2724, -0.2922, -0.4949, -0.1641, 0.1524, 0.2043, 0.338, 0.1688, 0.3232, 0.2139, -0.5803, 1.3497, 1.2902, 1.227, 1.213, 1.213, 1.2105, 1.2096, 1.2085, 1.2083, 1.2074, 1.2064, 1.205, 1.2026, 1.1232, 1.0959, 1.0945, 1.0937, 1.0935, 1.0915, 1.0903, 1.0901, 1.0882, 1.0865, 1.0494, 1.0472, 1.0466, 1.0459, 1.0458, 1.0448, 1.0447, 1.0363, 0.9683, 0.9599, 0.898, 0.637, 0.4795, 0.8516, 0.7157, 0.8428, 0.8413, 0.815, 0.2889, 0.5281, 0.0558, -0.0412, -0.048, 0.1506, -0.487, -0.2587, -0.2477, -0.4812, -0.1382, 0.191, 0.0901, 0.2054, -0.4697, -0.5623, 0.1861, 0.3513, 0.3367, -0.4063, -0.5664, 1.6468, 1.4043, 1.3672, 1.3531, 1.21, 1.21, 1.21, 1.21, 1.21, 1.21, 1.21, 1.21, 1.21, 1.21, 1.21, 1.1861, 1.1851, 1.1847, 1.1841, 1.1838, 1.1834, 1.1831, 1.183, 1.1823, 1.1822, 1.1821, 1.1819, 1.1819, 1.1815, 1.1815, 0.7694, 0.7076, 0.5408, 0.9231, 0.9157, 0.409, 0.5882, 0.4407, 0.2365, 0.2786, 0.2934, 0.2364, 0.3871, 0.0117, 0.0223, 0.6469, -0.1671, 0.6851, -0.123, -0.0389, -0.0592, 0.3622, 0.4693, 0.4879, 0.2385, 0.5105, -0.2036, 0.0291, 0.2647, 0.5272, -0.2008, 1.8937, 1.6431, 1.6431, 1.6431, 1.6431, 1.6431, 1.6431, 1.6431, 1.6431, 1.6431, 1.6431, 1.6431, 1.6431, 1.5956, 1.5956, 1.5953, 1.5932, 1.5905, 1.5896, 1.5896, 1.5896, 1.589, 1.5885, 1.5882, 1.5877, 1.5875, 1.5874, 1.5866, 1.5864, 1.5864, 1.2312, 1.2306, 1.2292, 0.7306, 0.3899, 0.377, 0.6572, 0.7241, 0.9256, 0.2442, 0.8219, 0.1423, -0.025, 0.8379, 0.6313, 0.4823, 0.5219, 0.5742, -0.1811, -0.1837, 0.0642, -0.25, 0.1715, 0.0682, 0.2334, 0.1833, -0.6334, 0.2433, -0.4357, -0.458, -0.6186, -0.4348, 2.1004, 1.8333, 1.8317, 1.8312, 1.8303, 1.8301, 1.8298, 1.8295, 1.8288, 1.8278, 1.8271, 1.8249, 1.824, 1.8238, 1.8224, 1.8222, 1.82, 1.8195, 1.8191, 1.8182, 1.8092, 1.5617, 1.5229, 1.3644, 1.2618, 1.2599, 1.1985, 1.1966, 1.174, 1.1525, 1.0347, 0.958, 0.7551, 0.7294, 0.1433, 0.1944, 0.2016, -0.041, -0.2042, -0.0057, -0.047, -0.0237, 0.0467, 0.0489, 0.2006, 0.0663, 0.4169, 0.4905, -0.3178, -0.3795, 0.37, 0.5073, 0.2765, 0.4148, -0.482, 0.5333, 0.6663, -0.4893, 1.9917, 1.9908, 1.9904, 1.9846, 1.9844, 1.9841, 1.9811, 1.9806, 1.9802, 1.9801, 1.98, 1.9797, 1.9794, 1.979, 1.9785, 1.977, 1.447, 1.2859, 1.2708, 1.2643, 1.2624, 1.2367, 1.231, 0.9897, 0.9552, 0.9411, 0.9196, 0.9099, 0.8026, 0.7518, 0.3977, 0.2161, -0.1218, 0.0381, 0.0768, -0.0266, 0.0588, 0.1294, 0.2833, 0.5731, 0.3904, -0.1946, -0.2138, -0.4141, -0.2493, 0.3587, 0.4145, -0.3991, 0.4733, 0.5391, -0.4066, 0.5332, -0.2913, -0.212]}, \"token.table\": {\"Topic\": [1, 2, 3, 4, 5, 6, 7, 1, 2, 3, 4, 6, 1, 1, 2, 3, 4, 2, 2, 6, 1, 3, 4, 3, 2, 3, 1, 4, 1, 4, 2, 2, 1, 2, 3, 4, 1, 3, 4, 4, 4, 3, 1, 1, 2, 3, 4, 5, 6, 7, 1, 2, 3, 4, 3, 1, 3, 3, 1, 2, 3, 4, 2, 1, 2, 3, 4, 5, 6, 2, 1, 2, 3, 4, 5, 4, 3, 1, 2, 3, 4, 5, 3, 1, 1, 2, 3, 4, 5, 6, 1, 4, 2, 2, 3, 4, 1, 2, 3, 4, 5, 1, 2, 2, 4, 2, 2, 1, 4, 1, 3, 1, 5, 2, 3, 1, 2, 3, 4, 2, 1, 2, 3, 4, 5, 6, 7, 1, 1, 2, 3, 4, 5, 3, 1, 2, 1, 2, 3, 4, 5, 6, 1, 2, 3, 4, 5, 1, 2, 5, 1, 2, 3, 4, 6, 1, 2, 3, 4, 5, 6, 7, 1, 2, 4, 1, 2, 3, 4, 5, 3, 4, 4, 3, 5, 2, 3, 1, 3, 4, 4, 1, 1, 1, 2, 3, 4, 5, 1, 2, 3, 4, 5, 6, 7, 4, 4, 2, 1, 4, 3, 5, 1, 4, 2, 3, 1, 2, 3, 4, 1, 2, 3, 4, 5, 6, 7, 1, 2, 3, 4, 5, 6, 5, 3, 2, 1, 2, 3, 4, 5, 4, 1, 1, 2, 3, 4, 5, 6, 7, 2, 5, 2, 2, 1, 2, 3, 4, 6, 1, 2, 4, 3, 1, 3, 4, 5, 1, 2, 3, 4, 5, 6, 1, 2, 3, 4, 5, 1, 2, 4, 2, 4, 2, 5, 1, 3, 4, 5, 2, 3, 4, 2, 1, 3, 4, 1, 2, 3, 4, 1, 2, 3, 4, 5, 6, 7, 2, 3, 1, 2, 3, 4, 5, 6, 7, 2, 1, 2, 4, 1, 4, 5, 3, 3, 2, 3, 2, 1, 2, 3, 1, 1, 4, 2, 2, 1, 2, 3, 4, 5, 1, 2, 3, 4, 5, 6, 1, 2, 3, 4, 5, 3, 4, 6, 3, 3, 1, 2, 3, 4, 1, 2, 3, 4, 6, 1, 2, 1, 2, 5, 4, 1, 4, 2, 1, 3, 3, 4, 2, 3, 3, 1, 1, 2, 3, 4, 5, 6, 7, 1, 3, 1, 2, 3, 4, 5, 6, 7, 3, 2, 1, 1, 1, 3, 2, 4, 1, 2, 3, 4, 6, 4, 2, 3, 2, 1, 3, 4, 5, 1, 2, 3, 4, 5, 6, 7, 1, 5, 3, 3, 1, 2, 3, 4, 5, 6, 2, 1, 1, 2, 3, 4, 5, 6, 7, 3, 3, 1, 4, 1, 4, 1, 2, 4, 4, 1, 4, 4, 2, 3, 1, 1, 2, 6, 1, 1, 2, 3, 3, 3, 1, 2, 1, 4, 1, 1, 1, 1, 2, 3, 4, 5, 1, 3, 4], \"Freq\": [0.4480496464378473, 0.13786142967318377, 0.10339607225488784, 0.13786142967318377, 0.06893071483659188, 0.03446535741829594, 0.03446535741829594, 0.14376500179278354, 0.2875300035855671, 0.14376500179278354, 0.4312950053783506, 0.14376500179278354, 0.8552745976996057, 0.16441610159106704, 0.3288322031821341, 0.3288322031821341, 0.16441610159106704, 0.3787347236188504, 0.4209439121467476, 0.4209439121467476, 0.1867978727210719, 0.3735957454421438, 0.1867978727210719, 0.8787245589666727, 0.886770562336573, 0.37165088915036704, 0.537335283723942, 0.268667641861971, 0.6691566751164282, 0.16728916877910704, 0.8846107254806639, 0.8826997317327645, 0.4298409115321137, 0.21492045576605684, 0.5184181095097791, 0.925758180147416, 0.2409772606657585, 0.2409772606657585, 0.2409772606657585, 0.92755738134792, 0.9240411805761055, 0.5052889086039821, 0.8552688047806074, 0.4790006741667209, 0.09580013483334418, 0.09580013483334418, 0.09580013483334418, 0.09580013483334418, 0.19160026966668836, 0.09580013483334418, 0.4887288481241948, 0.32675935051050475, 0.32675935051050475, 0.9232181559359217, 0.8171314008065307, 0.5004044934556945, 0.8697282727730086, 0.6295475950922075, 0.19630868963463047, 0.39261737926926094, 0.19630868963463047, 0.19630868963463047, 0.5499220011041929, 0.24340201132350525, 0.14604120679410315, 0.2920824135882063, 0.1947216090588042, 0.04868040226470105, 0.04868040226470105, 0.8815788827837622, 0.10040208352709644, 0.10040208352709644, 0.5020104176354823, 0.10040208352709644, 0.20080416705419288, 0.9619893976178354, 0.8817687528286177, 0.21977806047727466, 0.329667090715912, 0.10988903023863733, 0.10988903023863733, 0.10988903023863733, 0.8172816537386051, 0.551525502992852, 0.09977209917118335, 0.1995441983423667, 0.29931629751355004, 0.09977209917118335, 0.09977209917118335, 0.09977209917118335, 0.43683667717679575, 0.21841833858839788, 0.8827996549639563, 0.4534815491707259, 0.22674077458536296, 0.9619868360606808, 0.22317322285852786, 0.11158661142926393, 0.22317322285852786, 0.33475983428779177, 0.22317322285852786, 0.5087613783606761, 0.25438068918033807, 0.5383717644436219, 0.9232836696977195, 0.8842745338549485, 0.882181375767705, 0.45639947394054703, 0.22819973697027351, 0.3172909862020426, 0.3172909862020426, 0.56114731575254, 0.140286828938135, 0.33670471205496083, 0.33670471205496083, 0.23658288775253145, 0.23658288775253145, 0.23658288775253145, 0.23658288775253145, 0.8820401901404212, 0.31196618255023273, 0.15598309127511636, 0.15598309127511636, 0.15598309127511636, 0.10398872751674425, 0.051994363758372124, 0.051994363758372124, 0.7336024762096973, 0.13231032404024748, 0.26462064808049496, 0.26462064808049496, 0.13231032404024748, 0.13231032404024748, 0.5203851198693332, 0.5349821505467016, 0.5426450034213236, 0.44583509676484495, 0.12738145621852712, 0.12738145621852712, 0.25476291243705423, 0.06369072810926356, 0.06369072810926356, 0.24758510986978718, 0.12379255493489359, 0.24758510986978718, 0.24758510986978718, 0.12379255493489359, 0.236143828913738, 0.236143828913738, 0.236143828913738, 0.4461258137134583, 0.14870860457115276, 0.14870860457115276, 0.14870860457115276, 0.14870860457115276, 0.20837880064846043, 0.2604735008105755, 0.2604735008105755, 0.1562841004863453, 0.05209470016211511, 0.05209470016211511, 0.05209470016211511, 0.3295197232614775, 0.3295197232614775, 0.16475986163073875, 0.16237301198765605, 0.3247460239753121, 0.3247460239753121, 0.16237301198765605, 0.16237301198765605, 0.876171628976429, 0.9267099620432848, 0.9619835020348337, 0.5643363288940255, 0.28216816444701276, 0.3317185674354028, 0.3317185674354028, 0.3237009723999279, 0.3237009723999279, 0.9252210686069339, 0.628944629874784, 0.8552609494183084, 0.8552845626823594, 0.19892831275179784, 0.19892831275179784, 0.19892831275179784, 0.19892831275179784, 0.19892831275179784, 0.3338767637842606, 0.12520378641909774, 0.1669383818921303, 0.1669383818921303, 0.12520378641909774, 0.04173459547303258, 0.04173459547303258, 0.9619885767354962, 0.9241704044944438, 0.5426682163675798, 0.5057491221631899, 0.9238527064222128, 0.3486236010673119, 0.3486236010673119, 0.35041558363601444, 0.35041558363601444, 0.3308387599477282, 0.3308387599477282, 0.2901897113359523, 0.14509485566797614, 0.2901897113359523, 0.14509485566797614, 0.45546916982800184, 0.12421886449854595, 0.12421886449854595, 0.16562515266472794, 0.041406288166181984, 0.041406288166181984, 0.041406288166181984, 0.454788388567226, 0.15159612952240864, 0.15159612952240864, 0.15159612952240864, 0.15159612952240864, 0.15159612952240864, 0.7838956392315575, 0.8194425762068924, 0.8852037291154048, 0.1316557360309956, 0.2633114720619912, 0.1316557360309956, 0.39496720809298674, 0.1316557360309956, 0.9619929984969275, 0.5350657967472301, 0.27839477945968727, 0.13919738972984363, 0.13919738972984363, 0.27839477945968727, 0.06959869486492182, 0.06959869486492182, 0.06959869486492182, 0.23484627386871634, 0.23484627386871634, 0.8871030559717392, 0.5671219758667282, 0.3940080220376483, 0.13133600734588277, 0.26267201469176554, 0.13133600734588277, 0.13133600734588277, 0.855288092585354, 0.5480090421211955, 0.598523966551707, 0.51646417649359, 0.18164334796374826, 0.3632866959274965, 0.18164334796374826, 0.3632866959274965, 0.14127826573604194, 0.28255653147208387, 0.14127826573604194, 0.14127826573604194, 0.14127826573604194, 0.14127826573604194, 0.2636471996135609, 0.2636471996135609, 0.13182359980678046, 0.13182359980678046, 0.13182359980678046, 0.39871297642887793, 0.19935648821443896, 0.19935648821443896, 0.8837916194282162, 0.9243647534857795, 0.27323792377602063, 0.27323792377602063, 0.18108205352873136, 0.3621641070574627, 0.18108205352873136, 0.3621641070574627, 0.24283858185206503, 0.24283858185206503, 0.24283858185206503, 0.882983197745007, 0.5028823164587736, 0.8799305926415301, 0.928061709200401, 0.33197716577835945, 0.16598858288917973, 0.16598858288917973, 0.16598858288917973, 0.364592764503114, 0.0729185529006228, 0.1458371058012456, 0.2916742116024912, 0.0729185529006228, 0.0729185529006228, 0.0729185529006228, 0.39926047572338375, 0.19963023786169187, 0.3435539799661686, 0.1717769899830843, 0.1717769899830843, 0.2290359866441124, 0.0572589966610281, 0.0572589966610281, 0.0572589966610281, 0.5277556259467298, 0.5167074861181535, 0.8836063057788053, 0.5429853303612912, 0.47212146755025897, 0.15737382251675297, 0.15737382251675297, 0.5167047901501198, 0.8789239708227705, 0.5409923861956365, 0.5189163165189822, 0.8846546836158856, 0.12214355861177262, 0.12214355861177262, 0.6107177930588631, 0.8552837628270036, 0.5108548824587884, 0.9619900463213562, 0.8819486585956, 0.8840071373965364, 0.5739848114437761, 0.11479696228875522, 0.11479696228875522, 0.22959392457751043, 0.11479696228875522, 0.08661319885966867, 0.3464527954386747, 0.17322639771933734, 0.259839596579006, 0.08661319885966867, 0.08661319885966867, 0.1675620739361219, 0.3351241478722438, 0.1675620739361219, 0.1675620739361219, 0.1675620739361219, 0.46127168107739336, 0.23063584053869668, 0.823918095803662, 0.8228163309143206, 0.5956612205853253, 0.16154137238320873, 0.32308274476641746, 0.16154137238320873, 0.16154137238320873, 0.17810429933830038, 0.17810429933830038, 0.17810429933830038, 0.17810429933830038, 0.17810429933830038, 0.43081445477332964, 0.43081445477332964, 0.2147413632696068, 0.2147413632696068, 0.2147413632696068, 0.9263311297988822, 0.35482143183700077, 0.35482143183700077, 0.8853046673727527, 0.42766231868290067, 0.21383115934145033, 0.5181634524271008, 0.5871710134551887, 0.4505983353570097, 0.22529916767850486, 0.818626099588695, 0.5031207714264969, 0.3870264310087047, 0.14513491162826425, 0.09675660775217618, 0.19351321550435235, 0.09675660775217618, 0.04837830387608809, 0.04837830387608809, 0.5380663598534453, 0.874565494787253, 0.23026534535541057, 0.17269900901655794, 0.17269900901655794, 0.23026534535541057, 0.05756633633885264, 0.05756633633885264, 0.05756633633885264, 0.5147742938730606, 0.8839848882038901, 0.5407107854914734, 0.48760858421377207, 0.8552798829018039, 0.519788574213006, 0.8825948705007731, 0.5449774800776537, 0.16501941217934743, 0.33003882435869486, 0.16501941217934743, 0.16501941217934743, 0.16501941217934743, 0.9619952971271137, 0.8825911484343352, 0.5188486204899397, 0.8893195629371563, 0.18147882867776868, 0.36295765735553737, 0.18147882867776868, 0.36295765735553737, 0.32319849090581937, 0.16159924545290968, 0.2154656606038796, 0.2154656606038796, 0.0538664151509699, 0.0538664151509699, 0.0538664151509699, 0.6691382348962635, 0.22304607829875447, 0.5323395416254103, 0.8202101125053393, 0.14523820914788363, 0.14523820914788363, 0.14523820914788363, 0.29047641829576726, 0.14523820914788363, 0.14523820914788363, 0.8910514583264301, 0.8552737127970812, 0.3278667484380279, 0.2185778322920186, 0.1092889161460093, 0.1092889161460093, 0.1092889161460093, 0.05464445807300465, 0.05464445807300465, 0.635965961744649, 0.8187343280605073, 0.715715273580609, 0.9619819072604046, 0.5016050986152846, 0.9619906996382211, 0.7184719539358061, 0.8864101930580172, 0.9238219381374166, 0.9619964653437135, 0.8463076582950364, 0.9253503893119608, 0.929388220671571, 0.8878813523316385, 0.5221884016229889, 0.8552677538996588, 0.2252289303395092, 0.2252289303395092, 0.2252289303395092, 0.8552658398236327, 0.23704991894165714, 0.23704991894165714, 0.23704991894165714, 0.5174494310915161, 0.7749413823315238, 0.6495348864239429, 0.21651162880798097, 0.48750989606812384, 0.9619931470841253, 0.48781817651604703, 0.4890978679482838, 0.8552719840833559, 0.24042789497037362, 0.24042789497037362, 0.12021394748518681, 0.12021394748518681, 0.12021394748518681, 0.326730182123756, 0.326730182123756, 0.8590235013071198], \"Term\": [\"\", \"\", \"\", \"\", \"\", \"\", \"\", \"  \", \"  \", \"  \", \"  \", \"  \", \"%\", \"(\", \"(\", \"(\", \"(\", \"+\", \"/\", \"/\", \"1\", \"1\", \"1\", \"1.15\", \"128\", \"15\", \"199\", \"199\", \"2\", \"2\", \"255\", \"29\", \"3\", \"3\", \"359\", \"39\", \"4\", \"4\", \"4\", \"40\", \"49\", \"5\", \"7\", \":\", \":\", \":\", \":\", \":\", \":\", \":\", \"::\", \"G\", \"G\", \"HALL\", \"Net\", \"VAT\", \"net\", \"\\u0e01\\u0e25\\u0e31\\u0e1a\\u0e21\\u0e32\", \"\\u0e01\\u0e30\\u0e1b\\u0e34\", \"\\u0e01\\u0e30\\u0e1b\\u0e34\", \"\\u0e01\\u0e30\\u0e1b\\u0e34\", \"\\u0e01\\u0e30\\u0e1b\\u0e34\", \"\\u0e01\\u0e32\", \"\\u0e01\\u0e34\\u0e19\", \"\\u0e01\\u0e34\\u0e19\", \"\\u0e01\\u0e34\\u0e19\", \"\\u0e01\\u0e34\\u0e19\", \"\\u0e01\\u0e34\\u0e19\", \"\\u0e01\\u0e34\\u0e19\", \"\\u0e01\\u0e34\\u0e19\\u0e17\\u0e35\\u0e48\", \"\\u0e01\\u0e38\\u0e49\\u0e07\", \"\\u0e01\\u0e38\\u0e49\\u0e07\", \"\\u0e01\\u0e38\\u0e49\\u0e07\", \"\\u0e01\\u0e38\\u0e49\\u0e07\", \"\\u0e01\\u0e38\\u0e49\\u0e07\", \"\\u0e02\\u0e19\\u0e21\", \"\\u0e02\\u0e2d\\u0e07\\u0e04\\u0e32\\u0e27\", \"\\u0e02\\u0e2d\\u0e07\\u0e2b\\u0e27\\u0e32\\u0e19\", \"\\u0e02\\u0e2d\\u0e07\\u0e2b\\u0e27\\u0e32\\u0e19\", \"\\u0e02\\u0e2d\\u0e07\\u0e2b\\u0e27\\u0e32\\u0e19\", \"\\u0e02\\u0e2d\\u0e07\\u0e2b\\u0e27\\u0e32\\u0e19\", \"\\u0e02\\u0e2d\\u0e07\\u0e2b\\u0e27\\u0e32\\u0e19\", \"\\u0e02\\u0e48\\u0e32\\u0e27\", \"\\u0e02\\u0e49\\u0e32\\u0e27\", \"\\u0e04\\u0e19\", \"\\u0e04\\u0e19\", \"\\u0e04\\u0e19\", \"\\u0e04\\u0e19\", \"\\u0e04\\u0e19\", \"\\u0e04\\u0e19\", \"\\u0e04\\u0e19\\u0e25\\u0e30\", \"\\u0e04\\u0e19\\u0e25\\u0e30\", \"\\u0e04\\u0e23\\u0e35\\u0e21\", \"\\u0e04\\u0e34\\u0e27\", \"\\u0e04\\u0e34\\u0e27\", \"\\u0e04\\u0e38\\u0e13\\u0e20\\u0e32\\u0e1e\\u0e14\\u0e35\", \"\\u0e04\\u0e38\\u0e49\\u0e21\", \"\\u0e04\\u0e38\\u0e49\\u0e21\", \"\\u0e04\\u0e38\\u0e49\\u0e21\", \"\\u0e04\\u0e38\\u0e49\\u0e21\", \"\\u0e04\\u0e38\\u0e49\\u0e21\", \"\\u0e04\\u0e38\\u0e49\\u0e21\\u0e04\\u0e48\\u0e32\", \"\\u0e04\\u0e38\\u0e49\\u0e21\\u0e04\\u0e48\\u0e32\", \"\\u0e04\\u0e48\\u0e32\", \"\\u0e04\\u0e48\\u0e32\\u0e22\\u0e21\\u0e27\\u0e22\", \"\\u0e08\\u0e1a\", \"\\u0e08\\u0e38\\u0e01\", \"\\u0e08\\u0e48\\u0e32\\u0e22\", \"\\u0e08\\u0e48\\u0e32\\u0e22\", \"\\u0e0a\\u0e21.\", \"\\u0e0a\\u0e21.\", \"\\u0e0a\\u0e2d\\u0e1a\", \"\\u0e0a\\u0e2d\\u0e1a\", \"\\u0e0a\\u0e31\\u0e48\\u0e27\\u0e42\\u0e21\\u0e07\", \"\\u0e0a\\u0e31\\u0e48\\u0e27\\u0e42\\u0e21\\u0e07\", \"\\u0e0a\\u0e31\\u0e49\\u0e19\", \"\\u0e0a\\u0e31\\u0e49\\u0e19\", \"\\u0e0a\\u0e31\\u0e49\\u0e19\", \"\\u0e0a\\u0e31\\u0e49\\u0e19\", \"\\u0e0a\\u0e32\\u0e15\", \"\\u0e0a\\u0e32\\u0e1a\\u0e39\", \"\\u0e0a\\u0e32\\u0e1a\\u0e39\", \"\\u0e0a\\u0e32\\u0e1a\\u0e39\", \"\\u0e0a\\u0e32\\u0e1a\\u0e39\", \"\\u0e0a\\u0e32\\u0e1a\\u0e39\", \"\\u0e0a\\u0e32\\u0e1a\\u0e39\", \"\\u0e0a\\u0e32\\u0e1a\\u0e39\", \"\\u0e0a\\u0e32\\u0e40\\u0e02\\u0e35\\u0e22\\u0e27\", \"\\u0e0a\\u0e34\", \"\\u0e0a\\u0e34\", \"\\u0e0a\\u0e34\", \"\\u0e0a\\u0e34\", \"\\u0e0a\\u0e34\", \"\\u0e0a\\u0e37\\u0e48\\u0e19\", \"\\u0e0a\\u0e37\\u0e48\\u0e2d\", \"\\u0e0a\\u0e39\", \"\\u0e0b\\u0e38\\u0e1b\", \"\\u0e0b\\u0e38\\u0e1b\", \"\\u0e0b\\u0e38\\u0e1b\", \"\\u0e0b\\u0e38\\u0e1b\", \"\\u0e0b\\u0e38\\u0e1b\", \"\\u0e0b\\u0e38\\u0e1b\", \"\\u0e0b\\u0e39\\u0e0a\\u0e34\", \"\\u0e0b\\u0e39\\u0e0a\\u0e34\", \"\\u0e0b\\u0e39\\u0e0a\\u0e34\", \"\\u0e0b\\u0e39\\u0e0a\\u0e34\", \"\\u0e0b\\u0e39\\u0e0a\\u0e34\", \"\\u0e0d\\u0e35\\u0e48\\u0e1b\\u0e38\\u0e48\\u0e19\", \"\\u0e0d\\u0e35\\u0e48\\u0e1b\\u0e38\\u0e48\\u0e19\", \"\\u0e0d\\u0e35\\u0e48\\u0e1b\\u0e38\\u0e48\\u0e19\", \"\\u0e14\\u0e33\", \"\\u0e14\\u0e33\", \"\\u0e14\\u0e33\", \"\\u0e14\\u0e33\", \"\\u0e14\\u0e33\", \"\\u0e14\\u0e35\", \"\\u0e14\\u0e35\", \"\\u0e14\\u0e35\", \"\\u0e14\\u0e35\", \"\\u0e14\\u0e35\", \"\\u0e14\\u0e35\", \"\\u0e14\\u0e35\", \"\\u0e14\\u0e35\\u0e21\\u0e32\\u0e01\", \"\\u0e14\\u0e35\\u0e21\\u0e32\\u0e01\", \"\\u0e14\\u0e35\\u0e21\\u0e32\\u0e01\", \"\\u0e14\\u0e39\", \"\\u0e14\\u0e39\", \"\\u0e14\\u0e39\", \"\\u0e14\\u0e39\", \"\\u0e14\\u0e39\", \"\\u0e15\\u0e23\\u0e07\\u0e19\\u0e31\\u0e49\\u0e19\", \"\\u0e15\\u0e2d\\u0e19\\u0e41\\u0e23\\u0e01\", \"\\u0e15\\u0e31\\u0e14\\u0e2a\\u0e34\\u0e19\\u0e43\\u0e08\", \"\\u0e15\\u0e31\\u0e27\", \"\\u0e15\\u0e31\\u0e27\", \"\\u0e15\\u0e31\\u0e49\\u0e07\\u0e2d\\u0e22\\u0e39\\u0e48\", \"\\u0e15\\u0e31\\u0e49\\u0e07\\u0e2d\\u0e22\\u0e39\\u0e48\", \"\\u0e15\\u0e34\\u0e14\", \"\\u0e15\\u0e34\\u0e14\", \"\\u0e15\\u0e34\\u0e14\\u0e01\\u0e31\\u0e1a\", \"\\u0e15\\u0e48\\u0e32\\u0e07 \\u0e46\", \"\\u0e16\\u0e49\\u0e27\\u0e22\", \"\\u0e17\\u0e14\\u0e41\\u0e17\\u0e19\", \"\\u0e17\\u0e2d\\u0e14\", \"\\u0e17\\u0e2d\\u0e14\", \"\\u0e17\\u0e2d\\u0e14\", \"\\u0e17\\u0e2d\\u0e14\", \"\\u0e17\\u0e2d\\u0e14\", \"\\u0e17\\u0e32\\u0e19\", \"\\u0e17\\u0e32\\u0e19\", \"\\u0e17\\u0e32\\u0e19\", \"\\u0e17\\u0e32\\u0e19\", \"\\u0e17\\u0e32\\u0e19\", \"\\u0e17\\u0e32\\u0e19\", \"\\u0e17\\u0e32\\u0e19\", \"\\u0e17\\u0e35\\u0e48\\u0e08\\u0e30\", \"\\u0e17\\u0e35\\u0e48\\u0e44\\u0e2b\\u0e19\\u0e44\\u0e14\\u0e49\", \"\\u0e17\\u0e48\\u0e32\\u0e19\", \"\\u0e19\", \"\\u0e19\\u0e21\", \"\\u0e19\\u0e30\\u0e04\\u0e30\", \"\\u0e19\\u0e30\\u0e04\\u0e30\", \"\\u0e19\\u0e31\\u0e48\\u0e07\", \"\\u0e19\\u0e31\\u0e48\\u0e07\", \"\\u0e19\\u0e32\\u0e17\\u0e35\", \"\\u0e19\\u0e32\\u0e17\\u0e35\", \"\\u0e19\\u0e38\\u0e48\\u0e21\", \"\\u0e19\\u0e38\\u0e48\\u0e21\", \"\\u0e19\\u0e38\\u0e48\\u0e21\", \"\\u0e19\\u0e38\\u0e48\\u0e21\", \"\\u0e19\\u0e49\\u0e33\", \"\\u0e19\\u0e49\\u0e33\", \"\\u0e19\\u0e49\\u0e33\", \"\\u0e19\\u0e49\\u0e33\", \"\\u0e19\\u0e49\\u0e33\", \"\\u0e19\\u0e49\\u0e33\", \"\\u0e19\\u0e49\\u0e33\", \"\\u0e19\\u0e49\\u0e33\\u0e08\\u0e34\\u0e49\\u0e21\", \"\\u0e19\\u0e49\\u0e33\\u0e08\\u0e34\\u0e49\\u0e21\", \"\\u0e19\\u0e49\\u0e33\\u0e08\\u0e34\\u0e49\\u0e21\", \"\\u0e19\\u0e49\\u0e33\\u0e08\\u0e34\\u0e49\\u0e21\", \"\\u0e19\\u0e49\\u0e33\\u0e08\\u0e34\\u0e49\\u0e21\", \"\\u0e19\\u0e49\\u0e33\\u0e08\\u0e34\\u0e49\\u0e21\", \"\\u0e19\\u0e4d\\u0e49\\u0e32\", \"\\u0e1a\\u0e14\\u0e35\", \"\\u0e1a\\u0e23\\u0e32\", \"\\u0e1a\\u0e23\\u0e34\\u0e01\\u0e32\\u0e23\", \"\\u0e1a\\u0e23\\u0e34\\u0e01\\u0e32\\u0e23\", \"\\u0e1a\\u0e23\\u0e34\\u0e01\\u0e32\\u0e23\", \"\\u0e1a\\u0e23\\u0e34\\u0e01\\u0e32\\u0e23\", \"\\u0e1a\\u0e23\\u0e34\\u0e01\\u0e32\\u0e23\", \"\\u0e1a\\u0e31\\u0e15\\u0e23\\u0e40\\u0e04\\u0e23\\u0e14\\u0e34\\u0e15\", \"\\u0e1a\\u0e32\\u0e07\\u0e2a\\u0e48\\u0e27\\u0e19\", \"\\u0e1a\\u0e32\\u0e17\", \"\\u0e1a\\u0e32\\u0e17\", \"\\u0e1a\\u0e32\\u0e17\", \"\\u0e1a\\u0e32\\u0e17\", \"\\u0e1a\\u0e32\\u0e17\", \"\\u0e1a\\u0e32\\u0e17\", \"\\u0e1a\\u0e32\\u0e17\", \"\\u0e1a\\u0e38\", \"\\u0e1a\\u0e38\", \"\\u0e1a\\u0e38\\u0e1e\", \"\\u0e1a\\u0e38\\u0e1f\\u0e40\\u0e1f\\u0e15\\u0e4c\", \"\\u0e1a\\u0e38\\u0e1f\\u0e40\\u0e1f\\u0e48\\u0e15\\u0e4c\", \"\\u0e1a\\u0e38\\u0e1f\\u0e40\\u0e1f\\u0e48\\u0e15\\u0e4c\", \"\\u0e1a\\u0e38\\u0e1f\\u0e40\\u0e1f\\u0e48\\u0e15\\u0e4c\", \"\\u0e1a\\u0e38\\u0e1f\\u0e40\\u0e1f\\u0e48\\u0e15\\u0e4c\", \"\\u0e1a\\u0e38\\u0e1f\\u0e40\\u0e1f\\u0e48\\u0e15\\u0e4c\", \"\\u0e1b\\u0e23\\u0e01\\u0e15\\u0e34\", \"\\u0e1b\\u0e23\\u0e30\\u0e15\\u0e39\", \"\\u0e1b\\u0e23\\u0e30\\u0e17\\u0e31\\u0e1a\\u0e43\\u0e08\", \"\\u0e1b\\u0e2d\\u0e01\\u0e40\\u0e1b\\u0e25\\u0e37\\u0e2d\\u0e01\", \"\\u0e1b\\u0e38\\u0e23\\u0e30\", \"\\u0e1b\\u0e38\\u0e23\\u0e30\", \"\\u0e1b\\u0e38\\u0e23\\u0e30\", \"\\u0e1b\\u0e38\\u0e23\\u0e30\", \"\\u0e1c\\u0e31\\u0e01\", \"\\u0e1c\\u0e31\\u0e01\", \"\\u0e1c\\u0e31\\u0e01\", \"\\u0e1c\\u0e31\\u0e01\", \"\\u0e1c\\u0e31\\u0e01\", \"\\u0e1c\\u0e31\\u0e01\", \"\\u0e1e\\u0e19\\u0e31\\u0e01\\u0e07\\u0e32\\u0e19\", \"\\u0e1e\\u0e19\\u0e31\\u0e01\\u0e07\\u0e32\\u0e19\", \"\\u0e1e\\u0e19\\u0e31\\u0e01\\u0e07\\u0e32\\u0e19\", \"\\u0e1e\\u0e19\\u0e31\\u0e01\\u0e07\\u0e32\\u0e19\", \"\\u0e1e\\u0e19\\u0e31\\u0e01\\u0e07\\u0e32\\u0e19\", \"\\u0e1e\\u0e34\\u0e0b\\u0e0b\\u0e48\\u0e32\", \"\\u0e1e\\u0e34\\u0e0b\\u0e0b\\u0e48\\u0e32\", \"\\u0e1e\\u0e34\\u0e0b\\u0e0b\\u0e48\\u0e32\", \"\\u0e1e\\u0e35\\u0e48\", \"\\u0e1f\\u0e35\", \"\\u0e1f\\u0e40\\u0e1f\\u0e48\", \"\\u0e1f\\u0e40\\u0e1f\\u0e48\", \"\\u0e21\", \"\\u0e21\", \"\\u0e21\", \"\\u0e21\", \"\\u0e21\\u0e2d\\u0e25\\u0e25\\u0e4c\", \"\\u0e21\\u0e2d\\u0e25\\u0e25\\u0e4c\", \"\\u0e21\\u0e2d\\u0e25\\u0e25\\u0e4c\", \"\\u0e22\", \"\\u0e22\\u0e31\\u0e07\\u0e21\\u0e35\", \"\\u0e22\\u0e37\\u0e19\", \"\\u0e22\\u0e39\", \"\\u0e23\\u0e2a\", \"\\u0e23\\u0e2a\", \"\\u0e23\\u0e2a\", \"\\u0e23\\u0e2a\", \"\\u0e23\\u0e2a\\u0e0a\\u0e32\\u0e15\\u0e34\", \"\\u0e23\\u0e2a\\u0e0a\\u0e32\\u0e15\\u0e34\", \"\\u0e23\\u0e2a\\u0e0a\\u0e32\\u0e15\\u0e34\", \"\\u0e23\\u0e2a\\u0e0a\\u0e32\\u0e15\\u0e34\", \"\\u0e23\\u0e2a\\u0e0a\\u0e32\\u0e15\\u0e34\", \"\\u0e23\\u0e2a\\u0e0a\\u0e32\\u0e15\\u0e34\", \"\\u0e23\\u0e2a\\u0e0a\\u0e32\\u0e15\\u0e34\", \"\\u0e23\\u0e2d\", \"\\u0e23\\u0e2d\", \"\\u0e23\\u0e32\\u0e04\\u0e32\", \"\\u0e23\\u0e32\\u0e04\\u0e32\", \"\\u0e23\\u0e32\\u0e04\\u0e32\", \"\\u0e23\\u0e32\\u0e04\\u0e32\", \"\\u0e23\\u0e32\\u0e04\\u0e32\", \"\\u0e23\\u0e32\\u0e04\\u0e32\", \"\\u0e23\\u0e32\\u0e04\\u0e32\", \"\\u0e23\\u0e32\\u0e22\\u0e25\\u0e30\\u0e40\\u0e2d\\u0e35\\u0e22\\u0e14\", \"\\u0e23\\u0e35\\u0e48\", \"\\u0e23\\u0e49\\u0e2d\\u0e22\", \"\\u0e25\", \"\\u0e25\\u0e2d\\u0e07\", \"\\u0e25\\u0e2d\\u0e07\", \"\\u0e25\\u0e2d\\u0e07\", \"\\u0e25\\u0e32\", \"\\u0e25\\u0e32\\u0e22\\u0e15\\u0e32\", \"\\u0e27\", \"\\u0e27\\u0e32\\u0e19\\u0e34\\u0e25\\u0e32\", \"\\u0e27\\u0e34\\u0e1b\", \"\\u0e2a\\u0e14\", \"\\u0e2a\\u0e14\", \"\\u0e2a\\u0e14\", \"\\u0e2a\\u0e14\\u0e46 \\u0e23\\u0e49\\u0e2d\\u0e19\\u0e46\", \"\\u0e2a\\u0e15\\u0e2d\", \"\\u0e2a\\u0e1a\\u0e32\\u0e22\\u0e14\\u0e35\", \"\\u0e2a\\u0e21\\u0e23\\u0e32\\u0e04\\u0e32\", \"\\u0e2a\\u0e27\\u0e22\", \"\\u0e2a\\u0e31\\u0e48\\u0e07\", \"\\u0e2a\\u0e31\\u0e48\\u0e07\", \"\\u0e2a\\u0e31\\u0e48\\u0e07\", \"\\u0e2a\\u0e31\\u0e48\\u0e07\", \"\\u0e2a\\u0e31\\u0e48\\u0e07\", \"\\u0e2a\\u0e32\\u0e02\\u0e32\", \"\\u0e2a\\u0e32\\u0e02\\u0e32\", \"\\u0e2a\\u0e32\\u0e02\\u0e32\", \"\\u0e2a\\u0e32\\u0e02\\u0e32\", \"\\u0e2a\\u0e32\\u0e02\\u0e32\", \"\\u0e2a\\u0e32\\u0e02\\u0e32\", \"\\u0e2a\\u0e32\\u0e22\\u0e1e\\u0e32\\u0e19\", \"\\u0e2a\\u0e32\\u0e22\\u0e1e\\u0e32\\u0e19\", \"\\u0e2a\\u0e32\\u0e22\\u0e1e\\u0e32\\u0e19\", \"\\u0e2a\\u0e32\\u0e22\\u0e1e\\u0e32\\u0e19\", \"\\u0e2a\\u0e32\\u0e22\\u0e1e\\u0e32\\u0e19\", \"\\u0e2a\\u0e33\\u0e2b\\u0e23\\u0e31\\u0e1a\", \"\\u0e2a\\u0e33\\u0e2b\\u0e23\\u0e31\\u0e1a\", \"\\u0e2a\\u0e38\\u0e01\\u0e35\\u0e49\", \"\\u0e2a\\u0e44\\u0e1b\\u0e23\\u0e17\\u0e4c\", \"\\u0e2a\\u0e44\\u0e25\\u0e14\\u0e4c\", \"\\u0e2b\\u0e19\\u0e49\\u0e32\", \"\\u0e2b\\u0e19\\u0e49\\u0e32\", \"\\u0e2b\\u0e19\\u0e49\\u0e32\", \"\\u0e2b\\u0e19\\u0e49\\u0e32\", \"\\u0e2b\\u0e21\\u0e39\", \"\\u0e2b\\u0e21\\u0e39\", \"\\u0e2b\\u0e21\\u0e39\", \"\\u0e2b\\u0e21\\u0e39\", \"\\u0e2b\\u0e21\\u0e39\", \"\\u0e2b\\u0e21\\u0e49\\u0e2d\", \"\\u0e2b\\u0e21\\u0e49\\u0e2d\", \"\\u0e2b\\u0e22\\u0e34\\u0e1a\", \"\\u0e2b\\u0e22\\u0e34\\u0e1a\", \"\\u0e2b\\u0e22\\u0e34\\u0e1a\", \"\\u0e2b\\u0e25\\u0e31\\u0e07\\u0e08\\u0e32\\u0e01\\u0e17\\u0e35\\u0e48\", \"\\u0e2b\\u0e25\\u0e32\\u0e01\\u0e2b\\u0e25\\u0e32\\u0e22\", \"\\u0e2b\\u0e25\\u0e32\\u0e01\\u0e2b\\u0e25\\u0e32\\u0e22\", \"\\u0e2b\\u0e25\\u0e48\\u0e30\", \"\\u0e2b\\u0e27\\u0e32\\u0e19\", \"\\u0e2b\\u0e27\\u0e32\\u0e19\", \"\\u0e2b\\u0e2d\\u0e21\", \"\\u0e2b\\u0e34\\u0e27\", \"\\u0e2b\\u0e49\\u0e32\\u0e07\", \"\\u0e2b\\u0e49\\u0e32\\u0e07\", \"\\u0e2d\\u0e21\", \"\\u0e2d\\u0e22\\u0e39\\u0e48\\u0e41\\u0e25\\u0e49\\u0e27\", \"\\u0e2d\\u0e23\\u0e48\\u0e2d\\u0e22\", \"\\u0e2d\\u0e23\\u0e48\\u0e2d\\u0e22\", \"\\u0e2d\\u0e23\\u0e48\\u0e2d\\u0e22\", \"\\u0e2d\\u0e23\\u0e48\\u0e2d\\u0e22\", \"\\u0e2d\\u0e23\\u0e48\\u0e2d\\u0e22\", \"\\u0e2d\\u0e23\\u0e48\\u0e2d\\u0e22\", \"\\u0e2d\\u0e23\\u0e48\\u0e2d\\u0e22\", \"\\u0e2d\\u0e2d\", \"\\u0e2d\\u0e31\\u0e1e\\u0e40\\u0e14\\u0e17\", \"\\u0e2d\\u0e32\\u0e2b\\u0e32\\u0e23\", \"\\u0e2d\\u0e32\\u0e2b\\u0e32\\u0e23\", \"\\u0e2d\\u0e32\\u0e2b\\u0e32\\u0e23\", \"\\u0e2d\\u0e32\\u0e2b\\u0e32\\u0e23\", \"\\u0e2d\\u0e32\\u0e2b\\u0e32\\u0e23\", \"\\u0e2d\\u0e32\\u0e2b\\u0e32\\u0e23\", \"\\u0e2d\\u0e32\\u0e2b\\u0e32\\u0e23\", \"\\u0e2d\\u0e35\\u0e01\\u0e04\\u0e23\\u0e31\\u0e49\\u0e07\", \"\\u0e40\", \"\\u0e40\\u0e01\\u0e34\\u0e19\\u0e44\\u0e1b\", \"\\u0e40\\u0e04\\u0e47\\u0e21\", \"\\u0e40\\u0e07\\u0e34\\u0e19\\u0e2a\\u0e14\", \"\\u0e40\\u0e0a\\u0e47\\u0e04\\u0e1a\\u0e34\\u0e25\", \"\\u0e40\\u0e0b\\u0e15\", \"\\u0e40\\u0e0b\\u0e47\\u0e17\", \"\\u0e40\\u0e14\\u0e2d\\u0e30\", \"\\u0e40\\u0e14\\u0e2d\\u0e30\", \"\\u0e40\\u0e14\\u0e2d\\u0e30\", \"\\u0e40\\u0e14\\u0e2d\\u0e30\", \"\\u0e40\\u0e14\\u0e2d\\u0e30\", \"\\u0e40\\u0e14\\u0e47\\u0e01\", \"\\u0e40\\u0e14\\u0e47\\u0e14\", \"\\u0e40\\u0e14\\u0e49\\u0e07\", \"\\u0e40\\u0e15\\u0e47\\u0e21\", \"\\u0e40\\u0e17\", \"\\u0e40\\u0e17\", \"\\u0e40\\u0e17\", \"\\u0e40\\u0e17\", \"\\u0e40\\u0e19\\u0e37\\u0e49\\u0e2d\", \"\\u0e40\\u0e19\\u0e37\\u0e49\\u0e2d\", \"\\u0e40\\u0e19\\u0e37\\u0e49\\u0e2d\", \"\\u0e40\\u0e19\\u0e37\\u0e49\\u0e2d\", \"\\u0e40\\u0e19\\u0e37\\u0e49\\u0e2d\", \"\\u0e40\\u0e19\\u0e37\\u0e49\\u0e2d\", \"\\u0e40\\u0e19\\u0e37\\u0e49\\u0e2d\", \"\\u0e40\\u0e19\\u0e37\\u0e49\\u0e2d\\u0e27\\u0e31\\u0e27\", \"\\u0e40\\u0e19\\u0e37\\u0e49\\u0e2d\\u0e27\\u0e31\\u0e27\", \"\\u0e40\\u0e1e\\u0e25\\u0e34\\u0e19\", \"\\u0e40\\u0e1e\\u0e37\\u0e48\\u0e2d\\u0e19\", \"\\u0e40\\u0e21\\u0e19\\u0e39\", \"\\u0e40\\u0e21\\u0e19\\u0e39\", \"\\u0e40\\u0e21\\u0e19\\u0e39\", \"\\u0e40\\u0e21\\u0e19\\u0e39\", \"\\u0e40\\u0e21\\u0e19\\u0e39\", \"\\u0e40\\u0e21\\u0e19\\u0e39\", \"\\u0e40\\u0e23\\u0e22\", \"\\u0e40\\u0e25\\u0e35\\u0e48\\u0e22\\u0e19\", \"\\u0e40\\u0e25\\u0e37\\u0e2d\\u0e01\", \"\\u0e40\\u0e25\\u0e37\\u0e2d\\u0e01\", \"\\u0e40\\u0e25\\u0e37\\u0e2d\\u0e01\", \"\\u0e40\\u0e25\\u0e37\\u0e2d\\u0e01\", \"\\u0e40\\u0e25\\u0e37\\u0e2d\\u0e01\", \"\\u0e40\\u0e25\\u0e37\\u0e2d\\u0e01\", \"\\u0e40\\u0e25\\u0e37\\u0e2d\\u0e01\", \"\\u0e40\\u0e27\\u0e25\\u0e32\", \"\\u0e40\\u0e2a\\u0e32\\u0e23\\u0e4c\", \"\\u0e40\\u0e2a\\u0e34\\u0e23\\u0e4c\\u0e1f\", \"\\u0e40\\u0e2a\\u0e49\\u0e19\", \"\\u0e40\\u0e2b\\u0e21\\u0e32\\u0e30\\u0e2a\\u0e21\", \"\\u0e40\\u0e2b\\u0e21\\u0e37\\u0e2d\\u0e19\\u0e01\\u0e31\\u0e1a\", \"\\u0e40\\u0e2b\\u0e47\\u0e14\", \"\\u0e40\\u0e40\\u0e1a\\u0e1a\", \"\\u0e41\\u0e01\\u0e07\\u0e40\\u0e02\\u0e35\\u0e22\\u0e27\\u0e2b\\u0e27\\u0e32\\u0e19\", \"\\u0e41\\u0e04\\u0e1a\", \"\\u0e41\\u0e19\\u0e30\\u0e19\\u0e33\", \"\\u0e41\\u0e1a\\u0e1a\\u0e19\\u0e35\\u0e49\", \"\\u0e41\\u0e1f\\u0e19\", \"\\u0e42\\u0e0a\\u0e04\", \"\\u0e42\\u0e14\\u0e19\", \"\\u0e42\\u0e14\\u0e22\\u0e40\\u0e09\\u0e1e\\u0e32\\u0e30\", \"\\u0e42\\u0e21\", \"\\u0e42\\u0e21\", \"\\u0e42\\u0e21\", \"\\u0e42\\u0e2b\\u0e14\", \"\\u0e42\\u0e2d\\u0e40\\u0e04\", \"\\u0e42\\u0e2d\\u0e40\\u0e04\", \"\\u0e42\\u0e2d\\u0e40\\u0e04\", \"\\u0e43\\u0e08\\u0e14\\u0e35\", \"\\u0e43\\u0e0a\\u0e49\\u0e44\\u0e14\\u0e49\", \"\\u0e44\\u0e01\\u0e48\", \"\\u0e44\\u0e01\\u0e48\", \"\\u0e44\\u0e14\\u0e1f\\u0e39\\u0e01\\u0e38\", \"\\u0e44\\u0e14\\u0e49\\u0e01\\u0e25\\u0e34\\u0e48\\u0e19\", \"\\u0e44\\u0e1c\\u0e48\", \"\\u0e44\\u0e21\\u0e49\", \"\\u0e44\\u0e27\", \"\\u0e44\\u0e2d\\u0e15\\u0e34\\u0e21\", \"\\u0e44\\u0e2d\\u0e15\\u0e34\\u0e21\", \"\\u0e44\\u0e2d\\u0e15\\u0e34\\u0e21\", \"\\u0e44\\u0e2d\\u0e15\\u0e34\\u0e21\", \"\\u0e44\\u0e2d\\u0e15\\u0e34\\u0e21\", \"\\u0e44\\u0e2d\\u0e28\\u0e01\\u0e23\\u0e35\\u0e21\", \"\\u0e44\\u0e2d\\u0e28\\u0e01\\u0e23\\u0e35\\u0e21\", \"\\u200b\"]}, \"R\": 30, \"lambda.step\": 0.01, \"plot.opts\": {\"xlab\": \"PC1\", \"ylab\": \"PC2\"}, \"topic.order\": [3, 1, 5, 7, 4, 6, 2]};\n",
              "\n",
              "function LDAvis_load_lib(url, callback){\n",
              "  var s = document.createElement('script');\n",
              "  s.src = url;\n",
              "  s.async = true;\n",
              "  s.onreadystatechange = s.onload = callback;\n",
              "  s.onerror = function(){console.warn(\"failed to load library \" + url);};\n",
              "  document.getElementsByTagName(\"head\")[0].appendChild(s);\n",
              "}\n",
              "\n",
              "if(typeof(LDAvis) !== \"undefined\"){\n",
              "   // already loaded: just create the visualization\n",
              "   !function(LDAvis){\n",
              "       new LDAvis(\"#\" + \"ldavis_el5551404689116991521123149755\", ldavis_el5551404689116991521123149755_data);\n",
              "   }(LDAvis);\n",
              "}else if(typeof define === \"function\" && define.amd){\n",
              "   // require.js is available: use it to load d3/LDAvis\n",
              "   require.config({paths: {d3: \"https://d3js.org/d3.v5\"}});\n",
              "   require([\"d3\"], function(d3){\n",
              "      window.d3 = d3;\n",
              "      LDAvis_load_lib(\"https://cdn.jsdelivr.net/gh/bmabey/pyLDAvis@3.3.1/pyLDAvis/js/ldavis.v3.0.0.js\", function(){\n",
              "        new LDAvis(\"#\" + \"ldavis_el5551404689116991521123149755\", ldavis_el5551404689116991521123149755_data);\n",
              "      });\n",
              "    });\n",
              "}else{\n",
              "    // require.js not available: dynamically load d3 & LDAvis\n",
              "    LDAvis_load_lib(\"https://d3js.org/d3.v5.js\", function(){\n",
              "         LDAvis_load_lib(\"https://cdn.jsdelivr.net/gh/bmabey/pyLDAvis@3.3.1/pyLDAvis/js/ldavis.v3.0.0.js\", function(){\n",
              "                 new LDAvis(\"#\" + \"ldavis_el5551404689116991521123149755\", ldavis_el5551404689116991521123149755_data);\n",
              "            })\n",
              "         });\n",
              "}\n",
              "</script>"
            ],
            "text/plain": [
              "PreparedData(topic_coordinates=              x         y  topics  cluster       Freq\n",
              "topic                                                \n",
              "2      0.084481 -0.001622       1        1  28.383314\n",
              "0     -0.042246  0.065322       2        1  18.880703\n",
              "4     -0.054056 -0.054761       3        1  18.409601\n",
              "6      0.012365 -0.009165       4        1  16.728577\n",
              "3     -0.003665 -0.005186       5        1   8.679056\n",
              "5      0.003245  0.009342       6        1   5.362468\n",
              "1     -0.000125 -0.003932       7        1   3.556280, topic_info=        Term       Freq      Total Category  logprob  loglift\n",
              "92         :  10.000000  10.000000  Default  30.0000  30.0000\n",
              "49         ​   6.000000   6.000000  Default  29.0000  29.0000\n",
              "118      ทาน  23.000000  23.000000  Default  28.0000  28.0000\n",
              "0             29.000000  29.000000  Default  27.0000  27.0000\n",
              "59      ชาบู  19.000000  19.000000  Default  26.0000  26.0000\n",
              "..       ...        ...        ...      ...      ...      ...\n",
              "1          1   0.326404   5.353380   Topic7  -5.0556   0.5391\n",
              "11       ซุป   0.371809  15.700872   Topic7  -4.9253  -0.4066\n",
              "406     เวลา   0.285915   4.717234   Topic7  -5.1880   0.5332\n",
              "76      สาขา   0.306830  11.545584   Topic7  -5.1174  -0.2913\n",
              "97   ของหวาน   0.261805   9.100089   Topic7  -5.2761  -0.2120\n",
              "\n",
              "[455 rows x 6 columns], token_table=      Topic      Freq     Term\n",
              "term                          \n",
              "0         1  0.448050         \n",
              "0         2  0.137861         \n",
              "0         3  0.103396         \n",
              "0         4  0.137861         \n",
              "0         5  0.068931         \n",
              "...     ...       ...      ...\n",
              "48        4  0.120214    ไอติม\n",
              "48        5  0.120214    ไอติม\n",
              "184       1  0.326730  ไอศกรีม\n",
              "184       3  0.326730  ไอศกรีม\n",
              "49        4  0.859024        ​\n",
              "\n",
              "[476 rows x 3 columns], R=30, lambda_step=0.01, plot_opts={'xlab': 'PC1', 'ylab': 'PC2'}, topic_order=[3, 1, 5, 7, 4, 6, 2])"
            ]
          },
          "metadata": {
            "tags": []
          },
          "execution_count": 16
        }
      ]
    },
    {
      "cell_type": "markdown",
      "metadata": {
        "id": "2VR0JEgfPbym"
      },
      "source": [
        "## Topic Show"
      ]
    },
    {
      "cell_type": "code",
      "metadata": {
        "colab": {
          "base_uri": "https://localhost:8080/"
        },
        "id": "MvrKE2MCcVOV",
        "outputId": "8660d89f-fea4-4bed-b650-244e03a9e6e3"
      },
      "source": [
        "model.show_topic(1)"
      ],
      "execution_count": null,
      "outputs": [
        {
          "output_type": "execute_result",
          "data": {
            "text/plain": [
              "[('', 0.01908904),\n",
              " ('กิน', 0.018124036),\n",
              " ('ดี', 0.017621113),\n",
              " ('สาขา', 0.016667984),\n",
              " ('ชาบู', 0.011929811),\n",
              " ('คน', 0.011794802),\n",
              " ('เนื้อ', 0.011679506),\n",
              " ('ราคา', 0.011317473),\n",
              " ('รอ', 0.010524161),\n",
              " ('อาหาร', 0.010441828)]"
            ]
          },
          "metadata": {
            "tags": []
          },
          "execution_count": 35
        }
      ]
    },
    {
      "cell_type": "code",
      "metadata": {
        "colab": {
          "base_uri": "https://localhost:8080/"
        },
        "id": "lsUffay7eNhS",
        "outputId": "e6156af3-04b7-4f34-b44f-a448b3bcd101"
      },
      "source": [
        "model.show_topic(2)"
      ],
      "execution_count": null,
      "outputs": [
        {
          "output_type": "execute_result",
          "data": {
            "text/plain": [
              "[('', 0.03140249),\n",
              " ('เนื้อ', 0.019989336),\n",
              " ('อร่อย', 0.018415665),\n",
              " ('ทาน', 0.018414449),\n",
              " ('ชาบู', 0.01783142),\n",
              " ('ราคา', 0.0172798),\n",
              " ('น้ำ', 0.014933001),\n",
              " ('กิน', 0.013772932),\n",
              " ('เลือก', 0.013204391),\n",
              " ('สั่ง', 0.012657717)]"
            ]
          },
          "metadata": {
            "tags": []
          },
          "execution_count": 36
        }
      ]
    },
    {
      "cell_type": "code",
      "metadata": {
        "colab": {
          "base_uri": "https://localhost:8080/"
        },
        "id": "dDbzW-AOeLa6",
        "outputId": "693da712-50e7-4775-91d7-19891b1f6531"
      },
      "source": [
        "model.show_topic(3)"
      ],
      "execution_count": null,
      "outputs": [
        {
          "output_type": "execute_result",
          "data": {
            "text/plain": [
              "[('น้ำ', 0.030860784),\n",
              " ('', 0.02526072),\n",
              " ('ซุป', 0.02282608),\n",
              " ('ทาน', 0.017356053),\n",
              " ('ชาบู', 0.016915794),\n",
              " ('รสชาติ', 0.015949024),\n",
              " ('เนื้อ', 0.01494961),\n",
              " ('ราคา', 0.014713326),\n",
              " (':', 0.013837083),\n",
              " ('อร่อย', 0.013763743)]"
            ]
          },
          "metadata": {
            "tags": []
          },
          "execution_count": 39
        }
      ]
    },
    {
      "cell_type": "code",
      "metadata": {
        "id": "WMZk6qg3dEKV"
      },
      "source": [
        "df['topics'] = df['Review_tokenized'].apply(lambda x: model.get_document_topics(dictionary.doc2bow(x.split(',')))[0][0])\n",
        "df['score'] = df['Review_tokenized'].apply(lambda x: model.get_document_topics(dictionary.doc2bow(x.split(',')))[0][1])"
      ],
      "execution_count": null,
      "outputs": []
    },
    {
      "cell_type": "markdown",
      "metadata": {
        "id": "ihLUAyvCPg8p"
      },
      "source": [
        "## Voice Customer in Restaurant"
      ]
    },
    {
      "cell_type": "code",
      "metadata": {
        "colab": {
          "base_uri": "https://localhost:8080/",
          "height": 692
        },
        "id": "ETG6cSNWdKHm",
        "outputId": "f694ad74-23b8-49c4-9ee3-ac0183b737be"
      },
      "source": [
        "df[['Restaurant', 'Review', 'topics']]"
      ],
      "execution_count": null,
      "outputs": [
        {
          "output_type": "execute_result",
          "data": {
            "text/html": [
              "<div>\n",
              "<style scoped>\n",
              "    .dataframe tbody tr th:only-of-type {\n",
              "        vertical-align: middle;\n",
              "    }\n",
              "\n",
              "    .dataframe tbody tr th {\n",
              "        vertical-align: top;\n",
              "    }\n",
              "\n",
              "    .dataframe thead th {\n",
              "        text-align: right;\n",
              "    }\n",
              "</style>\n",
              "<table border=\"1\" class=\"dataframe\">\n",
              "  <thead>\n",
              "    <tr style=\"text-align: right;\">\n",
              "      <th></th>\n",
              "      <th>Restaurant</th>\n",
              "      <th>Review</th>\n",
              "      <th>topics</th>\n",
              "    </tr>\n",
              "  </thead>\n",
              "  <tbody>\n",
              "    <tr>\n",
              "      <th>0</th>\n",
              "      <td>Mo-Mo-Paradise (โม โม พาราไดซ์) เดอะมอลล์ บางกะปิ</td>\n",
              "      <td>ที่สำคัญของร้านนี้คือบริการดีมากพนักงานน่ารักส...</td>\n",
              "      <td>4</td>\n",
              "    </tr>\n",
              "    <tr>\n",
              "      <th>1</th>\n",
              "      <td>Mo-Mo-Paradise (โม โม พาราไดซ์) เดอะมอลล์ บางกะปิ</td>\n",
              "      <td>นึกถึงชาบูญี่ปุ่นยังไงก็ต้อง คิดถึงโมโม่ พาราไ...</td>\n",
              "      <td>1</td>\n",
              "    </tr>\n",
              "    <tr>\n",
              "      <th>2</th>\n",
              "      <td>Mo-Mo-Paradise (โม โม พาราไดซ์) เดอะมอลล์ บางกะปิ</td>\n",
              "      <td>มาทานช่วงนี้ สามารถนั่งโต๊ะเดียวกัน หม้อเดียวก...</td>\n",
              "      <td>3</td>\n",
              "    </tr>\n",
              "    <tr>\n",
              "      <th>3</th>\n",
              "      <td>Mo-Mo-Paradise (โม โม พาราไดซ์) เดอะมอลล์ บางกะปิ</td>\n",
              "      <td>ถ้านึกถึงชาบูที่มีเนื้อเน้นๆ ในราคาไม่โหดจนเกิ...</td>\n",
              "      <td>2</td>\n",
              "    </tr>\n",
              "    <tr>\n",
              "      <th>4</th>\n",
              "      <td>Mo-Mo-Paradise (โม โม พาราไดซ์) เดอะมอลล์ บางกะปิ</td>\n",
              "      <td>เดินมาหน้าร้านแล้วได้กลิ่นชาบูหอมมาก ๆ  ประกอบ...</td>\n",
              "      <td>2</td>\n",
              "    </tr>\n",
              "    <tr>\n",
              "      <th>5</th>\n",
              "      <td>Mo-Mo-Paradise (โม โม พาราไดซ์) เดอะมอลล์ บางกะปิ</td>\n",
              "      <td>ร้านบุฟเฟ่ ชาบูแนวญี่ปุ่น สายเนื้อหมู เนื้อวัว...</td>\n",
              "      <td>5</td>\n",
              "    </tr>\n",
              "    <tr>\n",
              "      <th>6</th>\n",
              "      <td>Mo-Mo-Paradise (โม โม พาราไดซ์) เดอะมอลล์ บางกะปิ</td>\n",
              "      <td>Number 20 : โมโม – พาราไดส์ (สาขาเดอะมอลบางกะป...</td>\n",
              "      <td>6</td>\n",
              "    </tr>\n",
              "    <tr>\n",
              "      <th>7</th>\n",
              "      <td>Mo-Mo-Paradise (โม โม พาราไดซ์) เดอะมอลล์ บางกะปิ</td>\n",
              "      <td>ร้านชาบูเฟรนไชส์รสชาติดีมากคุ้มค่าเหมาะสมกับรา...</td>\n",
              "      <td>3</td>\n",
              "    </tr>\n",
              "    <tr>\n",
              "      <th>8</th>\n",
              "      <td>Shabushi (ชาบูชิ) เดอะมอลล์บางกะปิ ชั้น G</td>\n",
              "      <td>มา านที่ขาบูชิต้องมาตอนหิว ไม่งั้นจะไม่คุ้มนะค...</td>\n",
              "      <td>0</td>\n",
              "    </tr>\n",
              "    <tr>\n",
              "      <th>9</th>\n",
              "      <td>Shabushi (ชาบูชิ) เดอะมอลล์บางกะปิ ชั้น G</td>\n",
              "      <td>ใครชอบกุ้งทอดเทมปุระ แค่กุ้งเทมปุระก็คุ้มแล้ว ...</td>\n",
              "      <td>4</td>\n",
              "    </tr>\n",
              "    <tr>\n",
              "      <th>10</th>\n",
              "      <td>Shabushi (ชาบูชิ) เดอะมอลล์บางกะปิ ชั้น G</td>\n",
              "      <td>กลับมาอัพเดทราคาชาบูชิ ตอนนี้อยู่ที่ 399 บาท n...</td>\n",
              "      <td>2</td>\n",
              "    </tr>\n",
              "    <tr>\n",
              "      <th>11</th>\n",
              "      <td>Shabushi (ชาบูชิ) เดอะมอลล์บางกะปิ ชั้น G</td>\n",
              "      <td>ห่างหายไปนานสำหรับชาบูชิ ตั้งแต่ทางร้านได้ปรับ...</td>\n",
              "      <td>0</td>\n",
              "    </tr>\n",
              "    <tr>\n",
              "      <th>12</th>\n",
              "      <td>Shabushi (ชาบูชิ) เดอะมอลล์บางกะปิ ชั้น G</td>\n",
              "      <td>เมื่อหลายวันก่อนนัดหาข้าวทานกับเดอะแกงค์ และก็...</td>\n",
              "      <td>0</td>\n",
              "    </tr>\n",
              "    <tr>\n",
              "      <th>13</th>\n",
              "      <td>Shabushi (ชาบูชิ) เดอะมอลล์บางกะปิ ชั้น G</td>\n",
              "      <td>บอกตรงๆว่าหลายครั้งที่เลือกจะกินบุฟเฟต์จะต้องอ...</td>\n",
              "      <td>1</td>\n",
              "    </tr>\n",
              "    <tr>\n",
              "      <th>14</th>\n",
              "      <td>Shabushi (ชาบูชิ) เดอะมอลล์บางกะปิ ชั้น G</td>\n",
              "      <td>สวัสดีครับวันนี้จะขอมารีวิวร้านชาบูชิ บุฟเฟขวั...</td>\n",
              "      <td>6</td>\n",
              "    </tr>\n",
              "    <tr>\n",
              "      <th>15</th>\n",
              "      <td>Shabushi (ชาบูชิ) เดอะมอลล์บางกะปิ ชั้น G</td>\n",
              "      <td>ชาบูชิ สาขาเดอะมอลล์บางกะปิ ตั้งอยู่ประตูหน้าห...</td>\n",
              "      <td>6</td>\n",
              "    </tr>\n",
              "    <tr>\n",
              "      <th>16</th>\n",
              "      <td>ข้าน้อยขอชาบู</td>\n",
              "      <td>หลังจากที่เคยลองสาขายูเนี่ยนมอลล์ไป รอบนี้มาที...</td>\n",
              "      <td>3</td>\n",
              "    </tr>\n",
              "    <tr>\n",
              "      <th>17</th>\n",
              "      <td>ข้าน้อยขอชาบู</td>\n",
              "      <td>ร้านบุฟเฟ่ต์ที่มีโปรโมชั่นหัวละ199บาท ไม่รวมน้...</td>\n",
              "      <td>6</td>\n",
              "    </tr>\n",
              "    <tr>\n",
              "      <th>18</th>\n",
              "      <td>ข้าน้อยขอชาบู</td>\n",
              "      <td>เคยรู้จักร้านนี้จากที่ union mall ไม่เคยได้ลอง...</td>\n",
              "      <td>5</td>\n",
              "    </tr>\n",
              "    <tr>\n",
              "      <th>19</th>\n",
              "      <td>ข้าน้อยขอชาบู</td>\n",
              "      <td>อร่อยมากค่ะ คุ้มค่าสมราคา บุฟเฟ่หมูผักต่างๆ รว...</td>\n",
              "      <td>4</td>\n",
              "    </tr>\n",
              "    <tr>\n",
              "      <th>20</th>\n",
              "      <td>ข้าน้อยขอชาบู</td>\n",
              "      <td>ก็ตามที่เขียนเลยครับ ว่า ถ้าจะจ่ายในราคา 199 บ...</td>\n",
              "      <td>2</td>\n",
              "    </tr>\n",
              "  </tbody>\n",
              "</table>\n",
              "</div>"
            ],
            "text/plain": [
              "                                           Restaurant  ... topics\n",
              "0   Mo-Mo-Paradise (โม โม พาราไดซ์) เดอะมอลล์ บางกะปิ  ...      4\n",
              "1   Mo-Mo-Paradise (โม โม พาราไดซ์) เดอะมอลล์ บางกะปิ  ...      1\n",
              "2   Mo-Mo-Paradise (โม โม พาราไดซ์) เดอะมอลล์ บางกะปิ  ...      3\n",
              "3   Mo-Mo-Paradise (โม โม พาราไดซ์) เดอะมอลล์ บางกะปิ  ...      2\n",
              "4   Mo-Mo-Paradise (โม โม พาราไดซ์) เดอะมอลล์ บางกะปิ  ...      2\n",
              "5   Mo-Mo-Paradise (โม โม พาราไดซ์) เดอะมอลล์ บางกะปิ  ...      5\n",
              "6   Mo-Mo-Paradise (โม โม พาราไดซ์) เดอะมอลล์ บางกะปิ  ...      6\n",
              "7   Mo-Mo-Paradise (โม โม พาราไดซ์) เดอะมอลล์ บางกะปิ  ...      3\n",
              "8           Shabushi (ชาบูชิ) เดอะมอลล์บางกะปิ ชั้น G  ...      0\n",
              "9           Shabushi (ชาบูชิ) เดอะมอลล์บางกะปิ ชั้น G  ...      4\n",
              "10          Shabushi (ชาบูชิ) เดอะมอลล์บางกะปิ ชั้น G  ...      2\n",
              "11          Shabushi (ชาบูชิ) เดอะมอลล์บางกะปิ ชั้น G  ...      0\n",
              "12          Shabushi (ชาบูชิ) เดอะมอลล์บางกะปิ ชั้น G  ...      0\n",
              "13          Shabushi (ชาบูชิ) เดอะมอลล์บางกะปิ ชั้น G  ...      1\n",
              "14          Shabushi (ชาบูชิ) เดอะมอลล์บางกะปิ ชั้น G  ...      6\n",
              "15          Shabushi (ชาบูชิ) เดอะมอลล์บางกะปิ ชั้น G  ...      6\n",
              "16                                      ข้าน้อยขอชาบู  ...      3\n",
              "17                                      ข้าน้อยขอชาบู  ...      6\n",
              "18                                      ข้าน้อยขอชาบู  ...      5\n",
              "19                                      ข้าน้อยขอชาบู  ...      4\n",
              "20                                      ข้าน้อยขอชาบู  ...      2\n",
              "\n",
              "[21 rows x 3 columns]"
            ]
          },
          "metadata": {
            "tags": []
          },
          "execution_count": 40
        }
      ]
    }
  ]
}